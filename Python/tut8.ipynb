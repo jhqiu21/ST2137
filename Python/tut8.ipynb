{
 "cells": [
  {
   "cell_type": "markdown",
   "id": "76ba25a8",
   "metadata": {},
   "source": [
    "## Tutorial 8"
   ]
  },
  {
   "cell_type": "code",
   "execution_count": null,
   "id": "2ab556ae",
   "metadata": {},
   "outputs": [],
   "source": [
    "import numpy as np\n",
    "import pandas as pd\n",
    "from scipy import stats\n",
    "import statsmodels.api as sm\n",
    "\n",
    "path = \"../src/\""
   ]
  },
  {
   "cell_type": "markdown",
   "id": "277ec923",
   "metadata": {},
   "source": [
    "## Question 1"
   ]
  },
  {
   "cell_type": "code",
   "execution_count": 15,
   "id": "fefee2a0",
   "metadata": {},
   "outputs": [
    {
     "data": {
      "text/html": [
       "<div>\n",
       "<style scoped>\n",
       "    .dataframe tbody tr th:only-of-type {\n",
       "        vertical-align: middle;\n",
       "    }\n",
       "\n",
       "    .dataframe tbody tr th {\n",
       "        vertical-align: top;\n",
       "    }\n",
       "\n",
       "    .dataframe thead th {\n",
       "        text-align: right;\n",
       "    }\n",
       "</style>\n",
       "<table border=\"1\" class=\"dataframe\">\n",
       "  <thead>\n",
       "    <tr style=\"text-align: right;\">\n",
       "      <th></th>\n",
       "      <th>magazine</th>\n",
       "      <th>current</th>\n",
       "      <th>lastyear</th>\n",
       "    </tr>\n",
       "  </thead>\n",
       "  <tbody>\n",
       "    <tr>\n",
       "      <th>0</th>\n",
       "      <td>Business Week</td>\n",
       "      <td>88.36</td>\n",
       "      <td>118.03</td>\n",
       "    </tr>\n",
       "    <tr>\n",
       "      <th>1</th>\n",
       "      <td>The Economist</td>\n",
       "      <td>48.00</td>\n",
       "      <td>65.00</td>\n",
       "    </tr>\n",
       "    <tr>\n",
       "      <th>2</th>\n",
       "      <td>Newsweek</td>\n",
       "      <td>17.73</td>\n",
       "      <td>42.78</td>\n",
       "    </tr>\n",
       "    <tr>\n",
       "      <th>3</th>\n",
       "      <td>The New Republic</td>\n",
       "      <td>9.33</td>\n",
       "      <td>10.47</td>\n",
       "    </tr>\n",
       "    <tr>\n",
       "      <th>4</th>\n",
       "      <td>Time</td>\n",
       "      <td>19.46</td>\n",
       "      <td>71.37</td>\n",
       "    </tr>\n",
       "    <tr>\n",
       "      <th>5</th>\n",
       "      <td>US News &amp; World Report</td>\n",
       "      <td>11.00</td>\n",
       "      <td>38.09</td>\n",
       "    </tr>\n",
       "    <tr>\n",
       "      <th>6</th>\n",
       "      <td>The Weekly Standard</td>\n",
       "      <td>10.00</td>\n",
       "      <td>14.00</td>\n",
       "    </tr>\n",
       "    <tr>\n",
       "      <th>7</th>\n",
       "      <td>Auto Week</td>\n",
       "      <td>25.41</td>\n",
       "      <td>22.33</td>\n",
       "    </tr>\n",
       "    <tr>\n",
       "      <th>8</th>\n",
       "      <td>Entertainment Weekly</td>\n",
       "      <td>36.00</td>\n",
       "      <td>29.36</td>\n",
       "    </tr>\n",
       "    <tr>\n",
       "      <th>9</th>\n",
       "      <td>Golf World</td>\n",
       "      <td>33.67</td>\n",
       "      <td>14.32</td>\n",
       "    </tr>\n",
       "    <tr>\n",
       "      <th>10</th>\n",
       "      <td>New York</td>\n",
       "      <td>44.00</td>\n",
       "      <td>88.80</td>\n",
       "    </tr>\n",
       "    <tr>\n",
       "      <th>11</th>\n",
       "      <td>People</td>\n",
       "      <td>55.73</td>\n",
       "      <td>85.62</td>\n",
       "    </tr>\n",
       "    <tr>\n",
       "      <th>12</th>\n",
       "      <td>The Sporting News</td>\n",
       "      <td>7.70</td>\n",
       "      <td>7.00</td>\n",
       "    </tr>\n",
       "    <tr>\n",
       "      <th>13</th>\n",
       "      <td>Sports Illustrated</td>\n",
       "      <td>38.14</td>\n",
       "      <td>74.70</td>\n",
       "    </tr>\n",
       "    <tr>\n",
       "      <th>14</th>\n",
       "      <td>The New Yorker</td>\n",
       "      <td>27.37</td>\n",
       "      <td>33.53</td>\n",
       "    </tr>\n",
       "    <tr>\n",
       "      <th>15</th>\n",
       "      <td>TV Guide</td>\n",
       "      <td>82.02</td>\n",
       "      <td>41.44</td>\n",
       "    </tr>\n",
       "    <tr>\n",
       "      <th>16</th>\n",
       "      <td>US Weekly</td>\n",
       "      <td>38.33</td>\n",
       "      <td>20.00</td>\n",
       "    </tr>\n",
       "    <tr>\n",
       "      <th>17</th>\n",
       "      <td>Parade</td>\n",
       "      <td>9.63</td>\n",
       "      <td>13.04</td>\n",
       "    </tr>\n",
       "    <tr>\n",
       "      <th>18</th>\n",
       "      <td>USA Weekend</td>\n",
       "      <td>8.00</td>\n",
       "      <td>10.75</td>\n",
       "    </tr>\n",
       "  </tbody>\n",
       "</table>\n",
       "</div>"
      ],
      "text/plain": [
       "                  magazine  current  lastyear\n",
       "0            Business Week    88.36    118.03\n",
       "1            The Economist    48.00     65.00\n",
       "2                 Newsweek    17.73     42.78\n",
       "3         The New Republic     9.33     10.47\n",
       "4                     Time    19.46     71.37\n",
       "5   US News & World Report    11.00     38.09\n",
       "6      The Weekly Standard    10.00     14.00\n",
       "7                Auto Week    25.41     22.33\n",
       "8     Entertainment Weekly    36.00     29.36\n",
       "9               Golf World    33.67     14.32\n",
       "10                New York    44.00     88.80\n",
       "11                  People    55.73     85.62\n",
       "12       The Sporting News     7.70      7.00\n",
       "13      Sports Illustrated    38.14     74.70\n",
       "14          The New Yorker    27.37     33.53\n",
       "15                TV Guide    82.02     41.44\n",
       "16               US Weekly    38.33     20.00\n",
       "17                  Parade     9.63     13.04\n",
       "18             USA Weekend     8.00     10.75"
      ]
     },
     "execution_count": 15,
     "metadata": {},
     "output_type": "execute_result"
    }
   ],
   "source": [
    "data = pd.read_table(path + \"data/weeklies.txt\", sep=\",\")\n",
    "data"
   ]
  },
  {
   "cell_type": "code",
   "execution_count": 74,
   "id": "95a79f0a",
   "metadata": {},
   "outputs": [
    {
     "name": "stdout",
     "output_type": "stream",
     "text": [
      "23.248678037060817 31.653739325653117\n",
      "0.08026526054859677\n",
      "ConfidenceInterval(low=np.float64(-19.431690236237465), high=np.float64(-0.6472571321835918))\n"
     ]
    }
   ],
   "source": [
    "x = data.current\n",
    "y = data.lastyear\n",
    "print(np.std(x), np.std(y))\n",
    "t_out = stats.ttest_rel(x, y, alternative=\"two-sided\")\n",
    "print(t_out.pvalue)\n",
    "ci_90 = t_out.confidence_interval(confidence_level=0.90)\n",
    "print(ci_90)"
   ]
  },
  {
   "cell_type": "code",
   "execution_count": 75,
   "id": "93ec085c",
   "metadata": {},
   "outputs": [
    {
     "data": {
      "text/plain": [
       "Text(0, 0.5, 'Frequency')"
      ]
     },
     "execution_count": 75,
     "metadata": {},
     "output_type": "execute_result"
    },
    {
     "data": {
      "image/png": "[encoded data removed]",
      "text/plain": [
       "<Figure size 640x480 with 1 Axes>"
      ]
     },
     "metadata": {},
     "output_type": "display_data"
    }
   ],
   "source": [
    "diff = data.current - data.lastyear\n",
    "fig = diff.hist(grid=False)\n",
    "fig.set_title(\"Histogram of diff vector\")\n",
    "fig.set_xlabel(\"difference\")\n",
    "fig.set_ylabel(\"Frequency\")"
   ]
  },
  {
   "cell_type": "code",
   "execution_count": 31,
   "id": "efa784d2",
   "metadata": {},
   "outputs": [
    {
     "data": {
      "image/png": "[encoded data removed]",
      "text/plain": [
       "<Figure size 640x480 with 1 Axes>"
      ]
     },
     "execution_count": 31,
     "metadata": {},
     "output_type": "execute_result"
    },
    {
     "data": {
      "image/png": "[encoded data removed]",
      "text/plain": [
       "<Figure size 640x480 with 1 Axes>"
      ]
     },
     "metadata": {},
     "output_type": "display_data"
    }
   ],
   "source": [
    "sm.qqplot(diff, line='q')"
   ]
  },
  {
   "cell_type": "code",
   "execution_count": 32,
   "id": "59281e64",
   "metadata": {},
   "outputs": [
    {
     "name": "stdout",
     "output_type": "stream",
     "text": [
      "Data follows normal distribution\n"
     ]
    }
   ],
   "source": [
    "def checkNormality(data):\n",
    "    result = stats.shapiro(data)\n",
    "    if result.pvalue < 0.05:\n",
    "        print(\"Data dose NOT follow normal distribution\")\n",
    "    else:\n",
    "        print(\"Data follows normal distribution\")\n",
    "\n",
    "checkNormality(diff)"
   ]
  },
  {
   "cell_type": "code",
   "execution_count": 43,
   "id": "c40b1d19",
   "metadata": {},
   "outputs": [
    {
     "data": {
      "text/plain": [
       "np.float64(0.12838147993895702)"
      ]
     },
     "execution_count": 43,
     "metadata": {},
     "output_type": "execute_result"
    }
   ],
   "source": [
    "def get_skewness(x):\n",
    "    x_bar = np.mean(x)\n",
    "    dist = x - np.mean(x)\n",
    "    return ((x - x_bar)**3).mean() / np.var(x)**(3/2)\n",
    "\n",
    "get_skewness(diff)"
   ]
  },
  {
   "cell_type": "code",
   "execution_count": 45,
   "id": "6ed210d8",
   "metadata": {},
   "outputs": [
    {
     "data": {
      "text/plain": [
       "np.float64(-0.4401951705737881)"
      ]
     },
     "execution_count": 45,
     "metadata": {},
     "output_type": "execute_result"
    }
   ],
   "source": [
    "def get_kurt(x):\n",
    "    x_bar = np.mean(x)\n",
    "    return ((x - x_bar)**4).mean() / np.var(x)**2 - 3\n",
    "\n",
    "get_kurt(diff)\n"
   ]
  },
  {
   "cell_type": "code",
   "execution_count": 47,
   "id": "7e531ba1",
   "metadata": {},
   "outputs": [
    {
     "data": {
      "text/plain": [
       "np.float64(-28.380000000000003)"
      ]
     },
     "execution_count": 47,
     "metadata": {},
     "output_type": "execute_result"
    }
   ],
   "source": [
    "np.quantile(diff, 0.25)"
   ]
  },
  {
   "cell_type": "code",
   "execution_count": 48,
   "id": "11f65e46",
   "metadata": {},
   "outputs": [
    {
     "data": {
      "text/plain": [
       "np.float64(-0.6108358110340271)"
      ]
     },
     "execution_count": 48,
     "metadata": {},
     "output_type": "execute_result"
    }
   ],
   "source": [
    "def h(x):\n",
    "    Q1 = np.quantile(x, 0.25)\n",
    "    Q2 = np.median(x)\n",
    "    Q3 = np.quantile(x, 0.75)\n",
    "    return (Q3 + Q1 - 2 * Q2) / (Q3 - Q1)\n",
    "\n",
    "h(diff)"
   ]
  },
  {
   "cell_type": "markdown",
   "id": "7bc8a277",
   "metadata": {},
   "source": [
    "## Question 2"
   ]
  },
  {
   "cell_type": "code",
   "execution_count": 60,
   "id": "e4ce6d31",
   "metadata": {},
   "outputs": [
    {
     "data": {
      "text/plain": [
       "0     43.6\n",
       "1     78.4\n",
       "2     62.1\n",
       "3     65.1\n",
       "4     69.2\n",
       "5     79.5\n",
       "6     80.7\n",
       "7     59.2\n",
       "8     47.2\n",
       "9     65.9\n",
       "10    49.2\n",
       "11    71.3\n",
       "12    62.9\n",
       "13    62.3\n",
       "14    58.1\n",
       "15    63.0\n",
       "16    63.4\n",
       "17    71.6\n",
       "18    74.0\n",
       "19    64.3\n",
       "20    65.8\n",
       "21    61.7\n",
       "22    47.9\n",
       "23    59.5\n",
       "24    81.5\n",
       "25    53.9\n",
       "26    74.8\n",
       "27    75.3\n",
       "28    82.8\n",
       "29    79.8\n",
       "30    61.4\n",
       "31    66.3\n",
       "32    53.7\n",
       "33    59.8\n",
       "34    89.8\n",
       "35    70.8\n",
       "36    55.4\n",
       "37    66.1\n",
       "38    60.6\n",
       "39    52.7\n",
       "40    73.2\n",
       "41    50.8\n",
       "42    58.2\n",
       "43    63.4\n",
       "44    59.7\n",
       "45    55.6\n",
       "46    66.2\n",
       "47    60.6\n",
       "48    67.4\n",
       "49    46.7\n",
       "Name: strength, dtype: float64"
      ]
     },
     "execution_count": 60,
     "metadata": {},
     "output_type": "execute_result"
    }
   ],
   "source": [
    "machine_data = pd.read_table(path + \"data/machine.txt\", sep=\" \")\n",
    "machine_data\n",
    "new = machine_data[(machine_data.machine == 'N')].strength\n",
    "old = machine_data[(machine_data.machine == 'O')].strength\n",
    "old"
   ]
  },
  {
   "cell_type": "code",
   "execution_count": 61,
   "id": "1088676c",
   "metadata": {},
   "outputs": [
    {
     "name": "stdout",
     "output_type": "stream",
     "text": [
      "Data follows normal distribution\n",
      "Data follows normal distribution\n"
     ]
    }
   ],
   "source": [
    "def checkNormality(data):\n",
    "    result = stats.shapiro(data)\n",
    "    if result.pvalue < 0.05:\n",
    "        print(\"Data dose NOT follow normal distribution\")\n",
    "    else:\n",
    "        print(\"Data follows normal distribution\")\n",
    "\n",
    "checkNormality(new)\n",
    "checkNormality(old)"
   ]
  },
  {
   "cell_type": "code",
   "execution_count": 76,
   "id": "2724e5cc",
   "metadata": {},
   "outputs": [
    {
     "data": {
      "text/plain": [
       "np.float64(0.00015810425164191597)"
      ]
     },
     "execution_count": 76,
     "metadata": {},
     "output_type": "execute_result"
    }
   ],
   "source": [
    "t_out = stats.ttest_ind(new, old)\n",
    "t_out.pvalue"
   ]
  },
  {
   "cell_type": "markdown",
   "id": "b363b1db",
   "metadata": {},
   "source": [
    "## Question 3"
   ]
  },
  {
   "cell_type": "code",
   "execution_count": null,
   "id": "17cd67d1",
   "metadata": {},
   "outputs": [
    {
     "data": {
      "text/html": [
       "<div>\n",
       "<style scoped>\n",
       "    .dataframe tbody tr th:only-of-type {\n",
       "        vertical-align: middle;\n",
       "    }\n",
       "\n",
       "    .dataframe tbody tr th {\n",
       "        vertical-align: top;\n",
       "    }\n",
       "\n",
       "    .dataframe thead th {\n",
       "        text-align: right;\n",
       "    }\n",
       "</style>\n",
       "<table border=\"1\" class=\"dataframe\">\n",
       "  <thead>\n",
       "    <tr style=\"text-align: right;\">\n",
       "      <th></th>\n",
       "      <th>employee</th>\n",
       "      <th>before</th>\n",
       "      <th>after</th>\n",
       "    </tr>\n",
       "  </thead>\n",
       "  <tbody>\n",
       "    <tr>\n",
       "      <th>0</th>\n",
       "      <td>1</td>\n",
       "      <td>54</td>\n",
       "      <td>68</td>\n",
       "    </tr>\n",
       "    <tr>\n",
       "      <th>1</th>\n",
       "      <td>2</td>\n",
       "      <td>25</td>\n",
       "      <td>42</td>\n",
       "    </tr>\n",
       "    <tr>\n",
       "      <th>2</th>\n",
       "      <td>3</td>\n",
       "      <td>82</td>\n",
       "      <td>80</td>\n",
       "    </tr>\n",
       "    <tr>\n",
       "      <th>3</th>\n",
       "      <td>4</td>\n",
       "      <td>76</td>\n",
       "      <td>91</td>\n",
       "    </tr>\n",
       "    <tr>\n",
       "      <th>4</th>\n",
       "      <td>5</td>\n",
       "      <td>63</td>\n",
       "      <td>70</td>\n",
       "    </tr>\n",
       "    <tr>\n",
       "      <th>5</th>\n",
       "      <td>6</td>\n",
       "      <td>82</td>\n",
       "      <td>88</td>\n",
       "    </tr>\n",
       "    <tr>\n",
       "      <th>6</th>\n",
       "      <td>7</td>\n",
       "      <td>94</td>\n",
       "      <td>90</td>\n",
       "    </tr>\n",
       "    <tr>\n",
       "      <th>7</th>\n",
       "      <td>8</td>\n",
       "      <td>72</td>\n",
       "      <td>81</td>\n",
       "    </tr>\n",
       "    <tr>\n",
       "      <th>8</th>\n",
       "      <td>9</td>\n",
       "      <td>33</td>\n",
       "      <td>38</td>\n",
       "    </tr>\n",
       "    <tr>\n",
       "      <th>9</th>\n",
       "      <td>10</td>\n",
       "      <td>90</td>\n",
       "      <td>93</td>\n",
       "    </tr>\n",
       "  </tbody>\n",
       "</table>\n",
       "</div>"
      ],
      "text/plain": [
       "   employee  before  after\n",
       "0         1      54     68\n",
       "1         2      25     42\n",
       "2         3      82     80\n",
       "3         4      76     91\n",
       "4         5      63     70\n",
       "5         6      82     88\n",
       "6         7      94     90\n",
       "7         8      72     81\n",
       "8         9      33     38\n",
       "9        10      90     93"
      ]
     },
     "execution_count": 66,
     "metadata": {},
     "output_type": "execute_result"
    }
   ],
   "source": [
    "flex1 = pd.read_table(path + \"data/flextime.txt\", sep=' ')\n",
    "flex1\n"
   ]
  },
  {
   "cell_type": "code",
   "execution_count": 67,
   "id": "0b7581e9",
   "metadata": {},
   "outputs": [
    {
     "name": "stdout",
     "output_type": "stream",
     "text": [
      "Test statistic: 4.000. p-val: 0.019.\n"
     ]
    }
   ],
   "source": [
    "wsr_out = stats.wilcoxon(flex1.before, flex1.after, correction=True, method='approx')\n",
    "print(f\"\"\"Test statistic: {wsr_out.statistic:.3f}. p-val: {wsr_out.pvalue:.3f}.\"\"\")"
   ]
  },
  {
   "cell_type": "markdown",
   "id": "c2840e79",
   "metadata": {},
   "source": [
    "Conclusion: distribution of before is location shift than distribution of after"
   ]
  },
  {
   "cell_type": "code",
   "execution_count": 71,
   "id": "8f078479",
   "metadata": {},
   "outputs": [
    {
     "data": {
      "text/html": [
       "<div>\n",
       "<style scoped>\n",
       "    .dataframe tbody tr th:only-of-type {\n",
       "        vertical-align: middle;\n",
       "    }\n",
       "\n",
       "    .dataframe tbody tr th {\n",
       "        vertical-align: top;\n",
       "    }\n",
       "\n",
       "    .dataframe thead th {\n",
       "        text-align: right;\n",
       "    }\n",
       "</style>\n",
       "<table border=\"1\" class=\"dataframe\">\n",
       "  <thead>\n",
       "    <tr style=\"text-align: right;\">\n",
       "      <th></th>\n",
       "      <th>level_0</th>\n",
       "      <th>level_1</th>\n",
       "      <th>0</th>\n",
       "    </tr>\n",
       "  </thead>\n",
       "  <tbody>\n",
       "    <tr>\n",
       "      <th>0</th>\n",
       "      <td>0</td>\n",
       "      <td>before</td>\n",
       "      <td>54</td>\n",
       "    </tr>\n",
       "    <tr>\n",
       "      <th>1</th>\n",
       "      <td>0</td>\n",
       "      <td>after</td>\n",
       "      <td>68</td>\n",
       "    </tr>\n",
       "    <tr>\n",
       "      <th>2</th>\n",
       "      <td>1</td>\n",
       "      <td>before</td>\n",
       "      <td>25</td>\n",
       "    </tr>\n",
       "    <tr>\n",
       "      <th>3</th>\n",
       "      <td>1</td>\n",
       "      <td>after</td>\n",
       "      <td>42</td>\n",
       "    </tr>\n",
       "    <tr>\n",
       "      <th>4</th>\n",
       "      <td>2</td>\n",
       "      <td>before</td>\n",
       "      <td>82</td>\n",
       "    </tr>\n",
       "    <tr>\n",
       "      <th>5</th>\n",
       "      <td>2</td>\n",
       "      <td>after</td>\n",
       "      <td>80</td>\n",
       "    </tr>\n",
       "    <tr>\n",
       "      <th>6</th>\n",
       "      <td>3</td>\n",
       "      <td>before</td>\n",
       "      <td>76</td>\n",
       "    </tr>\n",
       "    <tr>\n",
       "      <th>7</th>\n",
       "      <td>3</td>\n",
       "      <td>after</td>\n",
       "      <td>91</td>\n",
       "    </tr>\n",
       "    <tr>\n",
       "      <th>8</th>\n",
       "      <td>4</td>\n",
       "      <td>before</td>\n",
       "      <td>63</td>\n",
       "    </tr>\n",
       "    <tr>\n",
       "      <th>9</th>\n",
       "      <td>4</td>\n",
       "      <td>after</td>\n",
       "      <td>70</td>\n",
       "    </tr>\n",
       "    <tr>\n",
       "      <th>10</th>\n",
       "      <td>5</td>\n",
       "      <td>before</td>\n",
       "      <td>82</td>\n",
       "    </tr>\n",
       "    <tr>\n",
       "      <th>11</th>\n",
       "      <td>5</td>\n",
       "      <td>after</td>\n",
       "      <td>88</td>\n",
       "    </tr>\n",
       "    <tr>\n",
       "      <th>12</th>\n",
       "      <td>6</td>\n",
       "      <td>before</td>\n",
       "      <td>94</td>\n",
       "    </tr>\n",
       "    <tr>\n",
       "      <th>13</th>\n",
       "      <td>6</td>\n",
       "      <td>after</td>\n",
       "      <td>90</td>\n",
       "    </tr>\n",
       "    <tr>\n",
       "      <th>14</th>\n",
       "      <td>7</td>\n",
       "      <td>before</td>\n",
       "      <td>72</td>\n",
       "    </tr>\n",
       "    <tr>\n",
       "      <th>15</th>\n",
       "      <td>7</td>\n",
       "      <td>after</td>\n",
       "      <td>81</td>\n",
       "    </tr>\n",
       "    <tr>\n",
       "      <th>16</th>\n",
       "      <td>8</td>\n",
       "      <td>before</td>\n",
       "      <td>33</td>\n",
       "    </tr>\n",
       "    <tr>\n",
       "      <th>17</th>\n",
       "      <td>8</td>\n",
       "      <td>after</td>\n",
       "      <td>38</td>\n",
       "    </tr>\n",
       "    <tr>\n",
       "      <th>18</th>\n",
       "      <td>9</td>\n",
       "      <td>before</td>\n",
       "      <td>90</td>\n",
       "    </tr>\n",
       "    <tr>\n",
       "      <th>19</th>\n",
       "      <td>9</td>\n",
       "      <td>after</td>\n",
       "      <td>93</td>\n",
       "    </tr>\n",
       "  </tbody>\n",
       "</table>\n",
       "</div>"
      ],
      "text/plain": [
       "    level_0 level_1   0\n",
       "0         0  before  54\n",
       "1         0   after  68\n",
       "2         1  before  25\n",
       "3         1   after  42\n",
       "4         2  before  82\n",
       "5         2   after  80\n",
       "6         3  before  76\n",
       "7         3   after  91\n",
       "8         4  before  63\n",
       "9         4   after  70\n",
       "10        5  before  82\n",
       "11        5   after  88\n",
       "12        6  before  94\n",
       "13        6   after  90\n",
       "14        7  before  72\n",
       "15        7   after  81\n",
       "16        8  before  33\n",
       "17        8   after  38\n",
       "18        9  before  90\n",
       "19        9   after  93"
      ]
     },
     "execution_count": 71,
     "metadata": {},
     "output_type": "execute_result"
    }
   ],
   "source": [
    "flex1.iloc[:,1:].stack().reset_index()"
   ]
  }
 ],
 "metadata": {
  "kernelspec": {
   "display_name": "myenv",
   "language": "python",
   "name": "python3"
  },
  "language_info": {
   "codemirror_mode": {
    "name": "ipython",
    "version": 3
   },
   "file_extension": ".py",
   "mimetype": "text/x-python",
   "name": "python",
   "nbconvert_exporter": "python",
   "pygments_lexer": "ipython3",
   "version": "3.12.4"
  }
 },
 "nbformat": 4,
 "nbformat_minor": 5
}
