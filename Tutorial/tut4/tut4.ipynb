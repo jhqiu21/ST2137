{
 "cells": [
  {
   "cell_type": "markdown",
   "metadata": {},
   "source": [
    "# Tutorial 4"
   ]
  },
  {
   "cell_type": "code",
   "execution_count": 42,
   "metadata": {},
   "outputs": [],
   "source": [
    "import pandas as pd\n",
    "import numpy as np\n",
    "import matplotlib.pyplot as plt\n",
    "from statsmodels.graphics.mosaicplot import mosaic\n",
    "from scipy import stats\n",
    "import math\n",
    "path = \"../../src/\""
   ]
  },
  {
   "cell_type": "markdown",
   "metadata": {},
   "source": [
    "## Student Performance"
   ]
  },
  {
   "cell_type": "markdown",
   "metadata": {},
   "source": [
    "### Task 1.1"
   ]
  },
  {
   "cell_type": "markdown",
   "metadata": {},
   "source": [
    "$H_0$ No significant association found.\n",
    "\n",
    "$H_1$ There is association between `address` and `paid`"
   ]
  },
  {
   "cell_type": "code",
   "execution_count": 34,
   "metadata": {},
   "outputs": [
    {
     "data": {
      "text/html": [
       "<div>\n",
       "<style scoped>\n",
       "    .dataframe tbody tr th:only-of-type {\n",
       "        vertical-align: middle;\n",
       "    }\n",
       "\n",
       "    .dataframe tbody tr th {\n",
       "        vertical-align: top;\n",
       "    }\n",
       "\n",
       "    .dataframe thead th {\n",
       "        text-align: right;\n",
       "    }\n",
       "</style>\n",
       "<table border=\"1\" class=\"dataframe\">\n",
       "  <thead>\n",
       "    <tr style=\"text-align: right;\">\n",
       "      <th>paid</th>\n",
       "      <th>no</th>\n",
       "      <th>yes</th>\n",
       "    </tr>\n",
       "    <tr>\n",
       "      <th>address</th>\n",
       "      <th></th>\n",
       "      <th></th>\n",
       "    </tr>\n",
       "  </thead>\n",
       "  <tbody>\n",
       "    <tr>\n",
       "      <th>R</th>\n",
       "      <td>183</td>\n",
       "      <td>14</td>\n",
       "    </tr>\n",
       "    <tr>\n",
       "      <th>U</th>\n",
       "      <td>427</td>\n",
       "      <td>25</td>\n",
       "    </tr>\n",
       "  </tbody>\n",
       "</table>\n",
       "</div>"
      ],
      "text/plain": [
       "paid      no  yes\n",
       "address          \n",
       "R        183   14\n",
       "U        427   25"
      ]
     },
     "execution_count": 34,
     "metadata": {},
     "output_type": "execute_result"
    }
   ],
   "source": [
    "data = pd.read_csv(path + \"data/student/student-por.csv\", sep=\";\")\n",
    "df = pd.DataFrame(data)\n",
    "\n",
    "# generate contingency table using crosstab\n",
    "contingency_table = pd.crosstab(df['address'], df['paid'])\n",
    "contingency_table"
   ]
  },
  {
   "cell_type": "code",
   "execution_count": 26,
   "metadata": {},
   "outputs": [
    {
     "name": "stdout",
     "output_type": "stream",
     "text": [
      "Fail to reject H0: No significant association found.\n"
     ]
    }
   ],
   "source": [
    "chi2_stat, p_value, dof, expected = stats.chi2_contingency(contingency_table)\n",
    "\n",
    "alpha = 0.05\n",
    "if p_value < alpha:\n",
    "    print(\"Reject H0: There is a significant association between address and paid.\")\n",
    "else:\n",
    "    print(\"Fail to reject H0: No significant association found.\")"
   ]
  },
  {
   "cell_type": "markdown",
   "metadata": {},
   "source": [
    "### Task 1.2"
   ]
  },
  {
   "cell_type": "code",
   "execution_count": 18,
   "metadata": {},
   "outputs": [
    {
     "data": {
      "image/png": "[encoded data removed]",
      "text/plain": [
       "<Figure size 640x480 with 1 Axes>"
      ]
     },
     "metadata": {},
     "output_type": "display_data"
    }
   ],
   "source": [
    "ax = contingency_table.plot(kind='bar', stacked=False, rot=1.0)"
   ]
  },
  {
   "cell_type": "markdown",
   "metadata": {},
   "source": [
    "### Task 1.3"
   ]
  },
  {
   "cell_type": "code",
   "execution_count": 20,
   "metadata": {},
   "outputs": [
    {
     "data": {
      "text/html": [
       "<div>\n",
       "<style scoped>\n",
       "    .dataframe tbody tr th:only-of-type {\n",
       "        vertical-align: middle;\n",
       "    }\n",
       "\n",
       "    .dataframe tbody tr th {\n",
       "        vertical-align: top;\n",
       "    }\n",
       "\n",
       "    .dataframe thead th {\n",
       "        text-align: right;\n",
       "    }\n",
       "</style>\n",
       "<table border=\"1\" class=\"dataframe\">\n",
       "  <thead>\n",
       "    <tr style=\"text-align: right;\">\n",
       "      <th>paid</th>\n",
       "      <th>no</th>\n",
       "      <th>yes</th>\n",
       "    </tr>\n",
       "    <tr>\n",
       "      <th>address</th>\n",
       "      <th></th>\n",
       "      <th></th>\n",
       "    </tr>\n",
       "  </thead>\n",
       "  <tbody>\n",
       "    <tr>\n",
       "      <th>R</th>\n",
       "      <td>0.928934</td>\n",
       "      <td>0.071066</td>\n",
       "    </tr>\n",
       "    <tr>\n",
       "      <th>U</th>\n",
       "      <td>0.944690</td>\n",
       "      <td>0.055310</td>\n",
       "    </tr>\n",
       "  </tbody>\n",
       "</table>\n",
       "</div>"
      ],
      "text/plain": [
       "paid           no       yes\n",
       "address                    \n",
       "R        0.928934  0.071066\n",
       "U        0.944690  0.055310"
      ]
     },
     "execution_count": 20,
     "metadata": {},
     "output_type": "execute_result"
    }
   ],
   "source": [
    "proportion_table = pd.crosstab(df['address'], df['paid'], normalize='index')\n",
    "proportion_table"
   ]
  },
  {
   "cell_type": "markdown",
   "metadata": {},
   "source": [
    "### Task 1.4"
   ]
  },
  {
   "cell_type": "code",
   "execution_count": 25,
   "metadata": {},
   "outputs": [
    {
     "data": {
      "text/plain": [
       "np.float64(1.7857142857142858)"
      ]
     },
     "execution_count": 25,
     "metadata": {},
     "output_type": "execute_result"
    }
   ],
   "source": [
    "risk = contingency_table['yes']['R'] / contingency_table['yes']['U']\n",
    "risk"
   ]
  },
  {
   "cell_type": "markdown",
   "metadata": {},
   "source": [
    "### Task 1.5"
   ]
  },
  {
   "cell_type": "markdown",
   "metadata": {},
   "source": [
    "Range of values for RR is $[0, +\\infty]$, when the number of urban residents who paid for extra classes is zero, $RR \\rightarrow +\\infty$. Note that $$RR = \\frac{\\# \\text{ of Yes, R} / \\# \\text{ of total}}{\\# \\text{ of Yes, U} / \\# \\text{ of total}}$$\n",
    "While $$\\text{Odds Ratio} = \\frac{p_1 / (1-p_1)}{p_2 / (1-p_2)} = \\frac{\\# \\text{ of Yes, U} / \\# \\text{ of No, U}}{\\# \\text{ of Yes, R} / \\# \\text{ of No, R}}$$, they are not same by defination."
   ]
  },
  {
   "cell_type": "markdown",
   "metadata": {},
   "source": [
    "### Task 1.6"
   ]
  },
  {
   "cell_type": "code",
   "execution_count": 29,
   "metadata": {},
   "outputs": [
    {
     "name": "stdout",
     "output_type": "stream",
     "text": [
      "\u001b[0;31mSignature:\u001b[0m\n",
      "\u001b[0mpd\u001b[0m\u001b[0;34m.\u001b[0m\u001b[0mcut\u001b[0m\u001b[0;34m(\u001b[0m\u001b[0;34m\u001b[0m\n",
      "\u001b[0;34m\u001b[0m    \u001b[0mx\u001b[0m\u001b[0;34m,\u001b[0m\u001b[0;34m\u001b[0m\n",
      "\u001b[0;34m\u001b[0m    \u001b[0mbins\u001b[0m\u001b[0;34m,\u001b[0m\u001b[0;34m\u001b[0m\n",
      "\u001b[0;34m\u001b[0m    \u001b[0mright\u001b[0m\u001b[0;34m:\u001b[0m \u001b[0;34m'bool'\u001b[0m \u001b[0;34m=\u001b[0m \u001b[0;32mTrue\u001b[0m\u001b[0;34m,\u001b[0m\u001b[0;34m\u001b[0m\n",
      "\u001b[0;34m\u001b[0m    \u001b[0mlabels\u001b[0m\u001b[0;34m=\u001b[0m\u001b[0;32mNone\u001b[0m\u001b[0;34m,\u001b[0m\u001b[0;34m\u001b[0m\n",
      "\u001b[0;34m\u001b[0m    \u001b[0mretbins\u001b[0m\u001b[0;34m:\u001b[0m \u001b[0;34m'bool'\u001b[0m \u001b[0;34m=\u001b[0m \u001b[0;32mFalse\u001b[0m\u001b[0;34m,\u001b[0m\u001b[0;34m\u001b[0m\n",
      "\u001b[0;34m\u001b[0m    \u001b[0mprecision\u001b[0m\u001b[0;34m:\u001b[0m \u001b[0;34m'int'\u001b[0m \u001b[0;34m=\u001b[0m \u001b[0;36m3\u001b[0m\u001b[0;34m,\u001b[0m\u001b[0;34m\u001b[0m\n",
      "\u001b[0;34m\u001b[0m    \u001b[0minclude_lowest\u001b[0m\u001b[0;34m:\u001b[0m \u001b[0;34m'bool'\u001b[0m \u001b[0;34m=\u001b[0m \u001b[0;32mFalse\u001b[0m\u001b[0;34m,\u001b[0m\u001b[0;34m\u001b[0m\n",
      "\u001b[0;34m\u001b[0m    \u001b[0mduplicates\u001b[0m\u001b[0;34m:\u001b[0m \u001b[0;34m'str'\u001b[0m \u001b[0;34m=\u001b[0m \u001b[0;34m'raise'\u001b[0m\u001b[0;34m,\u001b[0m\u001b[0;34m\u001b[0m\n",
      "\u001b[0;34m\u001b[0m    \u001b[0mordered\u001b[0m\u001b[0;34m:\u001b[0m \u001b[0;34m'bool'\u001b[0m \u001b[0;34m=\u001b[0m \u001b[0;32mTrue\u001b[0m\u001b[0;34m,\u001b[0m\u001b[0;34m\u001b[0m\n",
      "\u001b[0;34m\u001b[0m\u001b[0;34m)\u001b[0m\u001b[0;34m\u001b[0m\u001b[0;34m\u001b[0m\u001b[0m\n",
      "\u001b[0;31mDocstring:\u001b[0m\n",
      "Bin values into discrete intervals.\n",
      "\n",
      "Use `cut` when you need to segment and sort data values into bins. This\n",
      "function is also useful for going from a continuous variable to a\n",
      "categorical variable. For example, `cut` could convert ages to groups of\n",
      "age ranges. Supports binning into an equal number of bins, or a\n",
      "pre-specified array of bins.\n",
      "\n",
      "Parameters\n",
      "----------\n",
      "x : array-like\n",
      "    The input array to be binned. Must be 1-dimensional.\n",
      "bins : int, sequence of scalars, or IntervalIndex\n",
      "    The criteria to bin by.\n",
      "\n",
      "    * int : Defines the number of equal-width bins in the range of `x`. The\n",
      "      range of `x` is extended by .1% on each side to include the minimum\n",
      "      and maximum values of `x`.\n",
      "    * sequence of scalars : Defines the bin edges allowing for non-uniform\n",
      "      width. No extension of the range of `x` is done.\n",
      "    * IntervalIndex : Defines the exact bins to be used. Note that\n",
      "      IntervalIndex for `bins` must be non-overlapping.\n",
      "\n",
      "right : bool, default True\n",
      "    Indicates whether `bins` includes the rightmost edge or not. If\n",
      "    ``right == True`` (the default), then the `bins` ``[1, 2, 3, 4]``\n",
      "    indicate (1,2], (2,3], (3,4]. This argument is ignored when\n",
      "    `bins` is an IntervalIndex.\n",
      "labels : array or False, default None\n",
      "    Specifies the labels for the returned bins. Must be the same length as\n",
      "    the resulting bins. If False, returns only integer indicators of the\n",
      "    bins. This affects the type of the output container (see below).\n",
      "    This argument is ignored when `bins` is an IntervalIndex. If True,\n",
      "    raises an error. When `ordered=False`, labels must be provided.\n",
      "retbins : bool, default False\n",
      "    Whether to return the bins or not. Useful when bins is provided\n",
      "    as a scalar.\n",
      "precision : int, default 3\n",
      "    The precision at which to store and display the bins labels.\n",
      "include_lowest : bool, default False\n",
      "    Whether the first interval should be left-inclusive or not.\n",
      "duplicates : {default 'raise', 'drop'}, optional\n",
      "    If bin edges are not unique, raise ValueError or drop non-uniques.\n",
      "ordered : bool, default True\n",
      "    Whether the labels are ordered or not. Applies to returned types\n",
      "    Categorical and Series (with Categorical dtype). If True,\n",
      "    the resulting categorical will be ordered. If False, the resulting\n",
      "    categorical will be unordered (labels must be provided).\n",
      "\n",
      "Returns\n",
      "-------\n",
      "out : Categorical, Series, or ndarray\n",
      "    An array-like object representing the respective bin for each value\n",
      "    of `x`. The type depends on the value of `labels`.\n",
      "\n",
      "    * None (default) : returns a Series for Series `x` or a\n",
      "      Categorical for all other inputs. The values stored within\n",
      "      are Interval dtype.\n",
      "\n",
      "    * sequence of scalars : returns a Series for Series `x` or a\n",
      "      Categorical for all other inputs. The values stored within\n",
      "      are whatever the type in the sequence is.\n",
      "\n",
      "    * False : returns an ndarray of integers.\n",
      "\n",
      "bins : numpy.ndarray or IntervalIndex.\n",
      "    The computed or specified bins. Only returned when `retbins=True`.\n",
      "    For scalar or sequence `bins`, this is an ndarray with the computed\n",
      "    bins. If set `duplicates=drop`, `bins` will drop non-unique bin. For\n",
      "    an IntervalIndex `bins`, this is equal to `bins`.\n",
      "\n",
      "See Also\n",
      "--------\n",
      "qcut : Discretize variable into equal-sized buckets based on rank\n",
      "    or based on sample quantiles.\n",
      "Categorical : Array type for storing data that come from a\n",
      "    fixed set of values.\n",
      "Series : One-dimensional array with axis labels (including time series).\n",
      "IntervalIndex : Immutable Index implementing an ordered, sliceable set.\n",
      "\n",
      "Notes\n",
      "-----\n",
      "Any NA values will be NA in the result. Out of bounds values will be NA in\n",
      "the resulting Series or Categorical object.\n",
      "\n",
      "Reference :ref:`the user guide <reshaping.tile.cut>` for more examples.\n",
      "\n",
      "Examples\n",
      "--------\n",
      "Discretize into three equal-sized bins.\n",
      "\n",
      ">>> pd.cut(np.array([1, 7, 5, 4, 6, 3]), 3)\n",
      "... # doctest: +ELLIPSIS\n",
      "[(0.994, 3.0], (5.0, 7.0], (3.0, 5.0], (3.0, 5.0], (5.0, 7.0], ...\n",
      "Categories (3, interval[float64, right]): [(0.994, 3.0] < (3.0, 5.0] ...\n",
      "\n",
      ">>> pd.cut(np.array([1, 7, 5, 4, 6, 3]), 3, retbins=True)\n",
      "... # doctest: +ELLIPSIS\n",
      "([(0.994, 3.0], (5.0, 7.0], (3.0, 5.0], (3.0, 5.0], (5.0, 7.0], ...\n",
      "Categories (3, interval[float64, right]): [(0.994, 3.0] < (3.0, 5.0] ...\n",
      "array([0.994, 3.   , 5.   , 7.   ]))\n",
      "\n",
      "Discovers the same bins, but assign them specific labels. Notice that\n",
      "the returned Categorical's categories are `labels` and is ordered.\n",
      "\n",
      ">>> pd.cut(np.array([1, 7, 5, 4, 6, 3]),\n",
      "...        3, labels=[\"bad\", \"medium\", \"good\"])\n",
      "['bad', 'good', 'medium', 'medium', 'good', 'bad']\n",
      "Categories (3, object): ['bad' < 'medium' < 'good']\n",
      "\n",
      "``ordered=False`` will result in unordered categories when labels are passed.\n",
      "This parameter can be used to allow non-unique labels:\n",
      "\n",
      ">>> pd.cut(np.array([1, 7, 5, 4, 6, 3]), 3,\n",
      "...        labels=[\"B\", \"A\", \"B\"], ordered=False)\n",
      "['B', 'B', 'A', 'A', 'B', 'B']\n",
      "Categories (2, object): ['A', 'B']\n",
      "\n",
      "``labels=False`` implies you just want the bins back.\n",
      "\n",
      ">>> pd.cut([0, 1, 1, 2], bins=4, labels=False)\n",
      "array([0, 1, 1, 3])\n",
      "\n",
      "Passing a Series as an input returns a Series with categorical dtype:\n",
      "\n",
      ">>> s = pd.Series(np.array([2, 4, 6, 8, 10]),\n",
      "...               index=['a', 'b', 'c', 'd', 'e'])\n",
      ">>> pd.cut(s, 3)\n",
      "... # doctest: +ELLIPSIS\n",
      "a    (1.992, 4.667]\n",
      "b    (1.992, 4.667]\n",
      "c    (4.667, 7.333]\n",
      "d     (7.333, 10.0]\n",
      "e     (7.333, 10.0]\n",
      "dtype: category\n",
      "Categories (3, interval[float64, right]): [(1.992, 4.667] < (4.667, ...\n",
      "\n",
      "Passing a Series as an input returns a Series with mapping value.\n",
      "It is used to map numerically to intervals based on bins.\n",
      "\n",
      ">>> s = pd.Series(np.array([2, 4, 6, 8, 10]),\n",
      "...               index=['a', 'b', 'c', 'd', 'e'])\n",
      ">>> pd.cut(s, [0, 2, 4, 6, 8, 10], labels=False, retbins=True, right=False)\n",
      "... # doctest: +ELLIPSIS\n",
      "(a    1.0\n",
      " b    2.0\n",
      " c    3.0\n",
      " d    4.0\n",
      " e    NaN\n",
      " dtype: float64,\n",
      " array([ 0,  2,  4,  6,  8, 10]))\n",
      "\n",
      "Use `drop` optional when bins is not unique\n",
      "\n",
      ">>> pd.cut(s, [0, 2, 4, 6, 10, 10], labels=False, retbins=True,\n",
      "...        right=False, duplicates='drop')\n",
      "... # doctest: +ELLIPSIS\n",
      "(a    1.0\n",
      " b    2.0\n",
      " c    3.0\n",
      " d    3.0\n",
      " e    NaN\n",
      " dtype: float64,\n",
      " array([ 0,  2,  4,  6, 10]))\n",
      "\n",
      "Passing an IntervalIndex for `bins` results in those categories exactly.\n",
      "Notice that values not covered by the IntervalIndex are set to NaN. 0\n",
      "is to the left of the first bin (which is closed on the right), and 1.5\n",
      "falls between two bins.\n",
      "\n",
      ">>> bins = pd.IntervalIndex.from_tuples([(0, 1), (2, 3), (4, 5)])\n",
      ">>> pd.cut([0, 0.5, 1.5, 2.5, 4.5], bins)\n",
      "[NaN, (0.0, 1.0], NaN, (2.0, 3.0], (4.0, 5.0]]\n",
      "Categories (3, interval[int64, right]): [(0, 1] < (2, 3] < (4, 5]]\n",
      "\u001b[0;31mFile:\u001b[0m      ~/Desktop/ST2137/Python/myenv/lib/python3.12/site-packages/pandas/core/reshape/tile.py\n",
      "\u001b[0;31mType:\u001b[0m      function"
     ]
    }
   ],
   "source": [
    "pd.cut?"
   ]
  },
  {
   "cell_type": "code",
   "execution_count": 40,
   "metadata": {},
   "outputs": [],
   "source": [
    "df['Letter Grade'] = pd.cut(x=df['G3'], bins=[0, 10, 12, 15, 18, 20], labels=['F', 'D', 'C', 'B', 'A'])"
   ]
  },
  {
   "cell_type": "markdown",
   "metadata": {},
   "source": [
    "### Task 1.7"
   ]
  },
  {
   "cell_type": "code",
   "execution_count": null,
   "metadata": {},
   "outputs": [],
   "source": []
  },
  {
   "cell_type": "markdown",
   "metadata": {},
   "source": [
    "### Task 1.8"
   ]
  },
  {
   "cell_type": "markdown",
   "metadata": {},
   "source": [
    "Mosaic plot reflects the count in each cell (through the area), along with the proportions of interest."
   ]
  },
  {
   "cell_type": "code",
   "execution_count": 50,
   "metadata": {},
   "outputs": [
    {
     "data": {
      "text/plain": [
       "(<Figure size 640x480 with 3 Axes>,\n",
       " {('0', '0'): (0.0,\n",
       "   np.float64(0.0),\n",
       "   0.5790960451977402,\n",
       "   np.float64(0.47150123907656194)),\n",
       "  ('0', '1'): (0.0,\n",
       "   np.float64(0.5009130037824443),\n",
       "   0.5790960451977402,\n",
       "   np.float64(0.22107734446328417)),\n",
       "  ('0', '2'): (0.0,\n",
       "   np.float64(0.7514021129516107),\n",
       "   0.5790960451977402,\n",
       "   np.float64(0.1252119473066389)),\n",
       "  ('0', '3'): (0.0,\n",
       "   np.float64(0.9060258249641321),\n",
       "   0.5790960451977402,\n",
       "   np.float64(0.05478022694665444)),\n",
       "  ('0', '4'): (0.0,\n",
       "   np.float64(0.990217816616669),\n",
       "   0.5790960451977402,\n",
       "   np.float64(0.009782183383331177)),\n",
       "  ('1', '0'): (0.6207627118644069,\n",
       "   np.float64(0.0),\n",
       "   0.15536723163841804,\n",
       "   np.float64(0.021876519202722412)),\n",
       "  ('1', '1'): (0.6207627118644069,\n",
       "   np.float64(0.051288283908604765),\n",
       "   0.15536723163841804,\n",
       "   np.float64(0.2479338842975206)),\n",
       "  ('1', '2'): (0.6207627118644069,\n",
       "   np.float64(0.32863393291200776),\n",
       "   0.15536723163841804,\n",
       "   np.float64(0.3135634419056879)),\n",
       "  ('1', '3'): (0.6207627118644069,\n",
       "   np.float64(0.671609139523578),\n",
       "   0.15536723163841804,\n",
       "   np.float64(0.2479338842975206)),\n",
       "  ('1', '4'): (0.6207627118644069,\n",
       "   np.float64(0.948954788526981),\n",
       "   0.15536723163841804,\n",
       "   np.float64(0.051045211473018985)),\n",
       "  ('2', '0'): (0.8177966101694916,\n",
       "   np.float64(0.0),\n",
       "   0.05521314843348742,\n",
       "   np.float64(0.02051983584131327)),\n",
       "  ('2', '1'): (0.8177966101694916,\n",
       "   np.float64(0.04993160054719562),\n",
       "   0.05521314843348742,\n",
       "   np.float64(0.02051983584131327)),\n",
       "  ('2', '2'): (0.8177966101694916,\n",
       "   np.float64(0.09986320109439124),\n",
       "   0.05521314843348742,\n",
       "   np.float64(0.18467852257181944)),\n",
       "  ('2', '3'): (0.8177966101694916,\n",
       "   np.float64(0.313953488372093),\n",
       "   0.05521314843348742,\n",
       "   np.float64(0.41039671682626533)),\n",
       "  ('2', '4'): (0.8177966101694916,\n",
       "   np.float64(0.7537619699042407),\n",
       "   0.05521314843348742,\n",
       "   np.float64(0.24623803009575929)),\n",
       "  ('3', '0'): (0.9146764252696457,\n",
       "   np.float64(0.0),\n",
       "   0.021828454031843914,\n",
       "   np.float64(0.05190311418685121)),\n",
       "  ('3', '1'): (0.9146764252696457,\n",
       "   np.float64(0.08131487889273357),\n",
       "   0.021828454031843914,\n",
       "   np.float64(0.05190311418685121)),\n",
       "  ('3', '2'): (0.9146764252696457,\n",
       "   np.float64(0.16262975778546715),\n",
       "   0.021828454031843914,\n",
       "   np.float64(0.20761245674740486)),\n",
       "  ('3', '3'): (0.9146764252696457,\n",
       "   np.float64(0.3996539792387544),\n",
       "   0.021828454031843914,\n",
       "   np.float64(0.2595155709342561)),\n",
       "  ('3', '4'): (0.9146764252696457,\n",
       "   np.float64(0.6885813148788927),\n",
       "   0.021828454031843914,\n",
       "   np.float64(0.31141868512110726)),\n",
       "  ('4', '0'): (0.9781715459681561,\n",
       "   np.float64(0.0),\n",
       "   0.021828454031843823,\n",
       "   np.float64(0.05190311418685121)),\n",
       "  ('4', '1'): (0.9781715459681561,\n",
       "   np.float64(0.08131487889273357),\n",
       "   0.021828454031843823,\n",
       "   np.float64(0.05190311418685121)),\n",
       "  ('4', '2'): (0.9781715459681561,\n",
       "   np.float64(0.16262975778546715),\n",
       "   0.021828454031843823,\n",
       "   np.float64(0.0)),\n",
       "  ('4', '3'): (0.9781715459681561,\n",
       "   np.float64(0.19204152249134948),\n",
       "   0.021828454031843823,\n",
       "   np.float64(0.0)),\n",
       "  ('4', '4'): (0.9781715459681561,\n",
       "   np.float64(0.22145328719723184),\n",
       "   0.021828454031843823,\n",
       "   np.float64(0.7785467128027682))})"
      ]
     },
     "execution_count": 50,
     "metadata": {},
     "output_type": "execute_result"
    },
    {
     "data": {
      "image/png": "[encoded data removed]",
      "text/plain": [
       "<Figure size 640x480 with 3 Axes>"
      ]
     },
     "metadata": {},
     "output_type": "display_data"
    }
   ],
   "source": [
    "table = np.asarray(pd.crosstab(df['Dalc'], df['Walc']))\n",
    "mosaic(table, statistic=True, gap=0.05)"
   ]
  }
 ],
 "metadata": {
  "kernelspec": {
   "display_name": "myenv",
   "language": "python",
   "name": "python3"
  },
  "language_info": {
   "codemirror_mode": {
    "name": "ipython",
    "version": 3
   },
   "file_extension": ".py",
   "mimetype": "text/x-python",
   "name": "python",
   "nbconvert_exporter": "python",
   "pygments_lexer": "ipython3",
   "version": "3.12.4"
  }
 },
 "nbformat": 4,
 "nbformat_minor": 2
}
