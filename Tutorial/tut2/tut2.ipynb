{
 "cells": [
  {
   "cell_type": "markdown",
   "metadata": {},
   "source": [
    "# Tutorial 2"
   ]
  },
  {
   "cell_type": "code",
   "execution_count": 1,
   "metadata": {},
   "outputs": [],
   "source": [
    "import pandas as pd\n",
    "import numpy as np\n",
    "import re"
   ]
  },
  {
   "cell_type": "markdown",
   "metadata": {},
   "source": [
    "## Dataset: Liverpool"
   ]
  },
  {
   "cell_type": "markdown",
   "metadata": {},
   "source": [
    "### Task 1.1"
   ]
  },
  {
   "cell_type": "code",
   "execution_count": null,
   "metadata": {},
   "outputs": [],
   "source": [
    "data1 = pd.read_csv(\"liverpool_2223_season.csv\")\n",
    "data1"
   ]
  },
  {
   "cell_type": "markdown",
   "metadata": {},
   "source": [
    "### Task 1.2"
   ]
  },
  {
   "cell_type": "code",
   "execution_count": null,
   "metadata": {},
   "outputs": [],
   "source": [
    "day = data1[\"Day\"]\n",
    "\n",
    "# using for loop\n",
    "count = {\"Mon\":0, \"Tue\":0, \"Wed\":0, \"Thu\":0, \"Fri\":0, \"Sat\":0, \"Sun\":0}\n",
    "for d in day:\n",
    "    count[d] = count[d] + 1\n",
    "print(count)\n",
    "\n",
    "# using padans method\n",
    "day = pd.Series.value_counts(day)\n",
    "day.plot(kind=\"bar\")"
   ]
  },
  {
   "cell_type": "markdown",
   "metadata": {},
   "source": [
    "### Task 1.3"
   ]
  },
  {
   "cell_type": "code",
   "execution_count": null,
   "metadata": {},
   "outputs": [],
   "source": [
    "\n",
    "# points = np.array(data1[\"GF\"] - data1[\"GA\"])\n",
    "# result = np.where(points > 0, \"W\", np.where(points == 0, \"D\", \"L\"))\n",
    "# pts = np.where(points > 0, 3, np.where(points == 0, 1, 0))\n",
    "# np.array(np.hstack([np.matrix(data1), np.matrix(result).T, np.matrix(pts).T]))\n",
    "points = data1[\"GF\"] - data1[\"GA\"]\n",
    "data1['result'] = points.map(lambda x: 'W' if x > 0 else ('D' if x == 0 else 'L'))\n",
    "data1['pts'] = points.map(lambda x: 3 if x > 0 else (1 if x == 0 else 0))\n",
    "data1"
   ]
  },
  {
   "cell_type": "markdown",
   "metadata": {},
   "source": [
    "### Task 1.4"
   ]
  },
  {
   "cell_type": "code",
   "execution_count": null,
   "metadata": {},
   "outputs": [],
   "source": [
    "count = {}\n",
    "Opponent = data1[\"Opponent\"]\n",
    "\n",
    "for i in range(data1.shape[0]):\n",
    "    if count.get(Opponent[i]) == None:\n",
    "        count[Opponent[i]] = 0\n",
    "    if data1['pts'][i] == 3:\n",
    "        count[Opponent[i]] += 1\n",
    "\n",
    "for k in count.keys():\n",
    "    print(f\"Points against {k}: {count[k]}\")\n",
    "\n"
   ]
  },
  {
   "cell_type": "markdown",
   "metadata": {},
   "source": [
    "### Task 1.5"
   ]
  },
  {
   "cell_type": "code",
   "execution_count": null,
   "metadata": {},
   "outputs": [],
   "source": [
    "acc = []\n",
    "for i in range(data1.shape[0]):\n",
    "    if i == 0: \n",
    "        acc.append(data1['pts'][i])\n",
    "    else:\n",
    "        acc.append(acc[i-1] + data1['pts'][i])\n",
    "data1['acc'] = acc\n",
    "data1\n",
    "\n",
    "data1['accum'] = data1['pts'].cumsum()\n",
    "np.where(data1['accum'] > 40)"
   ]
  },
  {
   "cell_type": "markdown",
   "metadata": {},
   "source": [
    "### Task 1.6\n",
    "Use the internet to figure out what this function does. Then use it to compute the length of the longest winning streak that Liverpool had.\n",
    "\n",
    "```Python\n",
    "import re\n",
    "def fn1(str1):\n",
    "    out_string = re.split('[LD]+', str1)\n",
    "    st1 = [len(x) for x in out_string]\n",
    "    return st1\n",
    "rle_out = fn1(liv.result.str.cat())\n",
    "np.max(rle_out)\n",
    "```"
   ]
  },
  {
   "cell_type": "code",
   "execution_count": null,
   "metadata": {},
   "outputs": [],
   "source": [
    "import pdb\n",
    "#pdb.set_trace()\n",
    "def fn1(str):\n",
    "    out_string = re.split('[LD]+', str)\n",
    "    st1 = [len(x) for x in out_string]\n",
    "    return st1\n",
    "\n",
    "\"\"\"\n",
    "str = \"\"\n",
    "for i in range(data1.shape[0]):\n",
    "    str += data1.result[i]\n",
    "rle_out = fn1(str)\n",
    "\"\"\"\n",
    "rle_out = fn1(data1.result.str.cat())\n",
    "\n",
    "np.max(rle_out)"
   ]
  },
  {
   "cell_type": "markdown",
   "metadata": {},
   "source": [
    "### Task 1.7"
   ]
  },
  {
   "cell_type": "code",
   "execution_count": null,
   "metadata": {},
   "outputs": [],
   "source": [
    "# The first 10 rows\n",
    "data1.iloc[0:10]"
   ]
  },
  {
   "cell_type": "code",
   "execution_count": null,
   "metadata": {},
   "outputs": [],
   "source": [
    "# Alternate rows from the first 10 rows, starting with the first.\n",
    "data1[:10:2]"
   ]
  },
  {
   "cell_type": "code",
   "execution_count": null,
   "metadata": {},
   "outputs": [],
   "source": [
    "# Every alternate row, and columns Date, Venue, GF, GA and result.\n",
    "data1.iloc[0:10:2][['Date', 'Venue', 'GF', 'GA', 'result']]"
   ]
  },
  {
   "cell_type": "code",
   "execution_count": null,
   "metadata": {},
   "outputs": [],
   "source": [
    "# The last 5 rows.\n",
    "data1.iloc[-5:]"
   ]
  },
  {
   "cell_type": "code",
   "execution_count": null,
   "metadata": {},
   "outputs": [],
   "source": [
    "# All rows in reverse order.\n",
    "data1.iloc[::-1]"
   ]
  },
  {
   "cell_type": "markdown",
   "metadata": {},
   "source": [
    "## Truncated Poisson"
   ]
  },
  {
   "cell_type": "code",
   "execution_count": null,
   "metadata": {},
   "outputs": [],
   "source": [
    "y_values = np.array([1, 2, 3, 5])\n",
    "y_freq = np.array([12, 14, 3, 1])\n",
    "\n",
    "y_bar = np.sum(y_values * y_freq) / np.sum(y_freq)\n",
    "\n",
    "def lambda_mle(lambda_est):\n",
    "    return lambda_est / (1 - np.exp(-lambda_est))\n",
    "\n",
    "lambda_est = np.arange(0.5, 2.01, 0.01)\n",
    "diff = np.abs(lambda_mle(lambda_est) - y_bar)\n",
    "\n",
    "mle = lambda_est[np.argmin(diff)]\n",
    "\n",
    "mle\n"
   ]
  }
 ],
 "metadata": {
  "kernelspec": {
   "display_name": "myenv",
   "language": "python",
   "name": "python3"
  },
  "language_info": {
   "codemirror_mode": {
    "name": "ipython",
    "version": 3
   },
   "file_extension": ".py",
   "mimetype": "text/x-python",
   "name": "python",
   "nbconvert_exporter": "python",
   "pygments_lexer": "ipython3",
   "version": "3.12.4"
  }
 },
 "nbformat": 4,
 "nbformat_minor": 2
}
