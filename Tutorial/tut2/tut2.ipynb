{
 "cells": [
  {
   "cell_type": "markdown",
   "metadata": {},
   "source": [
    "# Tutorial 2"
   ]
  },
  {
   "cell_type": "code",
   "execution_count": 2,
   "metadata": {},
   "outputs": [],
   "source": [
    "import pandas as pd\n",
    "import numpy as np\n",
    "import re"
   ]
  },
  {
   "cell_type": "markdown",
   "metadata": {},
   "source": [
    "## Dataset: Liverpool"
   ]
  },
  {
   "cell_type": "markdown",
   "metadata": {},
   "source": [
    "### Task 1.1"
   ]
  },
  {
   "cell_type": "code",
   "execution_count": 4,
   "metadata": {},
   "outputs": [],
   "source": [
    "data1 = pd.read_csv(\"liverpool_2223_season.csv\")"
   ]
  },
  {
   "cell_type": "markdown",
   "metadata": {},
   "source": [
    "### Task 1.2"
   ]
  },
  {
   "cell_type": "code",
   "execution_count": 6,
   "metadata": {},
   "outputs": [
    {
     "name": "stdout",
     "output_type": "stream",
     "text": [
      "{'Mon': 7, 'Tue': 1, 'Wed': 5, 'Thu': 0, 'Fri': 1, 'Sat': 17, 'Sun': 7}\n"
     ]
    },
    {
     "data": {
      "text/plain": [
       "<Axes: xlabel='Day'>"
      ]
     },
     "execution_count": 6,
     "metadata": {},
     "output_type": "execute_result"
    },
    {
     "data": {
      "image/png": "[encoded data removed]",
      "text/plain": [
       "<Figure size 640x480 with 1 Axes>"
      ]
     },
     "metadata": {},
     "output_type": "display_data"
    }
   ],
   "source": [
    "day = data1[\"Day\"]\n",
    "\n",
    "# using for loop\n",
    "count = {\"Mon\":0, \"Tue\":0, \"Wed\":0, \"Thu\":0, \"Fri\":0, \"Sat\":0, \"Sun\":0}\n",
    "for d in day:\n",
    "    count[d] = count[d] + 1\n",
    "print(count)\n",
    "\n",
    "# using padans method\n",
    "day = pd.Series.value_counts(day)\n",
    "\n",
    "# use a singal line to print!\n",
    "data1.Day.value_counts()\n",
    "\n",
    "# bar plot\n",
    "day.plot(kind=\"bar\")"
   ]
  },
  {
   "cell_type": "markdown",
   "metadata": {},
   "source": [
    "### Task 1.3"
   ]
  },
  {
   "cell_type": "code",
   "execution_count": null,
   "metadata": {},
   "outputs": [],
   "source": [
    "\n",
    "# points = np.array(data1[\"GF\"] - data1[\"GA\"])\n",
    "# result = np.where(points > 0, \"W\", np.where(points == 0, \"D\", \"L\"))\n",
    "# pts = np.where(points > 0, 3, np.where(points == 0, 1, 0))\n",
    "# np.array(np.hstack([np.matrix(data1), np.matrix(result).T, np.matrix(pts).T]))\n",
    "points = data1[\"GF\"] - data1[\"GA\"]\n",
    "data1['result'] = points.map(lambda x: 'W' if x > 0 else ('D' if x == 0 else 'L'))\n",
    "data1['pts'] = points.map(lambda x: 3 if x > 0 else (1 if x == 0 else 0))\n",
    "data1"
   ]
  },
  {
   "cell_type": "code",
   "execution_count": 18,
   "metadata": {},
   "outputs": [
    {
     "name": "stdout",
     "output_type": "stream",
     "text": [
      "   int  float\n",
      "0    1    1.5\n",
      "1    2    0.0\n",
      "int      1.0\n",
      "float    1.5\n",
      "Name: 0, dtype: float64\n"
     ]
    }
   ],
   "source": [
    "# method: iterrows -> (index, rowdata)\n",
    "type(data1.iterrows())\n",
    "df = pd.DataFrame([[1, 1.5],[2, 0]], columns=['int', 'float'])\n",
    "print(df)\n",
    "_, row = next(df.iterrows())\n",
    "print(row)"
   ]
  },
  {
   "cell_type": "code",
   "execution_count": 20,
   "metadata": {},
   "outputs": [],
   "source": [
    "# solution 2\n",
    "\n",
    "result = []\n",
    "pts = []\n",
    "\n",
    "for _,y in data1.iterrows():\n",
    "    if y.GF > y.GA:\n",
    "        result.append('W')\n",
    "        pts.append(3)\n",
    "    elif y.GF == y.GA:\n",
    "        result.append('D')\n",
    "        pts.append(1)\n",
    "    else:\n",
    "        result.append('L')\n",
    "        pts.append(0)\n",
    "\n",
    "data1['result'] = result\n",
    "data1['pts'] = pts"
   ]
  },
  {
   "cell_type": "markdown",
   "metadata": {},
   "source": [
    "### Task 1.4"
   ]
  },
  {
   "cell_type": "code",
   "execution_count": null,
   "metadata": {},
   "outputs": [],
   "source": [
    "count = {}\n",
    "Opponent = data1[\"Opponent\"]\n",
    "\n",
    "for i in range(data1.shape[0]):\n",
    "    if count.get(Opponent[i]) == None:\n",
    "        count[Opponent[i]] = 0\n",
    "    if data1['pts'][i] == 3:\n",
    "        count[Opponent[i]] += 1\n",
    "\n",
    "for k in count.keys():\n",
    "    print(f\"Points against {k}: {count[k]}\")\n",
    "\n"
   ]
  },
  {
   "cell_type": "markdown",
   "metadata": {},
   "source": [
    "### Task 1.5"
   ]
  },
  {
   "cell_type": "code",
   "execution_count": null,
   "metadata": {},
   "outputs": [],
   "source": [
    "acc = []\n",
    "for i in range(data1.shape[0]):\n",
    "    if i == 0: \n",
    "        acc.append(data1['pts'][i])\n",
    "    else:\n",
    "        acc.append(acc[i-1] + data1['pts'][i])\n",
    "data1['acc'] = acc\n",
    "data1\n",
    "\n",
    "data1['accum'] = data1['pts'].cumsum()\n",
    "np.where(data1['accum'] > 40)"
   ]
  },
  {
   "cell_type": "code",
   "execution_count": 25,
   "metadata": {},
   "outputs": [
    {
     "data": {
      "text/html": [
       "<div>\n",
       "<style scoped>\n",
       "    .dataframe tbody tr th:only-of-type {\n",
       "        vertical-align: middle;\n",
       "    }\n",
       "\n",
       "    .dataframe tbody tr th {\n",
       "        vertical-align: top;\n",
       "    }\n",
       "\n",
       "    .dataframe thead th {\n",
       "        text-align: right;\n",
       "    }\n",
       "</style>\n",
       "<table border=\"1\" class=\"dataframe\">\n",
       "  <thead>\n",
       "    <tr style=\"text-align: right;\">\n",
       "      <th></th>\n",
       "      <th>Date</th>\n",
       "      <th>Day</th>\n",
       "      <th>Venue</th>\n",
       "      <th>GF</th>\n",
       "      <th>GA</th>\n",
       "      <th>Opponent</th>\n",
       "      <th>result</th>\n",
       "      <th>pts</th>\n",
       "      <th>cumul_pts</th>\n",
       "    </tr>\n",
       "  </thead>\n",
       "  <tbody>\n",
       "    <tr>\n",
       "      <th>24</th>\n",
       "      <td>2023-03-05</td>\n",
       "      <td>Sun</td>\n",
       "      <td>Home</td>\n",
       "      <td>7</td>\n",
       "      <td>0</td>\n",
       "      <td>Manchester Utd</td>\n",
       "      <td>W</td>\n",
       "      <td>3</td>\n",
       "      <td>42</td>\n",
       "    </tr>\n",
       "  </tbody>\n",
       "</table>\n",
       "</div>"
      ],
      "text/plain": [
       "          Date  Day Venue  GF  GA        Opponent result  pts  cumul_pts\n",
       "24  2023-03-05  Sun  Home   7   0  Manchester Utd      W    3         42"
      ]
     },
     "execution_count": 25,
     "metadata": {},
     "output_type": "execute_result"
    }
   ],
   "source": [
    "# solution 2\n",
    "# cumsum(axis=None, skipna=True, *args, **kwargs) -> Return cumulative sum over a DataFrame or Series axis.\n",
    "data1['cumul_pts'] = data1.pts.cumsum()\n",
    "data1.pts.cumsum()\n",
    "id = np.where(data1.cumul_pts >= 40) # -> index of all cumul_pts >= 40\n",
    "data1.iloc[id[0], ].head(1) # -> the first row >= 40"
   ]
  },
  {
   "cell_type": "markdown",
   "metadata": {},
   "source": [
    "### Task 1.6\n",
    "Use the internet to figure out what this function does. Then use it to compute the length of the longest winning streak that Liverpool had.\n",
    "\n",
    "```Python\n",
    "import re\n",
    "def fn1(str1):\n",
    "    out_string = re.split('[LD]+', str1)\n",
    "    st1 = [len(x) for x in out_string]\n",
    "    return st1\n",
    "rle_out = fn1(liv.result.str.cat())\n",
    "np.max(rle_out)\n",
    "```"
   ]
  },
  {
   "cell_type": "code",
   "execution_count": null,
   "metadata": {},
   "outputs": [],
   "source": [
    "import pdb\n",
    "#pdb.set_trace()\n",
    "def fn1(str):\n",
    "    out_string = re.split('[LD]+', str)\n",
    "    st1 = [len(x) for x in out_string]\n",
    "    return st1\n",
    "\n",
    "\"\"\"\n",
    "str = \"\"\n",
    "for i in range(data1.shape[0]):\n",
    "    str += data1.result[i]\n",
    "rle_out = fn1(str)\n",
    "\"\"\"\n",
    "rle_out = fn1(data1.result.str.cat())\n",
    "\n",
    "np.max(rle_out)"
   ]
  },
  {
   "cell_type": "markdown",
   "metadata": {},
   "source": [
    "### Task 1.7"
   ]
  },
  {
   "cell_type": "code",
   "execution_count": null,
   "metadata": {},
   "outputs": [],
   "source": [
    "# The first 10 rows\n",
    "data1.iloc[0:10]"
   ]
  },
  {
   "cell_type": "code",
   "execution_count": null,
   "metadata": {},
   "outputs": [],
   "source": [
    "# Alternate rows from the first 10 rows, starting with the first.\n",
    "data1[:10:2]"
   ]
  },
  {
   "cell_type": "code",
   "execution_count": 27,
   "metadata": {},
   "outputs": [
    {
     "data": {
      "text/html": [
       "<div>\n",
       "<style scoped>\n",
       "    .dataframe tbody tr th:only-of-type {\n",
       "        vertical-align: middle;\n",
       "    }\n",
       "\n",
       "    .dataframe tbody tr th {\n",
       "        vertical-align: top;\n",
       "    }\n",
       "\n",
       "    .dataframe thead th {\n",
       "        text-align: right;\n",
       "    }\n",
       "</style>\n",
       "<table border=\"1\" class=\"dataframe\">\n",
       "  <thead>\n",
       "    <tr style=\"text-align: right;\">\n",
       "      <th></th>\n",
       "      <th>Date</th>\n",
       "      <th>Venue</th>\n",
       "      <th>GF</th>\n",
       "      <th>GA</th>\n",
       "    </tr>\n",
       "  </thead>\n",
       "  <tbody>\n",
       "    <tr>\n",
       "      <th>0</th>\n",
       "      <td>2022-08-06</td>\n",
       "      <td>Away</td>\n",
       "      <td>2</td>\n",
       "      <td>2</td>\n",
       "    </tr>\n",
       "    <tr>\n",
       "      <th>2</th>\n",
       "      <td>2022-08-22</td>\n",
       "      <td>Away</td>\n",
       "      <td>1</td>\n",
       "      <td>2</td>\n",
       "    </tr>\n",
       "    <tr>\n",
       "      <th>4</th>\n",
       "      <td>2022-08-31</td>\n",
       "      <td>Home</td>\n",
       "      <td>2</td>\n",
       "      <td>1</td>\n",
       "    </tr>\n",
       "    <tr>\n",
       "      <th>6</th>\n",
       "      <td>2022-10-01</td>\n",
       "      <td>Home</td>\n",
       "      <td>3</td>\n",
       "      <td>3</td>\n",
       "    </tr>\n",
       "    <tr>\n",
       "      <th>8</th>\n",
       "      <td>2022-10-16</td>\n",
       "      <td>Home</td>\n",
       "      <td>1</td>\n",
       "      <td>0</td>\n",
       "    </tr>\n",
       "    <tr>\n",
       "      <th>10</th>\n",
       "      <td>2022-10-22</td>\n",
       "      <td>Away</td>\n",
       "      <td>0</td>\n",
       "      <td>1</td>\n",
       "    </tr>\n",
       "    <tr>\n",
       "      <th>12</th>\n",
       "      <td>2022-11-06</td>\n",
       "      <td>Away</td>\n",
       "      <td>2</td>\n",
       "      <td>1</td>\n",
       "    </tr>\n",
       "    <tr>\n",
       "      <th>14</th>\n",
       "      <td>2022-12-26</td>\n",
       "      <td>Away</td>\n",
       "      <td>3</td>\n",
       "      <td>1</td>\n",
       "    </tr>\n",
       "    <tr>\n",
       "      <th>16</th>\n",
       "      <td>2023-01-02</td>\n",
       "      <td>Away</td>\n",
       "      <td>1</td>\n",
       "      <td>3</td>\n",
       "    </tr>\n",
       "    <tr>\n",
       "      <th>18</th>\n",
       "      <td>2023-01-21</td>\n",
       "      <td>Home</td>\n",
       "      <td>0</td>\n",
       "      <td>0</td>\n",
       "    </tr>\n",
       "    <tr>\n",
       "      <th>20</th>\n",
       "      <td>2023-02-13</td>\n",
       "      <td>Home</td>\n",
       "      <td>2</td>\n",
       "      <td>0</td>\n",
       "    </tr>\n",
       "    <tr>\n",
       "      <th>22</th>\n",
       "      <td>2023-02-25</td>\n",
       "      <td>Away</td>\n",
       "      <td>0</td>\n",
       "      <td>0</td>\n",
       "    </tr>\n",
       "    <tr>\n",
       "      <th>24</th>\n",
       "      <td>2023-03-05</td>\n",
       "      <td>Home</td>\n",
       "      <td>7</td>\n",
       "      <td>0</td>\n",
       "    </tr>\n",
       "    <tr>\n",
       "      <th>26</th>\n",
       "      <td>2023-04-01</td>\n",
       "      <td>Away</td>\n",
       "      <td>1</td>\n",
       "      <td>4</td>\n",
       "    </tr>\n",
       "    <tr>\n",
       "      <th>28</th>\n",
       "      <td>2023-04-09</td>\n",
       "      <td>Home</td>\n",
       "      <td>2</td>\n",
       "      <td>2</td>\n",
       "    </tr>\n",
       "    <tr>\n",
       "      <th>30</th>\n",
       "      <td>2023-04-22</td>\n",
       "      <td>Home</td>\n",
       "      <td>3</td>\n",
       "      <td>2</td>\n",
       "    </tr>\n",
       "    <tr>\n",
       "      <th>32</th>\n",
       "      <td>2023-04-30</td>\n",
       "      <td>Home</td>\n",
       "      <td>4</td>\n",
       "      <td>3</td>\n",
       "    </tr>\n",
       "    <tr>\n",
       "      <th>34</th>\n",
       "      <td>2023-05-06</td>\n",
       "      <td>Home</td>\n",
       "      <td>1</td>\n",
       "      <td>0</td>\n",
       "    </tr>\n",
       "    <tr>\n",
       "      <th>36</th>\n",
       "      <td>2023-05-20</td>\n",
       "      <td>Home</td>\n",
       "      <td>1</td>\n",
       "      <td>1</td>\n",
       "    </tr>\n",
       "  </tbody>\n",
       "</table>\n",
       "</div>"
      ],
      "text/plain": [
       "          Date Venue  GF  GA\n",
       "0   2022-08-06  Away   2   2\n",
       "2   2022-08-22  Away   1   2\n",
       "4   2022-08-31  Home   2   1\n",
       "6   2022-10-01  Home   3   3\n",
       "8   2022-10-16  Home   1   0\n",
       "10  2022-10-22  Away   0   1\n",
       "12  2022-11-06  Away   2   1\n",
       "14  2022-12-26  Away   3   1\n",
       "16  2023-01-02  Away   1   3\n",
       "18  2023-01-21  Home   0   0\n",
       "20  2023-02-13  Home   2   0\n",
       "22  2023-02-25  Away   0   0\n",
       "24  2023-03-05  Home   7   0\n",
       "26  2023-04-01  Away   1   4\n",
       "28  2023-04-09  Home   2   2\n",
       "30  2023-04-22  Home   3   2\n",
       "32  2023-04-30  Home   4   3\n",
       "34  2023-05-06  Home   1   0\n",
       "36  2023-05-20  Home   1   1"
      ]
     },
     "execution_count": 27,
     "metadata": {},
     "output_type": "execute_result"
    }
   ],
   "source": [
    "# Every alternate row, and columns Date, Venue, GF, GA and result.\n",
    "data1.iloc[0:10:2][['Date', 'Venue', 'GF', 'GA', 'result']]\n",
    "data1.iloc[0::2, [0, 2, 3, 4]]"
   ]
  },
  {
   "cell_type": "code",
   "execution_count": 26,
   "metadata": {},
   "outputs": [
    {
     "data": {
      "text/html": [
       "<div>\n",
       "<style scoped>\n",
       "    .dataframe tbody tr th:only-of-type {\n",
       "        vertical-align: middle;\n",
       "    }\n",
       "\n",
       "    .dataframe tbody tr th {\n",
       "        vertical-align: top;\n",
       "    }\n",
       "\n",
       "    .dataframe thead th {\n",
       "        text-align: right;\n",
       "    }\n",
       "</style>\n",
       "<table border=\"1\" class=\"dataframe\">\n",
       "  <thead>\n",
       "    <tr style=\"text-align: right;\">\n",
       "      <th></th>\n",
       "      <th>Date</th>\n",
       "      <th>Day</th>\n",
       "      <th>Venue</th>\n",
       "      <th>GF</th>\n",
       "      <th>GA</th>\n",
       "      <th>Opponent</th>\n",
       "      <th>result</th>\n",
       "      <th>pts</th>\n",
       "      <th>cumul_pts</th>\n",
       "    </tr>\n",
       "  </thead>\n",
       "  <tbody>\n",
       "    <tr>\n",
       "      <th>33</th>\n",
       "      <td>2023-05-03</td>\n",
       "      <td>Wed</td>\n",
       "      <td>Home</td>\n",
       "      <td>1</td>\n",
       "      <td>0</td>\n",
       "      <td>Fulham</td>\n",
       "      <td>W</td>\n",
       "      <td>3</td>\n",
       "      <td>59</td>\n",
       "    </tr>\n",
       "    <tr>\n",
       "      <th>34</th>\n",
       "      <td>2023-05-06</td>\n",
       "      <td>Sat</td>\n",
       "      <td>Home</td>\n",
       "      <td>1</td>\n",
       "      <td>0</td>\n",
       "      <td>Brentford</td>\n",
       "      <td>W</td>\n",
       "      <td>3</td>\n",
       "      <td>62</td>\n",
       "    </tr>\n",
       "    <tr>\n",
       "      <th>35</th>\n",
       "      <td>2023-05-15</td>\n",
       "      <td>Mon</td>\n",
       "      <td>Away</td>\n",
       "      <td>3</td>\n",
       "      <td>0</td>\n",
       "      <td>Leicester City</td>\n",
       "      <td>W</td>\n",
       "      <td>3</td>\n",
       "      <td>65</td>\n",
       "    </tr>\n",
       "    <tr>\n",
       "      <th>36</th>\n",
       "      <td>2023-05-20</td>\n",
       "      <td>Sat</td>\n",
       "      <td>Home</td>\n",
       "      <td>1</td>\n",
       "      <td>1</td>\n",
       "      <td>Aston Villa</td>\n",
       "      <td>D</td>\n",
       "      <td>1</td>\n",
       "      <td>66</td>\n",
       "    </tr>\n",
       "    <tr>\n",
       "      <th>37</th>\n",
       "      <td>2023-05-28</td>\n",
       "      <td>Sun</td>\n",
       "      <td>Away</td>\n",
       "      <td>4</td>\n",
       "      <td>4</td>\n",
       "      <td>Southampton</td>\n",
       "      <td>D</td>\n",
       "      <td>1</td>\n",
       "      <td>67</td>\n",
       "    </tr>\n",
       "  </tbody>\n",
       "</table>\n",
       "</div>"
      ],
      "text/plain": [
       "          Date  Day Venue  GF  GA        Opponent result  pts  cumul_pts\n",
       "33  2023-05-03  Wed  Home   1   0          Fulham      W    3         59\n",
       "34  2023-05-06  Sat  Home   1   0       Brentford      W    3         62\n",
       "35  2023-05-15  Mon  Away   3   0  Leicester City      W    3         65\n",
       "36  2023-05-20  Sat  Home   1   1     Aston Villa      D    1         66\n",
       "37  2023-05-28  Sun  Away   4   4     Southampton      D    1         67"
      ]
     },
     "execution_count": 26,
     "metadata": {},
     "output_type": "execute_result"
    }
   ],
   "source": [
    "# The last 5 rows.\n",
    "data1.iloc[-5:,:]"
   ]
  },
  {
   "cell_type": "code",
   "execution_count": null,
   "metadata": {},
   "outputs": [],
   "source": [
    "# All rows in reverse order.\n",
    "data1.iloc[::-1]"
   ]
  },
  {
   "cell_type": "markdown",
   "metadata": {},
   "source": [
    "## Truncated Poisson"
   ]
  },
  {
   "cell_type": "code",
   "execution_count": null,
   "metadata": {},
   "outputs": [],
   "source": [
    "y_values = np.array([1, 2, 3, 5])\n",
    "y_freq = np.array([12, 14, 3, 1])\n",
    "\n",
    "y_bar = np.sum(y_values * y_freq) / np.sum(y_freq)\n",
    "\n",
    "def lambda_mle(lambda_est):\n",
    "    return lambda_est / (1 - np.exp(-lambda_est))\n",
    "\n",
    "lambda_est = np.arange(0.5, 2.01, 0.01)\n",
    "diff = np.abs(lambda_mle(lambda_est) - y_bar)\n",
    "\n",
    "mle = lambda_est[np.argmin(diff)]\n",
    "\n",
    "mle\n"
   ]
  }
 ],
 "metadata": {
  "kernelspec": {
   "display_name": "myenv",
   "language": "python",
   "name": "python3"
  },
  "language_info": {
   "codemirror_mode": {
    "name": "ipython",
    "version": 3
   },
   "file_extension": ".py",
   "mimetype": "text/x-python",
   "name": "python",
   "nbconvert_exporter": "python",
   "pygments_lexer": "ipython3",
   "version": "3.12.4"
  }
 },
 "nbformat": 4,
 "nbformat_minor": 2
}
