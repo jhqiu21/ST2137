{
 "cells": [
  {
   "cell_type": "markdown",
   "id": "13fc6a4c",
   "metadata": {},
   "source": [
    "## Tutorial 11"
   ]
  },
  {
   "cell_type": "code",
   "execution_count": 14,
   "id": "873b0a58",
   "metadata": {},
   "outputs": [],
   "source": [
    "import numpy as np\n",
    "import pandas as pd\n",
    "from scipy import stats\n",
    "import statsmodels.api as sm\n",
    "from scipy.stats import binom, gamma, norm, poisson, uniform\n",
    "import matplotlib.pyplot as plt\n",
    "path = \"../../src/\"\n",
    "# Random Number Generator\n",
    "rng = np.random.default_rng(2137)"
   ]
  },
  {
   "cell_type": "code",
   "execution_count": null,
   "id": "a44ff031",
   "metadata": {},
   "outputs": [
    {
     "name": "stdout",
     "output_type": "stream",
     "text": [
      "1.41966560483202 1.476978514260275\n"
     ]
    }
   ],
   "source": [
    "U = uniform.rvs(0, 1, size=1000, random_state=rng)\n",
    "X = np.exp(U**2)\n",
    "X_bar = np.mean(X)\n",
    "s = np.std(X)\n",
    "z = stats.norm.ppf(0.975) # get z-score\n",
    "upper_ci = X_bar + z * s / np.sqrt(1000)\n",
    "lower_ci = X_bar - z * s / np.sqrt(1000)\n",
    "print(lower_ci, upper_ci)"
   ]
  },
  {
   "cell_type": "code",
   "execution_count": 11,
   "id": "1afc74e0",
   "metadata": {},
   "outputs": [
    {
     "name": "stdout",
     "output_type": "stream",
     "text": [
      "2.736\n",
      "2.6821703821833665 2.789829617816634\n"
     ]
    }
   ],
   "source": [
    "def oneSample():\n",
    "    N = 0\n",
    "    sum = 0\n",
    "    while sum < 1:\n",
    "        sum = sum + uniform.rvs(0, 1, size=1, random_state=rng)\n",
    "        N = N + 1\n",
    "    return N\n",
    "\n",
    "sample = np.array([oneSample() for i in range(1000)])\n",
    "est = np.mean(sample)\n",
    "print(est)\n",
    "z = stats.norm.ppf(0.975)\n",
    "sd = np.std(sample)\n",
    "upr_ci = est + z * sd / np.sqrt(1000)\n",
    "lwr_ci = est - z * sd / np.sqrt(1000)\n",
    "print(lwr_ci, upr_ci)\n"
   ]
  },
  {
   "cell_type": "code",
   "execution_count": null,
   "id": "b8f3b3cd",
   "metadata": {},
   "outputs": [
    {
     "data": {
      "text/plain": [
       "<matplotlib.collections.LineCollection at 0x125d32f30>"
      ]
     },
     "execution_count": 24,
     "metadata": {},
     "output_type": "execute_result"
    },
    {
     "data": {
      "image/png": "[encoded data removed]",
      "text/plain": [
       "<Figure size 640x480 with 1 Axes>"
      ]
     },
     "metadata": {},
     "output_type": "display_data"
    }
   ],
   "source": [
    "def oneSample(n):\n",
    "    X = norm.rvs(0, 1, size=n, random_state=rng)\n",
    "    Y = norm.rvs(1.5, 1, size=n, random_state=rng)\n",
    "    t_out = stats.ttest_ind(X, Y)\n",
    "    if t_out.pvalue < 0.05:\n",
    "        return 1\n",
    "    else:\n",
    "        return 0\n",
    "    \n",
    "def propSample(n):\n",
    "    sample = np.array([oneSample(n) for j in range(1000)])\n",
    "    return np.mean(sample)\n",
    "\n",
    "obs = np.array([propSample(i) for i in np.arange(5,11)])\n",
    "plt.plot(np.arange(5,11), obs)\n",
    "plt.scatter(np.arange(5,11), obs)\n",
    "plt.ylim(0.5, 1)\n",
    "plt.hlines(0.8, 5, 10, color=\"red\", linestyles=\"dashed\")"
   ]
  },
  {
   "cell_type": "code",
   "execution_count": 47,
   "id": "3824070d",
   "metadata": {},
   "outputs": [
    {
     "data": {
      "text/plain": [
       "0.122"
      ]
     },
     "execution_count": 47,
     "metadata": {},
     "output_type": "execute_result"
    }
   ],
   "source": [
    "def oneGame():\n",
    "    X = norm.rvs(115.8, 11.2, size=1, random_state=rng)\n",
    "    Y = norm.rvs(109.5 + 0.7 * 10.6 / 11.2 * (X - 115.8), 10.6 * np.sqrt(1-0.7**2), size=1, random_state=rng)\n",
    "    if X > Y:\n",
    "        return 'Denver'\n",
    "    else:\n",
    "        return 'Miami'\n",
    "\n",
    "def oneSeries():\n",
    "    Dsum = 0\n",
    "    Msum = 0\n",
    "    while (Dsum < 4 and Msum < 4):\n",
    "        if oneGame() == 'Denver':\n",
    "            Dsum += 1\n",
    "        else:\n",
    "            Msum += 1\n",
    "    result = 1 if Dsum > Msum else 0\n",
    "    n_games = Dsum + Msum\n",
    "    return result, n_games\n",
    "\n",
    "sim = np.array([oneSeries() for i in range(1000)])\n",
    "np.mean(sim, axis=0)\n",
    "np.size(np.where(sim[:,1] == 7))/1000"
   ]
  }
 ],
 "metadata": {
  "kernelspec": {
   "display_name": "myenv",
   "language": "python",
   "name": "python3"
  },
  "language_info": {
   "codemirror_mode": {
    "name": "ipython",
    "version": 3
   },
   "file_extension": ".py",
   "mimetype": "text/x-python",
   "name": "python",
   "nbconvert_exporter": "python",
   "pygments_lexer": "ipython3",
   "version": "3.12.4"
  }
 },
 "nbformat": 4,
 "nbformat_minor": 5
}
