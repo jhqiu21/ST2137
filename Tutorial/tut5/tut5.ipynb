{
 "cells": [
  {
   "cell_type": "markdown",
   "metadata": {},
   "source": [
    "# Tutorial 5"
   ]
  },
  {
   "cell_type": "code",
   "execution_count": 11,
   "metadata": {},
   "outputs": [],
   "source": [
    "import numpy as np\n",
    "import pandas as pd\n",
    "import scipy.stats as stats\n",
    "from scipy.stats import median_abs_deviation\n",
    "from scipy.stats import trim_mean"
   ]
  },
  {
   "cell_type": "markdown",
   "metadata": {},
   "source": [
    "## Distributions"
   ]
  },
  {
   "cell_type": "markdown",
   "metadata": {},
   "source": [
    "### Task 1.1"
   ]
  },
  {
   "cell_type": "code",
   "execution_count": 3,
   "metadata": {},
   "outputs": [
    {
     "name": "stdout",
     "output_type": "stream",
     "text": [
      "Mean of sample means: -0.0197\n",
      "SD of sample means: 0.3126\n",
      "Mean of trimmed means: -0.0082\n",
      "SD of trimmed means: 0.2256\n"
     ]
    }
   ],
   "source": [
    "np.random.seed(123)\n",
    "\n",
    "sample_means = []\n",
    "trimmed_means = []\n",
    "\n",
    "for _ in range(50):\n",
    "    Z = np.random.normal(0, 1, 30)\n",
    "    Y = Z * np.exp(0.3 * Z**2 / 2)\n",
    "\n",
    "    sample_means.append(np.mean(Y))\n",
    "    trimmed_means.append(trim_mean(Y, proportiontocut=0.2))\n",
    "\n",
    "mean_sample = np.mean(sample_means)\n",
    "sd_sample = np.std(sample_means, ddof=1)\n",
    "\n",
    "mean_trimmed = np.mean(trimmed_means)\n",
    "sd_trimmed = np.std(trimmed_means, ddof=1)\n",
    "\n",
    "print(f\"Mean of sample means: {mean_sample:.4f}\")\n",
    "print(f\"SD of sample means: {sd_sample:.4f}\")\n",
    "print(f\"Mean of trimmed means: {mean_trimmed:.4f}\")\n",
    "print(f\"SD of trimmed means: {sd_trimmed:.4f}\")"
   ]
  },
  {
   "cell_type": "markdown",
   "metadata": {},
   "source": [
    "## Outliers"
   ]
  },
  {
   "cell_type": "code",
   "execution_count": 4,
   "metadata": {},
   "outputs": [],
   "source": [
    "data = np.array([2, 2, 3, 3, 3, 4, 4, 4, 100000, 100000])"
   ]
  },
  {
   "cell_type": "markdown",
   "metadata": {},
   "source": [
    "### Task 2.1"
   ]
  },
  {
   "cell_type": "code",
   "execution_count": 7,
   "metadata": {},
   "outputs": [
    {
     "data": {
      "text/plain": [
       "[]"
      ]
     },
     "execution_count": 7,
     "metadata": {},
     "output_type": "execute_result"
    }
   ],
   "source": [
    "mean_X = np.mean(data)\n",
    "std_X = np.std(data, ddof=1)\n",
    "\n",
    "outliers_mean = [x for x in data if abs(x - mean_X) / std_X > 2.24]\n",
    "outliers_mean"
   ]
  },
  {
   "cell_type": "code",
   "execution_count": 6,
   "metadata": {},
   "outputs": [
    {
     "data": {
      "text/plain": [
       "[np.int64(100000), np.int64(100000)]"
      ]
     },
     "execution_count": 6,
     "metadata": {},
     "output_type": "execute_result"
    }
   ],
   "source": [
    "q1 = np.percentile(data, 25)\n",
    "q3 = np.percentile(data, 75)\n",
    "iqr = q3 - q1\n",
    "\n",
    "lower_bound = q1 - 1.5 * iqr\n",
    "upper_bound = q3 + 1.5 * iqr\n",
    "\n",
    "outliers_iqr = [x for x in data if x < lower_bound or x > upper_bound]\n",
    "outliers_iqr"
   ]
  },
  {
   "cell_type": "code",
   "execution_count": 8,
   "metadata": {},
   "outputs": [
    {
     "data": {
      "text/plain": [
       "[np.int64(100000), np.int64(100000)]"
      ]
     },
     "execution_count": 8,
     "metadata": {},
     "output_type": "execute_result"
    }
   ],
   "source": [
    "median_X = np.median(data)\n",
    "mad_X = median_abs_deviation(data)\n",
    "\n",
    "outliers_mad = [x for x in data if abs(x - median_X) / (mad_X / 0.6745) > 2.24]\n",
    "outliers_mad"
   ]
  },
  {
   "cell_type": "markdown",
   "metadata": {},
   "source": [
    "## Student Performence"
   ]
  },
  {
   "cell_type": "code",
   "execution_count": 10,
   "metadata": {},
   "outputs": [],
   "source": [
    "path = \"../../src/\"\n",
    "data = pd.read_csv(path + \"data/student/student-mat.csv\", sep=\";\")\n",
    "df = pd.DataFrame(data)"
   ]
  },
  {
   "cell_type": "markdown",
   "metadata": {},
   "source": [
    "### Task 3.1"
   ]
  },
  {
   "cell_type": "code",
   "execution_count": 12,
   "metadata": {},
   "outputs": [
    {
     "data": {
      "text/html": [
       "<div>\n",
       "<style scoped>\n",
       "    .dataframe tbody tr th:only-of-type {\n",
       "        vertical-align: middle;\n",
       "    }\n",
       "\n",
       "    .dataframe tbody tr th {\n",
       "        vertical-align: top;\n",
       "    }\n",
       "\n",
       "    .dataframe thead th {\n",
       "        text-align: right;\n",
       "    }\n",
       "</style>\n",
       "<table border=\"1\" class=\"dataframe\">\n",
       "  <thead>\n",
       "    <tr style=\"text-align: right;\">\n",
       "      <th></th>\n",
       "      <th>Medu</th>\n",
       "      <th>Mean</th>\n",
       "      <th>Trimmed Mean</th>\n",
       "      <th>Winsorized Mean</th>\n",
       "    </tr>\n",
       "  </thead>\n",
       "  <tbody>\n",
       "    <tr>\n",
       "      <th>0</th>\n",
       "      <td>0</td>\n",
       "      <td>13.000000</td>\n",
       "      <td>13.000000</td>\n",
       "      <td>13.000000</td>\n",
       "    </tr>\n",
       "    <tr>\n",
       "      <th>1</th>\n",
       "      <td>1</td>\n",
       "      <td>8.677966</td>\n",
       "      <td>8.938776</td>\n",
       "      <td>8.525424</td>\n",
       "    </tr>\n",
       "    <tr>\n",
       "      <th>2</th>\n",
       "      <td>2</td>\n",
       "      <td>9.728155</td>\n",
       "      <td>10.120482</td>\n",
       "      <td>9.514563</td>\n",
       "    </tr>\n",
       "    <tr>\n",
       "      <th>3</th>\n",
       "      <td>3</td>\n",
       "      <td>10.303030</td>\n",
       "      <td>10.629630</td>\n",
       "      <td>10.606061</td>\n",
       "    </tr>\n",
       "    <tr>\n",
       "      <th>4</th>\n",
       "      <td>4</td>\n",
       "      <td>11.763359</td>\n",
       "      <td>12.076190</td>\n",
       "      <td>11.961832</td>\n",
       "    </tr>\n",
       "  </tbody>\n",
       "</table>\n",
       "</div>"
      ],
      "text/plain": [
       "   Medu       Mean  Trimmed Mean  Winsorized Mean\n",
       "0     0  13.000000     13.000000        13.000000\n",
       "1     1   8.677966      8.938776         8.525424\n",
       "2     2   9.728155     10.120482         9.514563\n",
       "3     3  10.303030     10.629630        10.606061\n",
       "4     4  11.763359     12.076190        11.961832"
      ]
     },
     "execution_count": 12,
     "metadata": {},
     "output_type": "execute_result"
    }
   ],
   "source": [
    "gamma = 0.1  # 10% trimming/winsorizing\n",
    "results = []\n",
    "\n",
    "for medu_level, group in df.groupby(\"Medu\"):\n",
    "    mean = group[\"G3\"].mean()\n",
    "    trimmed_mean = stats.trim_mean(group[\"G3\"], gamma)\n",
    "    winsorized_mean = stats.mstats.winsorize(group[\"G3\"], limits=gamma).mean()\n",
    "    results.append((medu_level, mean, trimmed_mean, winsorized_mean))\n",
    "\n",
    "results_df = pd.DataFrame(results, columns=[\"Medu\", \"Mean\", \"Trimmed Mean\", \"Winsorized Mean\"])\n",
    "results_df"
   ]
  },
  {
   "cell_type": "code",
   "execution_count": null,
   "metadata": {},
   "outputs": [
    {
     "name": "stdout",
     "output_type": "stream",
     "text": [
      "Outliers using Means and Variances:\n",
      "Medu     \n",
      "4     135    0\n",
      "      140    0\n",
      "      148    0\n",
      "      242    0\n",
      "      296    0\n",
      "      341    0\n",
      "Name: G3, dtype: int64\n",
      "\n",
      "Outliers using IQR:\n",
      "Medu     \n",
      "1     131    0\n",
      "      150    0\n",
      "      162    0\n",
      "      173    0\n",
      "      221    0\n",
      "      310    0\n",
      "      367    0\n",
      "      383    0\n",
      "      389    0\n",
      "2     128    0\n",
      "      144    0\n",
      "      160    0\n",
      "      168    0\n",
      "      239    0\n",
      "      244    0\n",
      "      259    0\n",
      "      264    0\n",
      "      269    0\n",
      "      316    0\n",
      "      333    0\n",
      "      334    0\n",
      "      343    0\n",
      "      387    0\n",
      "3     130    0\n",
      "      134    0\n",
      "      136    0\n",
      "      137    0\n",
      "      146    0\n",
      "      153    0\n",
      "      170    0\n",
      "      332    0\n",
      "      337    0\n",
      "4     135    0\n",
      "      140    0\n",
      "      148    0\n",
      "      242    0\n",
      "      296    0\n",
      "      341    0\n",
      "Name: G3, dtype: int64\n",
      "\n",
      "Outliers using Median and MAD:\n",
      "Medu     \n",
      "0     127     9\n",
      "1     131     0\n",
      "      150     0\n",
      "      162     0\n",
      "      173     0\n",
      "      221     0\n",
      "      310     0\n",
      "      367     0\n",
      "      383     0\n",
      "      389     0\n",
      "2     128     0\n",
      "      144     0\n",
      "      160     0\n",
      "      168     0\n",
      "      239     0\n",
      "      244     0\n",
      "      245    18\n",
      "      259     0\n",
      "      264     0\n",
      "      269     0\n",
      "      286    19\n",
      "      316     0\n",
      "      333     0\n",
      "      334     0\n",
      "      343     0\n",
      "      387     0\n",
      "3     130     0\n",
      "      134     0\n",
      "      136     0\n",
      "      137     0\n",
      "      146     0\n",
      "      153     0\n",
      "      170     0\n",
      "      332     0\n",
      "      337     0\n",
      "4     135     0\n",
      "      140     0\n",
      "      148     0\n",
      "      242     0\n",
      "      296     0\n",
      "      341     0\n",
      "Name: G3, dtype: int64\n"
     ]
    },
    {
     "name": "stderr",
     "output_type": "stream",
     "text": [
      "/var/folders/qf/kcn317s12j10nk3x4wvcv_w40000gn/T/ipykernel_77450/2188974401.py:19: DeprecationWarning: DataFrameGroupBy.apply operated on the grouping columns. This behavior is deprecated, and in a future version of pandas the grouping columns will be excluded from the operation. Either pass `include_groups=False` to exclude the groupings or explicitly select the grouping columns after groupby to silence this warning.\n",
      "  outliers_mean_variance = df.groupby(\"Medu\").apply(mean_variance_outliers)['G3']\n",
      "/var/folders/qf/kcn317s12j10nk3x4wvcv_w40000gn/T/ipykernel_77450/2188974401.py:20: DeprecationWarning: DataFrameGroupBy.apply operated on the grouping columns. This behavior is deprecated, and in a future version of pandas the grouping columns will be excluded from the operation. Either pass `include_groups=False` to exclude the groupings or explicitly select the grouping columns after groupby to silence this warning.\n",
      "  outliers_iqr = df.groupby(\"Medu\").apply(iqr_outliers)['G3']\n",
      "/var/folders/qf/kcn317s12j10nk3x4wvcv_w40000gn/T/ipykernel_77450/2188974401.py:21: DeprecationWarning: DataFrameGroupBy.apply operated on the grouping columns. This behavior is deprecated, and in a future version of pandas the grouping columns will be excluded from the operation. Either pass `include_groups=False` to exclude the groupings or explicitly select the grouping columns after groupby to silence this warning.\n",
      "  outliers_mad = df.groupby(\"Medu\").apply(mad_outliers)['G3']\n"
     ]
    }
   ],
   "source": [
    "def mean_variance_outliers(group):\n",
    "    mean_G3 = group[\"G3\"].mean()\n",
    "    std_G3 = group[\"G3\"].std()\n",
    "    return group[(abs(group[\"G3\"] - mean_G3) / std_G3) > 2.24]\n",
    "\n",
    "def iqr_outliers(group):\n",
    "    Q1 = group[\"G3\"].quantile(0.25)\n",
    "    Q3 = group[\"G3\"].quantile(0.75)\n",
    "    IQR = Q3 - Q1\n",
    "    lower_bound = Q1 - 1.5 * IQR\n",
    "    upper_bound = Q3 + 1.5 * IQR\n",
    "    return group[(group[\"G3\"] < lower_bound) | (group[\"G3\"] > upper_bound)]\n",
    "\n",
    "def mad_outliers(group):\n",
    "    median_G3 = group[\"G3\"].median()\n",
    "    mad_G3 = median_abs_deviation(group[\"G3\"], scale='normal')\n",
    "    return group[(abs(group[\"G3\"] - median_G3) / mad_G3) > 2.24]"
   ]
  },
  {
   "cell_type": "code",
   "execution_count": 20,
   "metadata": {},
   "outputs": [
    {
     "name": "stderr",
     "output_type": "stream",
     "text": [
      "/var/folders/qf/kcn317s12j10nk3x4wvcv_w40000gn/T/ipykernel_77450/1386584980.py:1: DeprecationWarning: DataFrameGroupBy.apply operated on the grouping columns. This behavior is deprecated, and in a future version of pandas the grouping columns will be excluded from the operation. Either pass `include_groups=False` to exclude the groupings or explicitly select the grouping columns after groupby to silence this warning.\n",
      "  outliers_mean_variance = df.groupby(\"Medu\").apply(mean_variance_outliers)['G3']\n"
     ]
    },
    {
     "data": {
      "text/plain": [
       "Medu     \n",
       "4     135    0\n",
       "      140    0\n",
       "      148    0\n",
       "      242    0\n",
       "      296    0\n",
       "      341    0\n",
       "Name: G3, dtype: int64"
      ]
     },
     "execution_count": 20,
     "metadata": {},
     "output_type": "execute_result"
    }
   ],
   "source": [
    "outliers_mean_variance = df.groupby(\"Medu\").apply(mean_variance_outliers)['G3']\n",
    "outliers_mean_variance"
   ]
  },
  {
   "cell_type": "code",
   "execution_count": 21,
   "metadata": {},
   "outputs": [
    {
     "name": "stderr",
     "output_type": "stream",
     "text": [
      "/var/folders/qf/kcn317s12j10nk3x4wvcv_w40000gn/T/ipykernel_77450/868828664.py:1: DeprecationWarning: DataFrameGroupBy.apply operated on the grouping columns. This behavior is deprecated, and in a future version of pandas the grouping columns will be excluded from the operation. Either pass `include_groups=False` to exclude the groupings or explicitly select the grouping columns after groupby to silence this warning.\n",
      "  outliers_iqr = df.groupby(\"Medu\").apply(iqr_outliers)['G3']\n"
     ]
    },
    {
     "data": {
      "text/plain": [
       "Medu     \n",
       "1     131    0\n",
       "      150    0\n",
       "      162    0\n",
       "      173    0\n",
       "      221    0\n",
       "      310    0\n",
       "      367    0\n",
       "      383    0\n",
       "      389    0\n",
       "2     128    0\n",
       "      144    0\n",
       "      160    0\n",
       "      168    0\n",
       "      239    0\n",
       "      244    0\n",
       "      259    0\n",
       "      264    0\n",
       "      269    0\n",
       "      316    0\n",
       "      333    0\n",
       "      334    0\n",
       "      343    0\n",
       "      387    0\n",
       "3     130    0\n",
       "      134    0\n",
       "      136    0\n",
       "      137    0\n",
       "      146    0\n",
       "      153    0\n",
       "      170    0\n",
       "      332    0\n",
       "      337    0\n",
       "4     135    0\n",
       "      140    0\n",
       "      148    0\n",
       "      242    0\n",
       "      296    0\n",
       "      341    0\n",
       "Name: G3, dtype: int64"
      ]
     },
     "execution_count": 21,
     "metadata": {},
     "output_type": "execute_result"
    }
   ],
   "source": [
    "outliers_iqr = df.groupby(\"Medu\").apply(iqr_outliers)['G3']\n",
    "outliers_iqr"
   ]
  },
  {
   "cell_type": "code",
   "execution_count": 22,
   "metadata": {},
   "outputs": [
    {
     "name": "stderr",
     "output_type": "stream",
     "text": [
      "/var/folders/qf/kcn317s12j10nk3x4wvcv_w40000gn/T/ipykernel_77450/823005064.py:1: DeprecationWarning: DataFrameGroupBy.apply operated on the grouping columns. This behavior is deprecated, and in a future version of pandas the grouping columns will be excluded from the operation. Either pass `include_groups=False` to exclude the groupings or explicitly select the grouping columns after groupby to silence this warning.\n",
      "  outliers_mad = df.groupby(\"Medu\").apply(mad_outliers)['G3']\n"
     ]
    },
    {
     "data": {
      "text/plain": [
       "Medu     \n",
       "0     127     9\n",
       "1     131     0\n",
       "      150     0\n",
       "      162     0\n",
       "      173     0\n",
       "      221     0\n",
       "      310     0\n",
       "      367     0\n",
       "      383     0\n",
       "      389     0\n",
       "2     128     0\n",
       "      144     0\n",
       "      160     0\n",
       "      168     0\n",
       "      239     0\n",
       "      244     0\n",
       "      245    18\n",
       "      259     0\n",
       "      264     0\n",
       "      269     0\n",
       "      286    19\n",
       "      316     0\n",
       "      333     0\n",
       "      334     0\n",
       "      343     0\n",
       "      387     0\n",
       "3     130     0\n",
       "      134     0\n",
       "      136     0\n",
       "      137     0\n",
       "      146     0\n",
       "      153     0\n",
       "      170     0\n",
       "      332     0\n",
       "      337     0\n",
       "4     135     0\n",
       "      140     0\n",
       "      148     0\n",
       "      242     0\n",
       "      296     0\n",
       "      341     0\n",
       "Name: G3, dtype: int64"
      ]
     },
     "execution_count": 22,
     "metadata": {},
     "output_type": "execute_result"
    }
   ],
   "source": [
    "outliers_mad = df.groupby(\"Medu\").apply(mad_outliers)['G3']\n",
    "outliers_mad"
   ]
  }
 ],
 "metadata": {
  "kernelspec": {
   "display_name": "myenv",
   "language": "python",
   "name": "python3"
  },
  "language_info": {
   "codemirror_mode": {
    "name": "ipython",
    "version": 3
   },
   "file_extension": ".py",
   "mimetype": "text/x-python",
   "name": "python",
   "nbconvert_exporter": "python",
   "pygments_lexer": "ipython3",
   "version": "3.12.4"
  }
 },
 "nbformat": 4,
 "nbformat_minor": 2
}
