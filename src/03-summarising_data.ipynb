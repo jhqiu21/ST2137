{
 "cells": [
  {
   "cell_type": "code",
   "execution_count": null,
   "metadata": {},
   "outputs": [],
   "source": [
    "import pandas as pd\n",
    "import numpy as np\n",
    "\n",
    "stud_perf  = pd.read_csv(\"data/student/student-mat.csv\", delimiter=\";\")\n",
    "stud_perf.G3.describe()\n",
    "#stud_perf.G3.info()"
   ]
  },
  {
   "cell_type": "code",
   "execution_count": null,
   "metadata": {},
   "outputs": [],
   "source": [
    "stud_perf[['Medu', 'G3']].groupby('Medu').describe()"
   ]
  },
  {
   "cell_type": "code",
   "execution_count": null,
   "metadata": {},
   "outputs": [],
   "source": [
    "pd.DataFrame.plot.hist?"
   ]
  },
  {
   "cell_type": "code",
   "execution_count": null,
   "metadata": {},
   "outputs": [],
   "source": [
    "#| fig-align: center\n",
    "#| out-width: \"70%\"\n",
    "fig = stud_perf.G3.hist(grid=False)\n",
    "fig.set_title('G3 histogram')"
   ]
  },
  {
   "cell_type": "code",
   "execution_count": null,
   "metadata": {},
   "outputs": [],
   "source": [
    "#| fig-align: center\n",
    "#| out-width: \"80%\"\n",
    "stud_perf.G3.hist(by=stud_perf.Medu, figsize=(15,10), density=True, \n",
    "                  layout=(2, 3))"
   ]
  },
  {
   "cell_type": "code",
   "execution_count": null,
   "metadata": {},
   "outputs": [],
   "source": [
    "#| fig-align: center\n",
    "#| out-width: \"80%\"\n",
    "import matplotlib.pyplot as plt\n",
    "f, axs = plt.subplots(2, 3, squeeze=False, figsize=(15,6))\n",
    "out2 = stud_perf.groupby(\"Medu\")\n",
    "for y,df0 in enumerate(out2):\n",
    "    tmp = plt.subplot(2, 3, y+1)\n",
    "    df0[1].G3.plot(kind='kde')\n",
    "    tmp.set_title(df0[0])"
   ]
  },
  {
   "cell_type": "code",
   "execution_count": null,
   "metadata": {},
   "outputs": [],
   "source": [
    "enumerate(out2)"
   ]
  },
  {
   "cell_type": "code",
   "execution_count": null,
   "metadata": {},
   "outputs": [],
   "source": [
    "#| fig-align: center\n",
    "#| out-width: \"70%\"\n",
    "stud_perf.plot.box(column='G3', by='goout')"
   ]
  },
  {
   "cell_type": "code",
   "execution_count": null,
   "metadata": {},
   "outputs": [],
   "source": [
    "concrete = pd.read_csv(\"data/concrete+slump+test/slump_test.data\")\n",
    "concrete.rename(columns={'No':'id', \n",
    "                         'Compressive Strength (28-day)(Mpa)':'Comp_Strength'},  \n",
    "                inplace=True)"
   ]
  },
  {
   "cell_type": "code",
   "execution_count": null,
   "metadata": {},
   "outputs": [],
   "source": [
    "plt.hist(concrete.Comp_Strength, density=True)\n",
    "concrete.Comp_Strength.plot(kind=\"kde\")\n"
   ]
  },
  {
   "cell_type": "code",
   "execution_count": null,
   "metadata": {},
   "outputs": [],
   "source": [
    "#| fig-align: center\n",
    "#| out-width: \"70%\"\n",
    "from scipy import stats\n",
    "import statsmodels.api as sm\n",
    "sm.qqplot(concrete.Comp_Strength, line=\"q\");"
   ]
  },
  {
   "cell_type": "code",
   "execution_count": null,
   "metadata": {},
   "outputs": [],
   "source": []
  },
  {
   "cell_type": "code",
   "execution_count": null,
   "metadata": {},
   "outputs": [],
   "source": [
    "#| fig-align: center\n",
    "#| out-width: \"100%\"\n",
    "pd.plotting.scatter_matrix(concrete[['Cement', 'Slag', 'Comp_Strength', 'Water', \n",
    "                                     'SLUMP(cm)', 'FLOW(cm)']], \n",
    "                           figsize=(12,12));"
   ]
  },
  {
   "cell_type": "code",
   "execution_count": null,
   "metadata": {},
   "outputs": [],
   "source": [
    "#| fig-align: center\n",
    "#| out-width: \"100%\"\n",
    "corr = concrete[['Cement', 'Slag', 'Comp_Strength', 'Water', \n",
    "                 'SLUMP(cm)', 'FLOW(cm)']].corr()\n",
    "print(corr)\n",
    "corr.style.background_gradient(cmap='coolwarm_r')"
   ]
  }
 ],
 "metadata": {
  "kernelspec": {
   "display_name": "myenv",
   "language": "python",
   "name": "python3"
  },
  "language_info": {
   "codemirror_mode": {
    "name": "ipython",
    "version": 3
   },
   "file_extension": ".py",
   "mimetype": "text/x-python",
   "name": "python",
   "nbconvert_exporter": "python",
   "pygments_lexer": "ipython3",
   "version": "3.12.4"
  }
 },
 "nbformat": 4,
 "nbformat_minor": 4
}
