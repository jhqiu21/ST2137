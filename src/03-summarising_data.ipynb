{
  "cells": [
    {
      "cell_type": "code",
      "metadata": {},
      "source": [
        "import pandas as pd\n",
        "import numpy as np\n",
        "\n",
        "stud_perf  = pd.read_csv(\"data/student/student-mat.csv\", delimiter=\";\")\n",
        "stud_perf.G3.describe()\n",
        "#stud_perf.G3.info()"
      ],
      "execution_count": null,
      "outputs": []
    },
    {
      "cell_type": "code",
      "metadata": {},
      "source": [
        "stud_perf[['Medu', 'G3']].groupby('Medu').describe()"
      ],
      "execution_count": null,
      "outputs": []
    },
    {
      "cell_type": "code",
      "metadata": {},
      "source": [
        "#| fig-align: center\n",
        "#| out-width: \"70%\"\n",
        "fig = stud_perf.G3.hist(grid=False)\n",
        "fig.set_title('G3 histogram');"
      ],
      "execution_count": null,
      "outputs": []
    },
    {
      "cell_type": "code",
      "metadata": {},
      "source": [
        "#| fig-align: center\n",
        "#| out-width: \"80%\"\n",
        "stud_perf.G3.hist(by=stud_perf.Medu, figsize=(15,10), density=True, \n",
        "                  layout=(2,3));"
      ],
      "execution_count": null,
      "outputs": []
    },
    {
      "cell_type": "code",
      "metadata": {},
      "source": [
        "#| fig-align: center\n",
        "#| out-width: \"80%\"\n",
        "import matplotlib.pyplot as plt\n",
        "f, axs = plt.subplots(2, 3, squeeze=False, figsize=(15,6))\n",
        "out2 = stud_perf.groupby(\"Medu\")\n",
        "for y,df0 in enumerate(out2):\n",
        "    tmp = plt.subplot(2, 3, y+1)\n",
        "    df0[1].G3.plot(kind='kde')\n",
        "    tmp.set_title(df0[0])"
      ],
      "execution_count": null,
      "outputs": []
    },
    {
      "cell_type": "code",
      "metadata": {},
      "source": [
        "#| fig-align: center\n",
        "#| out-width: \"70%\"\n",
        "stud_perf.plot.box(column='G3', by='goout')"
      ],
      "execution_count": null,
      "outputs": []
    },
    {
      "cell_type": "code",
      "metadata": {},
      "source": [
        "concrete = pd.read_csv(\"data/concrete+slump+test/slump_test.data\")\n",
        "concrete.rename(columns={'No':'id', \n",
        "                         'Compressive Strength (28-day)(Mpa)':'Comp_Strength'},  \n",
        "                inplace=True)"
      ],
      "execution_count": null,
      "outputs": []
    },
    {
      "cell_type": "code",
      "metadata": {},
      "source": [
        "#| fig-align: center\n",
        "#| out-width: \"70%\"\n",
        "from scipy import stats\n",
        "import statsmodels.api as sm\n",
        "sm.qqplot(concrete.Comp_Strength, line=\"q\");"
      ],
      "execution_count": null,
      "outputs": []
    },
    {
      "cell_type": "code",
      "metadata": {},
      "source": [
        "#| fig-align: center\n",
        "#| out-width: \"100%\"\n",
        "pd.plotting.scatter_matrix(concrete[['Cement', 'Slag', 'Comp_Strength', 'Water', \n",
        "                                     'SLUMP(cm)', 'FLOW(cm)']], \n",
        "                           figsize=(12,12));"
      ],
      "execution_count": null,
      "outputs": []
    },
    {
      "cell_type": "code",
      "metadata": {},
      "source": [
        "#| fig-align: center\n",
        "#| out-width: \"100%\"\n",
        "corr = concrete[['Cement', 'Slag', 'Comp_Strength', 'Water', \n",
        "                 'SLUMP(cm)', 'FLOW(cm)']].corr()\n",
        "corr.style.background_gradient(cmap='coolwarm_r')"
      ],
      "execution_count": null,
      "outputs": []
    }
  ],
  "metadata": {
    "kernelspec": {
      "name": "python3",
      "language": "python",
      "display_name": "Python 3 (ipykernel)",
      "path": "/home/viknesh/penvs/p312/share/jupyter/kernels/python3"
    }
  },
  "nbformat": 4,
  "nbformat_minor": 4
}