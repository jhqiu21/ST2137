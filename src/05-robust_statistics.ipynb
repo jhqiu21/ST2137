{
  "cells": [
    {
      "cell_type": "code",
      "metadata": {
        "collapse": true
      },
      "source": [
        "import pandas as pd\n",
        "import numpy as np\n",
        "from scipy import stats\n",
        "\n",
        "chem = pd.read_csv(\"data/mass_chem.csv\")\n",
        "\n",
        "chem.chem.mean()\n",
        "\n",
        "stats.trim_mean(chem, proportiontocut=0.1)\n",
        "\n",
        "stats.mstats.winsorize(chem.chem, limits=0.1).mean()"
      ],
      "execution_count": null,
      "outputs": []
    },
    {
      "cell_type": "code",
      "metadata": {
        "collapse": true
      },
      "source": [
        "awareness = np.array([77, 87, 88, 114, 151, 210, 219, 246, 253, 262, 296, \n",
        "                      299, 306, 376, 428, 515, 666, 1310, 2611])\n",
        "\n",
        "awareness.std()\n",
        "\n",
        "stats.median_abs_deviation(awareness)\n",
        "\n",
        "stats.iqr(awareness)"
      ],
      "execution_count": null,
      "outputs": []
    }
  ],
  "metadata": {
    "kernelspec": {
      "name": "python3",
      "language": "python",
      "display_name": "Python 3 (ipykernel)",
      "path": "/home/viknesh/penvs/p312/share/jupyter/kernels/python3"
    }
  },
  "nbformat": 4,
  "nbformat_minor": 4
}