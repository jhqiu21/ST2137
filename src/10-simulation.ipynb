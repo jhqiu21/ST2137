{
  "cells": [
    {
      "cell_type": "code",
      "metadata": {},
      "source": [
        "#Python\n",
        "import numpy as np\n",
        "import pandas as pd\n",
        "from scipy.stats import binom, gamma, norm, poisson\n",
        "from scipy import stats\n",
        "import matplotlib.pyplot as plt\n",
        "\n",
        "rng = np.random.default_rng(2137)\n",
        "fig, ax = plt.subplots(1, 3, figsize=(8,4))\n",
        "\n",
        "ax1 = plt.subplot(131)\n",
        "r = gamma.rvs(2, 3, size=50, random_state=rng)\n",
        "ax1.hist(r);\n",
        "\n",
        "ax1 = plt.subplot(132)\n",
        "r = poisson.rvs(1.3, size=50, random_state=rng)\n",
        "ax1.hist(r);\n",
        "\n",
        "ax1 = plt.subplot(133)\n",
        "r = binom.rvs(2, 0.3, size=50, random_state=rng)\n",
        "ax1.hist(r);"
      ],
      "execution_count": null,
      "outputs": []
    },
    {
      "cell_type": "code",
      "metadata": {},
      "source": [
        "from scipy.stats import uniform\n",
        "\n",
        "X = uniform.rvs(0,1, size=50000, random_state=rng)\n",
        "hX = np.exp(2*X)\n",
        "hX.mean()"
      ],
      "execution_count": null,
      "outputs": []
    },
    {
      "cell_type": "code",
      "metadata": {},
      "source": [
        "rng = np.random.default_rng(2137)\n",
        "output_vec = np.zeros(100)\n",
        "n = 20\n",
        "lambda_ = 0.5\n",
        "for i in range(100):\n",
        "    X = poisson.rvs(0.5, size=15, random_state=rng)\n",
        "    Xbar = X.mean()\n",
        "    s = X.std()\n",
        "    t = norm.ppf(0.975)\n",
        "    CI = [Xbar - t*s/np.sqrt(n), Xbar + t*s/np.sqrt(n)]\n",
        "    if CI[0] < lambda_ and CI[1] > lambda_:\n",
        "        output_vec[i] = 1\n",
        "output_vec.mean()"
      ],
      "execution_count": null,
      "outputs": []
    },
    {
      "cell_type": "code",
      "metadata": {},
      "source": [
        "def generate_one_test(n=100):\n",
        "    X = norm.rvs(0, 1, size=n, random_state=rng)\n",
        "    Y = norm.rvs(0, 1, size=n, random_state=rng)\n",
        "    t_test = stats.ttest_ind(X, Y, equal_var=True)\n",
        "    if t_test.pvalue < 0.10:\n",
        "        return 1\n",
        "    else:\n",
        "        return 0\n",
        "output_vec = np.array([generate_one_test() for j in range(2000)])\n",
        "output_vec.mean()"
      ],
      "execution_count": null,
      "outputs": []
    },
    {
      "cell_type": "code",
      "metadata": {},
      "source": [
        "n = 10000\n",
        "X = gamma.rvs(100, scale=100, size=n, random_state=rng)\n",
        "hX = np.where(X >= 11000, 11000, np.floor(X) + (11000 - np.floor(X)) * (-0.25))\n",
        "\n",
        "# 90% CI for the mean\n",
        "Xbar = hX.mean()\n",
        "s = hX.std()\n",
        "t = norm.ppf(0.95)\n",
        "CI = [Xbar - t*s/np.sqrt(n), Xbar + t*s/np.sqrt(n)]\n",
        "print(f\"The 90% CI for the mean is ({CI[0]: .3f}, {CI[1]: .3f}).\")"
      ],
      "execution_count": null,
      "outputs": []
    }
  ],
  "metadata": {
    "kernelspec": {
      "name": "python3",
      "language": "python",
      "display_name": "Python 3 (ipykernel)",
      "path": "/home/viknesh/penvs/p312/share/jupyter/kernels/python3"
    }
  },
  "nbformat": 4,
  "nbformat_minor": 4
}