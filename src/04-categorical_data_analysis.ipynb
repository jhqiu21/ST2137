{
  "cells": [
    {
      "cell_type": "code",
      "execution_count": 7,
      "metadata": {},
      "outputs": [
        {
          "data": {
            "text/plain": [
              "<matplotlib.legend.Legend at 0x10f0b4680>"
            ]
          },
          "execution_count": 7,
          "metadata": {},
          "output_type": "execute_result"
        },
        {
          "data": {
            "image/png": "[encoded data removed]",
            "text/plain": [
              "<Figure size 1000x400 with 1 Axes>"
            ]
          },
          "metadata": {},
          "output_type": "display_data"
        }
      ],
      "source": [
        "#| fig-align: center\n",
        "#| out-width: 80%\n",
        "\n",
        "import numpy as np\n",
        "import pandas as pd\n",
        "\n",
        "claritin_tab = np.array([[4, 184], [2, 260]])\n",
        "claritin_prop = claritin_tab/claritin_tab.sum(axis=1).reshape((2,1))\n",
        "xx = pd.DataFrame(claritin_prop, columns=['nervous', 'not_nervous'], index=['claritin', 'placebo'])\n",
        "ax = xx.plot(kind='bar', stacked=False, rot=1.0, figsize=(10,4))\n",
        "ax.legend(loc='upper left')"
      ]
    },
    {
      "cell_type": "code",
      "execution_count": null,
      "metadata": {},
      "outputs": [],
      "source": [
        "#| fig-align: center\n",
        "#| out-width: 80%\n",
        "from statsmodels.graphics.mosaicplot import mosaic\n",
        "import matplotlib.pyplot as plt\n",
        "\n",
        "political_tab = np.asarray([[762,327,468], [484,239,477]])\n",
        "mosaic(political_tab, statistic=True, gap=0.05);"
      ]
    },
    {
      "cell_type": "code",
      "execution_count": null,
      "metadata": {
        "collapse": true
      },
      "outputs": [],
      "source": [
        "from scipy import stats\n",
        "\n",
        "chest_array = np.array([[46, 474], [37, 516]])\n",
        "\n",
        "chisq_output = stats.chi2_contingency(chest_array)\n",
        "\n",
        "print(f\"The p-value is {chisq_output.pvalue:.3f}.\")\n",
        "print(f\"The test-statistic value is {chisq_output.statistic:.3f}.\")"
      ]
    },
    {
      "cell_type": "code",
      "execution_count": null,
      "metadata": {},
      "outputs": [],
      "source": [
        "chisq_output.expected_freq"
      ]
    },
    {
      "cell_type": "code",
      "execution_count": null,
      "metadata": {},
      "outputs": [],
      "source": [
        "fe_output = stats.fisher_exact(claritin_tab)\n",
        "\n",
        "print(f\"The p-value for the test is {fe_output.pvalue:.4f}.\")"
      ]
    },
    {
      "cell_type": "code",
      "execution_count": null,
      "metadata": {},
      "outputs": [],
      "source": [
        "import statsmodels.api as sm\n",
        "chest_tab2 = sm.stats.Table2x2(chest_array)\n",
        "\n",
        "print(chest_tab2.summary())"
      ]
    },
    {
      "cell_type": "code",
      "execution_count": null,
      "metadata": {},
      "outputs": [],
      "source": [
        "from scipy import stats\n",
        "\n",
        "us_svy_tab = np.array([[1, 3, 10, 6], \n",
        "                      [2, 3, 10, 7],\n",
        "                      [1, 6, 14, 12],\n",
        "                      [0, 1,  9, 11]])\n",
        "\n",
        "dim1 = us_svy_tab.shape\n",
        "x = []; y=[]\n",
        "for i in range(0, dim1[0]):\n",
        "    for j in range(0, dim1[1]):\n",
        "        for k in range(0, us_svy_tab[i,j]):\n",
        "            x.append(i)\n",
        "            y.append(j)\n",
        "\n",
        "kt_output = stats.kendalltau(x, y)\n",
        "print(f\"The estimate of tau-b is {kt_output.statistic:.4f}.\")"
      ]
    }
  ],
  "metadata": {
    "kernelspec": {
      "display_name": "myenv",
      "language": "python",
      "name": "python3"
    },
    "language_info": {
      "codemirror_mode": {
        "name": "ipython",
        "version": 3
      },
      "file_extension": ".py",
      "mimetype": "text/x-python",
      "name": "python",
      "nbconvert_exporter": "python",
      "pygments_lexer": "ipython3",
      "version": "3.12.4"
    }
  },
  "nbformat": 4,
  "nbformat_minor": 4
}
