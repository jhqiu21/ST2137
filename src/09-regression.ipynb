{
  "cells": [
    {
      "cell_type": "code",
      "metadata": {},
      "source": [
        "#Python\n",
        "import pandas as pd\n",
        "import numpy as np\n",
        "import statsmodels.api as sm\n",
        "from statsmodels.formula.api import ols\n",
        "\n",
        "concrete = pd.read_csv(\"data/concrete+slump+test/slump_test.data\")\n",
        "concrete.rename(columns={'No':'id', \n",
        "                         'Compressive Strength (28-day)(Mpa)':'Comp_Strength',\n",
        "                         'FLOW(cm)': 'Flow'},\n",
        "                inplace=True)\n",
        "lm_flow_water = ols('Flow ~ Water', data=concrete).fit()\n",
        "print(lm_flow_water.summary())"
      ],
      "execution_count": null,
      "outputs": []
    },
    {
      "cell_type": "code",
      "metadata": {},
      "source": [
        "#Python\n",
        "bike2 = pd.read_csv(\"data/bike2.csv\")\n",
        "bike2_sub = bike2[bike2.workingday == \"no\"]\n",
        "\n",
        "lm_reg_casual = ols('registered ~ casual', bike2_sub).fit()\n",
        "anova_tab = sm.stats.anova_lm(lm_reg_casual,)\n",
        "anova_tab"
      ],
      "execution_count": null,
      "outputs": []
    },
    {
      "cell_type": "code",
      "metadata": {},
      "source": [
        "#| fig-align: center\n",
        "# Python\n",
        "new_df = sm.add_constant(pd.DataFrame({'Water' : np.linspace(160,240, 10)}))\n",
        "\n",
        "predictions_out = lm_flow_water.get_prediction(new_df)\n",
        "\n",
        "ax = concrete.plot(x='Water', y='Flow', kind='scatter', alpha=0.5 )\n",
        "ax.set_title('Flow vs. Water');\n",
        "ax.plot(new_df.Water, predictions_out.conf_int()[:, 0].reshape(-1), \n",
        "        color='blue', linestyle='dashed');\n",
        "ax.plot(new_df.Water, predictions_out.conf_int()[:, 1].reshape(-1), \n",
        "        color='blue', linestyle='dashed');\n",
        "ax.plot(new_df.Water, predictions_out.predicted, color='blue');"
      ],
      "execution_count": null,
      "outputs": []
    },
    {
      "cell_type": "code",
      "metadata": {},
      "source": [
        "# Python\n",
        "lm_flow_water_slag = ols('Flow ~ Water + Slag', data=concrete).fit()\n",
        "print(lm_flow_water_slag.summary())"
      ],
      "execution_count": null,
      "outputs": []
    },
    {
      "cell_type": "code",
      "metadata": {},
      "source": [
        "# Python\n",
        "lm_reg_casual2 = ols('registered ~ casual + workingday', bike2).fit()\n",
        "print(lm_reg_casual2.summary())"
      ],
      "execution_count": null,
      "outputs": []
    },
    {
      "cell_type": "code",
      "metadata": {},
      "source": [
        "# Python\n",
        "lm_reg_casual3 = ols('registered ~ casual * workingday', bike2).fit()\n",
        "print(lm_reg_casual3.summary())"
      ],
      "execution_count": null,
      "outputs": []
    },
    {
      "cell_type": "code",
      "metadata": {},
      "source": [
        "#| fig-align: center\n",
        "# Python\n",
        "r_s = pd.Series(lm_flow_water_slag.resid_pearson)\n",
        "r_s.hist()"
      ],
      "execution_count": null,
      "outputs": []
    }
  ],
  "metadata": {
    "kernelspec": {
      "name": "python3",
      "language": "python",
      "display_name": "Python 3 (ipykernel)",
      "path": "/home/viknesh/penvs/p312/share/jupyter/kernels/python3"
    }
  },
  "nbformat": 4,
  "nbformat_minor": 4
}