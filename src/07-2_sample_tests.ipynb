{
  "cells": [
    {
      "cell_type": "code",
      "metadata": {},
      "source": [
        "import pandas as pd\n",
        "import numpy as np\n",
        "from scipy import stats\n",
        "import statsmodels.api as sm\n",
        "\n",
        "abl = pd.read_csv(\"data/abalone_sub.csv\")\n",
        "#abl.head()\n",
        "#abalone_df.describe()\n",
        "\n",
        "x = abl.viscera[abl.gender == \"M\"]\n",
        "y = abl.viscera[abl.gender == \"F\"]\n",
        "\n",
        "t_out = stats.ttest_ind(x, y)\n",
        "ci_95 = t_out.confidence_interval()\n",
        "\n",
        "print(f\"\"\"\n",
        "* The p-value for the test is {t_out.pvalue:.3f}. \n",
        "* The actual value of the test statistic is {t_out.statistic:.3f}.\n",
        "* The upper and lower limits of the CI are ({ci_95[0]:.3f}, {ci_95[1]:.3f}).\n",
        "\"\"\")"
      ],
      "execution_count": null,
      "outputs": []
    },
    {
      "cell_type": "code",
      "metadata": {},
      "source": [
        "abl.groupby('gender').describe()"
      ],
      "execution_count": null,
      "outputs": []
    },
    {
      "cell_type": "code",
      "metadata": {
        "collapse": true
      },
      "source": [
        "abl.groupby(\"gender\").skew()\n",
        "\n",
        "for i,df in abl.groupby('gender'):\n",
        "    print(f\"{df.gender.iloc[0]}: {df.viscera.kurt():.4f}\")\n",
        "    \n",
        "stats.shapiro(x)"
      ],
      "execution_count": null,
      "outputs": []
    },
    {
      "cell_type": "code",
      "metadata": {},
      "source": [
        "hr_df = pd.read_csv(\"data/health_promo_hr.csv\")\n",
        "#hr_df.head()\n",
        "\n",
        "paired_out = stats.ttest_rel(hr_df.baseline, hr_df.after5)\n",
        "print(f\"\"\"\n",
        "Test statistic: {paired_out.statistic:.3f}.\n",
        "p-val: {paired_out.pvalue:.3f}.\"\"\")"
      ],
      "execution_count": null,
      "outputs": []
    },
    {
      "cell_type": "code",
      "metadata": {},
      "source": [
        "wrs_out = stats.mannwhitneyu(x, y)\n",
        "\n",
        "print(f\"\"\"Test statistic: {wrs_out.statistic:.3f}.\n",
        "p-val: {wrs_out.pvalue:.3f}.\"\"\")"
      ],
      "execution_count": null,
      "outputs": []
    },
    {
      "cell_type": "code",
      "metadata": {},
      "source": [
        "wsr_out = stats.wilcoxon(hr_df.baseline, hr_df.after5,  \n",
        "                         correction=True, method='approx')\n",
        "print(f\"\"\"Test statistic: {wsr_out.statistic:.3f}.\n",
        "p-val: {wsr_out.pvalue:.3f}.\"\"\")"
      ],
      "execution_count": null,
      "outputs": []
    }
  ],
  "metadata": {
    "kernelspec": {
      "name": "python3",
      "language": "python",
      "display_name": "Python 3 (ipykernel)",
      "path": "/home/viknesh/penvs/p312/share/jupyter/kernels/python3"
    }
  },
  "nbformat": 4,
  "nbformat_minor": 4
}