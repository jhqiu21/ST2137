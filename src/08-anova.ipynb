{
  "cells": [
    {
      "cell_type": "code",
      "metadata": {},
      "source": [
        "#Python\n",
        "import pandas as pd\n",
        "import numpy as np\n",
        "from scipy import stats\n",
        "import statsmodels.api as sm\n",
        "from statsmodels.formula.api import ols\n",
        "\n",
        "heifers = pd.read_csv(\"data/antibio.csv\")\n",
        "heifer_lm = ols('org ~ type', data=heifers).fit()\n",
        "anova_tab = sm.stats.anova_lm(heifer_lm, type=3,)\n",
        "print(anova_tab)"
      ],
      "execution_count": null,
      "outputs": []
    },
    {
      "cell_type": "code",
      "metadata": {},
      "source": [
        "# Python\n",
        "print(heifer_lm.summary())"
      ],
      "execution_count": null,
      "outputs": []
    },
    {
      "cell_type": "code",
      "metadata": {},
      "source": [
        "# Python\n",
        "import matplotlib.pyplot as plt\n",
        "\n",
        "f, axs = plt.subplots(1, 2, figsize=(8,4))\n",
        "tmp = plt.subplot(121)\n",
        "heifer_lm.resid.hist();\n",
        "tmp = plt.subplot(122)\n",
        "sm.qqplot(heifer_lm.resid, line=\"q\", ax=tmp);"
      ],
      "execution_count": null,
      "outputs": []
    },
    {
      "cell_type": "code",
      "metadata": {},
      "source": [
        "# Python\n",
        "est1  = heifer_lm.params.iloc[2] - heifer_lm.params.iloc[1]\n",
        "MSW = heifer_lm.mse_resid\n",
        "df = heifer_lm.df_resid\n",
        "q1 = -stats.t.ppf(0.025, df)\n",
        "\n",
        "lower_ci = est1 - q1*np.sqrt(MSW * (1/6 + 1/6))\n",
        "upper_ci = est1 + q1*np.sqrt(MSW * (1/6 + 1/6))\n",
        "print(f\"\"\"The 95% CI for the diff. between Enrofloxacin and control is\n",
        "({lower_ci:.3f}, {upper_ci:.3f}).\"\"\") "
      ],
      "execution_count": null,
      "outputs": []
    },
    {
      "cell_type": "code",
      "metadata": {},
      "source": [
        "c1 = np.array([-1, 0.5, 0.5])\n",
        "n_vals = np.array([6, 6, 6,])\n",
        "L = np.sum(c1 * heifer_lm.params.iloc[2:5])\n",
        "\n",
        "MSW = heifer_lm.mse_resid\n",
        "df = heifer_lm.df_resid\n",
        "q1 = -stats.t.ppf(0.025, df)\n",
        "se1 = np.sqrt(MSW*np.sum(c1**2 / n_vals))\n",
        "\n",
        "lower_ci = L - q1*se1\n",
        "upper_ci = L + q1*se1\n",
        "print(f\"\"\"The 95% CI for the diff. between the two groups is \n",
        "({lower_ci:.3f}, {upper_ci:.3f}).\"\"\") "
      ],
      "execution_count": null,
      "outputs": []
    },
    {
      "cell_type": "code",
      "metadata": {},
      "source": [
        "import statsmodels.stats.multicomp as mc\n",
        "\n",
        "cp = mc.MultiComparison(heifers.org, heifers.type)\n",
        "tk = cp.tukeyhsd()\n",
        "print(tk)"
      ],
      "execution_count": null,
      "outputs": []
    },
    {
      "cell_type": "code",
      "metadata": {},
      "source": [
        "out = [x[1] for x in heifers.org.groupby(heifers.type)]\n",
        "kw_out = stats.kruskal(*out)\n",
        "print(f\"\"\"The test statistic is {kw_out.statistic:.3f},\n",
        "the p-value is {kw_out.pvalue:.3f}.\"\"\")"
      ],
      "execution_count": null,
      "outputs": []
    }
  ],
  "metadata": {
    "kernelspec": {
      "name": "python3",
      "language": "python",
      "display_name": "Python 3 (ipykernel)",
      "path": "/home/viknesh/penvs/p312/share/jupyter/kernels/python3"
    }
  },
  "nbformat": 4,
  "nbformat_minor": 4
}