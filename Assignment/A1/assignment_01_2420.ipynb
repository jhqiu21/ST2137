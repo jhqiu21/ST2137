{
 "cells": [
  {
   "cell_type": "markdown",
   "id": "68ba2fcb-1324-44bb-b3bc-8634a58cfe0f",
   "metadata": {
    "deletable": false,
    "editable": false,
    "nbgrader": {
     "cell_type": "markdown",
     "checksum": "79e6cabb9972069669ea7f10ba246a88",
     "grade": false,
     "grade_id": "Instructions",
     "locked": true,
     "schema_version": 3,
     "solution": false,
     "task": false
    }
   },
   "source": [
    "Before you turn this problem in, make sure everything runs as expected. \n",
    "\n",
    "1. **Restart the kernel** (in the menubar, select Kernel $\\rightarrow$ Restart) and then\n",
    "2. **Run all cells** (in the menubar, select Cell $\\rightarrow$ Run All).\n",
    "3. **Save the notebook**\n",
    "\n",
    "Do fix all your errors before submitting.\n",
    "\n",
    "Make sure you fill in any place that says `YOUR CODE HERE` or \"YOUR ANSWER HERE\"."
   ]
  },
  {
   "cell_type": "markdown",
   "id": "4e43e425-510b-43ed-8793-18ce97c6adaa",
   "metadata": {
    "deletable": false,
    "editable": false,
    "nbgrader": {
     "cell_type": "markdown",
     "checksum": "8afeaab237a87ad6cd7e46be8810d1f4",
     "grade": false,
     "grade_id": "dataset_description",
     "locked": true,
     "schema_version": 3,
     "solution": false,
     "task": false
    }
   },
   "source": [
    "## Housing data\n",
    "\n",
    "The Excel file `housing.xslx` contains information from a survey conducted on residents at a complex containing several housing types. However, note that we do not have one row per resident. Instead, we have a collated dataset, with one row for each unique response combination. Here is a brief description of the columns:\n",
    "\n",
    "1. `housing`: The type of housing, e.g. tower blocks, apartments, atrium houses, and terraced houses.\n",
    "2. `influence`: The amount of perceived influence an individual had on management of the housing complex. (low/medium/high).\n",
    "3. `contact`: The amount of contact that residents had with housing management (low/high).\n",
    "4. `satisfaction`: The level of satisfaction that residents had with the housing (low/medium/high).\n",
    "5. `count`: The number of residents that responded as indicated in the row.\n"
   ]
  },
  {
   "cell_type": "code",
   "execution_count": 2,
   "id": "928742ef-854e-4c22-8f64-7db5f75a82f1",
   "metadata": {
    "deletable": false,
    "editable": false,
    "nbgrader": {
     "cell_type": "code",
     "checksum": "41994752a1f799c378818560d0ebe403",
     "grade": false,
     "grade_id": "import_libs",
     "locked": true,
     "schema_version": 3,
     "solution": false,
     "task": false
    }
   },
   "outputs": [],
   "source": [
    "import pandas as pd\n",
    "import numpy as np\n",
    "import matplotlib.pyplot as plt\n",
    "from scipy import stats\n",
    "\n",
    "housing_df = pd.read_excel(\"data/housing.xlsx\")"
   ]
  },
  {
   "cell_type": "markdown",
   "id": "078cfa96-7e07-4d4c-9bcf-cce1451b0bee",
   "metadata": {
    "deletable": false,
    "editable": false,
    "nbgrader": {
     "cell_type": "markdown",
     "checksum": "6d202b6be66dddcd9b377bb590f840f4",
     "grade": false,
     "grade_id": "qn1_instructions",
     "locked": true,
     "schema_version": 3,
     "solution": false,
     "task": false
    }
   },
   "source": [
    "### Question 1\n",
    "\n",
    "We are going to ignore the column `influence` in the rest of the analysis. Create a dataframe `grouped_df` that sums the counts for each unique combination of housing, contact and satisfaction. The final dataframe should have 24 rows and 4 columns (`housing`, `contact`, `satisfaction` and `count`)."
   ]
  },
  {
   "cell_type": "code",
   "execution_count": 3,
   "id": "db090471-d3bb-4bef-aa3d-ca7638e2ecb7",
   "metadata": {
    "deletable": false,
    "nbgrader": {
     "cell_type": "code",
     "checksum": "8fb3b541fc5ddf506915758799db4cd4",
     "grade": false,
     "grade_id": "grouped_df_1",
     "locked": false,
     "schema_version": 3,
     "solution": true,
     "task": false
    }
   },
   "outputs": [
    {
     "data": {
      "text/html": [
       "<div>\n",
       "<style scoped>\n",
       "    .dataframe tbody tr th:only-of-type {\n",
       "        vertical-align: middle;\n",
       "    }\n",
       "\n",
       "    .dataframe tbody tr th {\n",
       "        vertical-align: top;\n",
       "    }\n",
       "\n",
       "    .dataframe thead th {\n",
       "        text-align: right;\n",
       "    }\n",
       "</style>\n",
       "<table border=\"1\" class=\"dataframe\">\n",
       "  <thead>\n",
       "    <tr style=\"text-align: right;\">\n",
       "      <th></th>\n",
       "      <th>housing</th>\n",
       "      <th>contact</th>\n",
       "      <th>satisfaction</th>\n",
       "      <th>count</th>\n",
       "    </tr>\n",
       "  </thead>\n",
       "  <tbody>\n",
       "    <tr>\n",
       "      <th>0</th>\n",
       "      <td>apartments</td>\n",
       "      <td>high</td>\n",
       "      <td>high</td>\n",
       "      <td>191</td>\n",
       "    </tr>\n",
       "    <tr>\n",
       "      <th>1</th>\n",
       "      <td>apartments</td>\n",
       "      <td>high</td>\n",
       "      <td>low</td>\n",
       "      <td>141</td>\n",
       "    </tr>\n",
       "    <tr>\n",
       "      <th>2</th>\n",
       "      <td>apartments</td>\n",
       "      <td>high</td>\n",
       "      <td>medium</td>\n",
       "      <td>116</td>\n",
       "    </tr>\n",
       "    <tr>\n",
       "      <th>3</th>\n",
       "      <td>apartments</td>\n",
       "      <td>low</td>\n",
       "      <td>high</td>\n",
       "      <td>111</td>\n",
       "    </tr>\n",
       "    <tr>\n",
       "      <th>4</th>\n",
       "      <td>apartments</td>\n",
       "      <td>low</td>\n",
       "      <td>low</td>\n",
       "      <td>130</td>\n",
       "    </tr>\n",
       "    <tr>\n",
       "      <th>5</th>\n",
       "      <td>apartments</td>\n",
       "      <td>low</td>\n",
       "      <td>medium</td>\n",
       "      <td>76</td>\n",
       "    </tr>\n",
       "    <tr>\n",
       "      <th>6</th>\n",
       "      <td>atrium houses</td>\n",
       "      <td>high</td>\n",
       "      <td>high</td>\n",
       "      <td>65</td>\n",
       "    </tr>\n",
       "    <tr>\n",
       "      <th>7</th>\n",
       "      <td>atrium houses</td>\n",
       "      <td>high</td>\n",
       "      <td>low</td>\n",
       "      <td>37</td>\n",
       "    </tr>\n",
       "    <tr>\n",
       "      <th>8</th>\n",
       "      <td>atrium houses</td>\n",
       "      <td>high</td>\n",
       "      <td>medium</td>\n",
       "      <td>55</td>\n",
       "    </tr>\n",
       "    <tr>\n",
       "      <th>9</th>\n",
       "      <td>atrium houses</td>\n",
       "      <td>low</td>\n",
       "      <td>high</td>\n",
       "      <td>31</td>\n",
       "    </tr>\n",
       "    <tr>\n",
       "      <th>10</th>\n",
       "      <td>atrium houses</td>\n",
       "      <td>low</td>\n",
       "      <td>low</td>\n",
       "      <td>27</td>\n",
       "    </tr>\n",
       "    <tr>\n",
       "      <th>11</th>\n",
       "      <td>atrium houses</td>\n",
       "      <td>low</td>\n",
       "      <td>medium</td>\n",
       "      <td>24</td>\n",
       "    </tr>\n",
       "    <tr>\n",
       "      <th>12</th>\n",
       "      <td>terraced houses</td>\n",
       "      <td>high</td>\n",
       "      <td>high</td>\n",
       "      <td>39</td>\n",
       "    </tr>\n",
       "    <tr>\n",
       "      <th>13</th>\n",
       "      <td>terraced houses</td>\n",
       "      <td>high</td>\n",
       "      <td>low</td>\n",
       "      <td>93</td>\n",
       "    </tr>\n",
       "    <tr>\n",
       "      <th>14</th>\n",
       "      <td>terraced houses</td>\n",
       "      <td>high</td>\n",
       "      <td>medium</td>\n",
       "      <td>50</td>\n",
       "    </tr>\n",
       "    <tr>\n",
       "      <th>15</th>\n",
       "      <td>terraced houses</td>\n",
       "      <td>low</td>\n",
       "      <td>high</td>\n",
       "      <td>31</td>\n",
       "    </tr>\n",
       "    <tr>\n",
       "      <th>16</th>\n",
       "      <td>terraced houses</td>\n",
       "      <td>low</td>\n",
       "      <td>low</td>\n",
       "      <td>40</td>\n",
       "    </tr>\n",
       "    <tr>\n",
       "      <th>17</th>\n",
       "      <td>terraced houses</td>\n",
       "      <td>low</td>\n",
       "      <td>medium</td>\n",
       "      <td>24</td>\n",
       "    </tr>\n",
       "    <tr>\n",
       "      <th>18</th>\n",
       "      <td>tower blocks</td>\n",
       "      <td>high</td>\n",
       "      <td>high</td>\n",
       "      <td>100</td>\n",
       "    </tr>\n",
       "    <tr>\n",
       "      <th>19</th>\n",
       "      <td>tower blocks</td>\n",
       "      <td>high</td>\n",
       "      <td>low</td>\n",
       "      <td>34</td>\n",
       "    </tr>\n",
       "    <tr>\n",
       "      <th>20</th>\n",
       "      <td>tower blocks</td>\n",
       "      <td>high</td>\n",
       "      <td>medium</td>\n",
       "      <td>47</td>\n",
       "    </tr>\n",
       "    <tr>\n",
       "      <th>21</th>\n",
       "      <td>tower blocks</td>\n",
       "      <td>low</td>\n",
       "      <td>high</td>\n",
       "      <td>100</td>\n",
       "    </tr>\n",
       "    <tr>\n",
       "      <th>22</th>\n",
       "      <td>tower blocks</td>\n",
       "      <td>low</td>\n",
       "      <td>low</td>\n",
       "      <td>65</td>\n",
       "    </tr>\n",
       "    <tr>\n",
       "      <th>23</th>\n",
       "      <td>tower blocks</td>\n",
       "      <td>low</td>\n",
       "      <td>medium</td>\n",
       "      <td>54</td>\n",
       "    </tr>\n",
       "  </tbody>\n",
       "</table>\n",
       "</div>"
      ],
      "text/plain": [
       "            housing contact satisfaction  count\n",
       "0        apartments    high         high    191\n",
       "1        apartments    high          low    141\n",
       "2        apartments    high       medium    116\n",
       "3        apartments     low         high    111\n",
       "4        apartments     low          low    130\n",
       "5        apartments     low       medium     76\n",
       "6     atrium houses    high         high     65\n",
       "7     atrium houses    high          low     37\n",
       "8     atrium houses    high       medium     55\n",
       "9     atrium houses     low         high     31\n",
       "10    atrium houses     low          low     27\n",
       "11    atrium houses     low       medium     24\n",
       "12  terraced houses    high         high     39\n",
       "13  terraced houses    high          low     93\n",
       "14  terraced houses    high       medium     50\n",
       "15  terraced houses     low         high     31\n",
       "16  terraced houses     low          low     40\n",
       "17  terraced houses     low       medium     24\n",
       "18     tower blocks    high         high    100\n",
       "19     tower blocks    high          low     34\n",
       "20     tower blocks    high       medium     47\n",
       "21     tower blocks     low         high    100\n",
       "22     tower blocks     low          low     65\n",
       "23     tower blocks     low       medium     54"
      ]
     },
     "execution_count": 3,
     "metadata": {},
     "output_type": "execute_result"
    }
   ],
   "source": [
    "# grouped_df = ...\n",
    "\n",
    "# YOUR CODE HERE\n",
    "grouped_df = housing_df[['housing', 'contact', 'satisfaction', 'count']]\n",
    "grouped_df = grouped_df.groupby(['housing', 'contact', 'satisfaction'], as_index=False).sum()\n",
    "grouped_df"
   ]
  },
  {
   "cell_type": "markdown",
   "id": "0ae74fe8-03d1-4bad-831a-d1df9ab6517f",
   "metadata": {
    "deletable": false,
    "editable": false,
    "nbgrader": {
     "cell_type": "markdown",
     "checksum": "fd99b88db50b3500026847413667799d",
     "grade": false,
     "grade_id": "qn2_instructions",
     "locked": true,
     "schema_version": 3,
     "solution": false,
     "task": false
    }
   },
   "source": [
    "### Question 2\n",
    "\n",
    "Inspect the following code and run it. In the markdown cell below, explain clearly what the following line does.\n",
    "\n",
    "```\n",
    "housing_data_pivot = housing_data.pivot(index='contact', columns='satisfaction', values='count')\n",
    "```"
   ]
  },
  {
   "cell_type": "code",
   "execution_count": 4,
   "id": "17d1d372-8ad3-4f49-80d3-45e7a094033a",
   "metadata": {
    "deletable": false,
    "editable": false,
    "nbgrader": {
     "cell_type": "code",
     "checksum": "ea4425d7ac93a0e9ad61ac88510e844d",
     "grade": false,
     "grade_id": "qn2_code",
     "locked": true,
     "schema_version": 3,
     "solution": false,
     "task": false
    }
   },
   "outputs": [
    {
     "data": {
      "image/png": "[encoded data removed]",
      "text/plain": [
       "<Figure size 800x1200 with 4 Axes>"
      ]
     },
     "metadata": {},
     "output_type": "display_data"
    }
   ],
   "source": [
    "housing_types = grouped_df['housing'].unique()\n",
    "fig, axes = plt.subplots(4, 1, figsize=(8, 12))\n",
    "\n",
    "for ax, housing in zip(axes, housing_types):\n",
    "    housing_data = grouped_df[grouped_df['housing'] == housing]\n",
    "    housing_data_pivot = housing_data.pivot(index='contact', columns='satisfaction', values='count')\n",
    "    \n",
    "    housing_data_pivot.plot(kind='bar', ax=ax, title=housing, legend=True)\n",
    "    ax.set_ylabel('Count')"
   ]
  },
  {
   "cell_type": "markdown",
   "id": "70d59817-c64d-4a33-b737-9f101bb0a7f4",
   "metadata": {
    "deletable": false,
    "nbgrader": {
     "cell_type": "markdown",
     "checksum": "3e363e68c80e1331b81f4b39343acb31",
     "grade": true,
     "grade_id": "qn2_code_explain",
     "locked": false,
     "points": 1,
     "schema_version": 3,
     "solution": true,
     "task": false
    }
   },
   "source": [
    "Note that `pivot()` method reshape the DataFrame organized by given index / column values.\n",
    "\n",
    "It will reshape data based on column values. Uses unique values from specified index / columns to form axes of the resulting DataFrame.\n",
    "\n",
    "This line convert the DataFrame from a long format to a wide format so that satisfaction categories become separate columns while x-axis represents contact, each bar represents a satisfaction category and y-axis represents count. In other words, this line \"divide\" one tables to four tables under different `contact`.\n"
   ]
  },
  {
   "cell_type": "markdown",
   "id": "cc781e8b-8cfd-4032-90f8-c482beb001bc",
   "metadata": {
    "deletable": false,
    "editable": false,
    "nbgrader": {
     "cell_type": "markdown",
     "checksum": "84cd33e9e470ca7158577af34c596687",
     "grade": false,
     "grade_id": "qn3_instructions",
     "locked": true,
     "schema_version": 3,
     "solution": false,
     "task": false
    }
   },
   "source": [
    "### Question 3\n",
    "\n",
    "Complete the following code that will create a series of 2x3 contingency tables - one for each housing type. In the end, the numpy array `array_4x2x3` should have shape (4,2,3)."
   ]
  },
  {
   "cell_type": "code",
   "execution_count": 5,
   "id": "d88869cb-6046-45c7-8d68-d7847a48a421",
   "metadata": {
    "deletable": false,
    "nbgrader": {
     "cell_type": "code",
     "checksum": "8b9475e2ffa4cb82f6f9db4dc1e41fb5",
     "grade": false,
     "grade_id": "array_creation_1",
     "locked": false,
     "schema_version": 3,
     "solution": true,
     "task": false
    }
   },
   "outputs": [
    {
     "data": {
      "text/plain": [
       "array([[[130.,  76., 111.],\n",
       "        [141., 116., 191.]],\n",
       "\n",
       "       [[ 27.,  24.,  31.],\n",
       "        [ 37.,  55.,  65.]],\n",
       "\n",
       "       [[ 40.,  24.,  31.],\n",
       "        [ 93.,  50.,  39.]],\n",
       "\n",
       "       [[ 65.,  54., 100.],\n",
       "        [ 34.,  47., 100.]]])"
      ]
     },
     "execution_count": 5,
     "metadata": {},
     "output_type": "execute_result"
    }
   ],
   "source": [
    "# Define the order for 'contact' and 'satisfaction'\n",
    "contact_order = ['low', 'high']\n",
    "satisfaction_order = ['low', 'medium', 'high']\n",
    "housing_order = grouped_df['housing'].unique()\n",
    "\n",
    "# Create a 4x2x3 numpy array with zeros\n",
    "array_4x2x3 = np.zeros((len(housing_order), len(contact_order), len(satisfaction_order)))\n",
    "\n",
    "# Populate the array\n",
    "for i, housing in enumerate(housing_order):\n",
    "    for j, contact in enumerate(contact_order): \n",
    "        for k, satisfaction in enumerate(satisfaction_order):\n",
    "            filtered_series = grouped_df[(grouped_df['housing'] == housing) & \n",
    "                                        (grouped_df['contact'] == contact) & \n",
    "                                        (grouped_df['satisfaction'] == satisfaction)]['count']\n",
    "            # YOUR CODE HERE\n",
    "            if not filtered_series.empty:\n",
    "                array_4x2x3[i,j,k] = float(filtered_series.iloc[0])\n",
    "            else:\n",
    "                array_4x2x3[i,j,k] = 0.0\n",
    "\n",
    "array_4x2x3"
   ]
  },
  {
   "cell_type": "markdown",
   "id": "8cd34a71-d31d-4261-8caa-dd038d086d90",
   "metadata": {
    "deletable": false,
    "editable": false,
    "nbgrader": {
     "cell_type": "markdown",
     "checksum": "e1b7a0fcfd8044ae97b764fcc72136aa",
     "grade": false,
     "grade_id": "qn4_instructions",
     "locked": true,
     "points": 2,
     "schema_version": 3,
     "solution": false,
     "task": true
    }
   },
   "source": [
    "### Question 4\n",
    "\n",
    "Apply the $\\chi^2$-test for independence of categorical variables to the 2x3 table for each housing type at 5% level. Be sure to:\n",
    "\n",
    "1. Print out each $p$-value,\n",
    "2. Check any assumptions required, and \n",
    "3. State your final conclusions.\n",
    "\n",
    "Create any code/markdown cells you need below this one:"
   ]
  },
  {
   "cell_type": "code",
   "execution_count": 6,
   "id": "f480fe60",
   "metadata": {},
   "outputs": [
    {
     "name": "stdout",
     "output_type": "stream",
     "text": [
      "apartments: 0.02057911123702632\n",
      "Under apartments, We do not have enough evidence to conclude that contact and satisfcation are not indpendent\n",
      "atrium houses: 0.2898054778332235\n",
      "Under atrium houses, We can conclude that contact and satisfcation are not indpendent\n",
      "terraced houses: 0.11850529521084015\n",
      "Under terraced houses, We can conclude that contact and satisfcation are not indpendent\n",
      "tower blocks: 0.036113721842121145\n",
      "Under tower blocks, We do not have enough evidence to conclude that contact and satisfcation are not indpendent\n"
     ]
    }
   ],
   "source": [
    "for i, housing in enumerate(housing_order):\n",
    "    chi2, p_value, dof, expected = stats.chi2_contingency(array_4x2x3[i])\n",
    "    # print p value\n",
    "    print(f\"{housing}: {p_value}\")\n",
    "    # state conclusion\n",
    "    if p_value < 0.05:\n",
    "        print(f\"Under {housing}, We do not have enough evidence to conclude that contact and satisfcation are not indpendent\")\n",
    "    else:\n",
    "        print(f\"Under {housing}, We can conclude that contact and satisfcation are not indpendent\")"
   ]
  },
  {
   "cell_type": "markdown",
   "id": "e792fe85-0a9c-4d82-941a-2fdb9f9b21f5",
   "metadata": {},
   "source": [
    "Conclusion\n",
    "\n",
    "$$H_0: \\text{Contact and Satisfaction are independent}$$\n",
    "\n",
    "$$H_1: \\text{Contact and Satisfaction are not independent}$$\n",
    "\n",
    "- For apartments and tower blocks, note that p value is less than $5\\%$, so we do not have sufficient evidence to conclude contact and satisfaction are not independent a.k.a. we can not reject $H_0$\n",
    "- For atrium houses and terraced houses, note that p value is greater than $5\\%$ we can conclude that contact and satisfaction are not independent, a.k.a. reject $H_0$"
   ]
  }
 ],
 "metadata": {
  "kernelspec": {
   "display_name": "myenv",
   "language": "python",
   "name": "python3"
  },
  "language_info": {
   "codemirror_mode": {
    "name": "ipython",
    "version": 3
   },
   "file_extension": ".py",
   "mimetype": "text/x-python",
   "name": "python",
   "nbconvert_exporter": "python",
   "pygments_lexer": "ipython3",
   "version": "3.12.4"
  }
 },
 "nbformat": 4,
 "nbformat_minor": 5
}
