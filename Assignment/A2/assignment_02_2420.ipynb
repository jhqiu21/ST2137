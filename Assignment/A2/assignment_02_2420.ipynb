{
 "cells": [
  {
   "attachments": {},
   "cell_type": "markdown",
   "id": "b6a4c9e4-a756-450b-a0e1-f18344a22f9a",
   "metadata": {
    "deletable": false,
    "editable": false,
    "nbgrader": {
     "cell_type": "markdown",
     "checksum": "572a0662f8b7f9bdc07c33c856dc968f",
     "grade": false,
     "grade_id": "instructions_i",
     "locked": true,
     "schema_version": 3,
     "solution": false,
     "task": false
    }
   },
   "source": [
    "## Instructions\n",
    "\n",
    "Before you turn this problem in, make sure everything runs as expected. \n",
    "\n",
    "1. **Restart the kernel** (in the menubar, select Kernel $\\rightarrow$ Restart) and then\n",
    "2. **Run all cells** (in the menubar, select Cell $\\rightarrow$ Run All).\n",
    "3. **Save the notebook**\n",
    "\n",
    "Do fix all your errors before submitting.\n",
    "\n",
    "Make sure you fill in any place that says `YOUR CODE HERE` or \"YOUR ANSWER HERE\".\n",
    "\n",
    "## Student Performance Data\n",
    "\n",
    "For the most part of our course, we have been working on the mathematics scores for students from the student performance dataset. The following code will read in the scores for portugese subject."
   ]
  },
  {
   "cell_type": "code",
   "execution_count": 1,
   "id": "f323bba2-275b-4ecc-b386-b41cef9c8f29",
   "metadata": {
    "deletable": false,
    "editable": false,
    "nbgrader": {
     "cell_type": "code",
     "checksum": "65cd4d048556bd0dd8d8483d877c9728",
     "grade": false,
     "grade_id": "load_data",
     "locked": true,
     "schema_version": 3,
     "solution": false,
     "task": false
    }
   },
   "outputs": [],
   "source": [
    "import pandas as pd\n",
    "import numpy as np\n",
    "from scipy import stats\n",
    "import statsmodels.api as sm\n",
    "from statsmodels.formula.api import ols\n",
    "\n",
    "import matplotlib.pyplot as plt\n",
    "\n",
    "stud_perf_mat  = pd.read_csv(\"data/student/student-mat.csv\", delimiter=\";\")\n",
    "stud_perf_por  = pd.read_csv(\"data/student/student-por.csv\", delimiter=\";\")"
   ]
  },
  {
   "cell_type": "markdown",
   "id": "55b17a35-33c6-4447-9521-89a9262b2c3a",
   "metadata": {
    "deletable": false,
    "editable": false,
    "nbgrader": {
     "cell_type": "markdown",
     "checksum": "b27f5650ad19916eea09cd1447a1c813",
     "grade": false,
     "grade_id": "instructions_ii",
     "locked": true,
     "schema_version": 3,
     "solution": false,
     "task": false
    }
   },
   "source": [
    "The two datasets have different dimensions, but there is a set of students that are common to both datasets. The following code creates a new \n",
    "dataframe corresponding to these students. Columns with a `_x` suffix correspond to Math scores, while columns with a `_y` suffix correspond to \n",
    "Portugese."
   ]
  },
  {
   "cell_type": "code",
   "execution_count": 2,
   "id": "0fecb392-9b5f-4bf8-9ee5-afa73a22d454",
   "metadata": {
    "deletable": false,
    "editable": false,
    "nbgrader": {
     "cell_type": "code",
     "checksum": "e609c10a720c91f4c582642af0853f60",
     "grade": false,
     "grade_id": "merge_datasets",
     "locked": true,
     "schema_version": 3,
     "solution": false,
     "task": false
    }
   },
   "outputs": [],
   "source": [
    "merged_df = stud_perf_mat.merge(stud_perf_por, how='inner', \n",
    "                                on =['school', 'sex', 'age', 'address', 'famsize', 'Pstatus', \n",
    "                                     'Medu', 'Fedu', 'Mjob', 'Fjob', 'reason', 'nursery', 'internet'])"
   ]
  },
  {
   "cell_type": "markdown",
   "id": "1d757505-ef3e-4006-8ce6-bc1d8a32e4fa",
   "metadata": {
    "deletable": false,
    "editable": false,
    "nbgrader": {
     "cell_type": "markdown",
     "checksum": "a2cb1d6d43bab2f3c50f12eda2455a93",
     "grade": false,
     "grade_id": "q1",
     "locked": true,
     "schema_version": 3,
     "solution": false,
     "task": false
    }
   },
   "source": [
    "### Q1: Remove zero-points\n",
    "\n",
    "Remove the points from `merged_df` where either `G3_x = 0` or `G3_y = 0` (or both). "
   ]
  },
  {
   "cell_type": "code",
   "execution_count": 3,
   "id": "2025c9a0-afa7-4984-aec6-49166eadc276",
   "metadata": {
    "deletable": false,
    "nbgrader": {
     "cell_type": "code",
     "checksum": "d1095b3c45bff0a79427590caae94d79",
     "grade": false,
     "grade_id": "cell-ff9bfd4a7e72c938",
     "locked": false,
     "schema_version": 3,
     "solution": true,
     "task": false
    }
   },
   "outputs": [],
   "source": [
    "merged_df = merged_df[(merged_df.G3_x != 0) & (merged_df.G3_y != 0)]"
   ]
  },
  {
   "cell_type": "markdown",
   "id": "36205988-315c-431a-84a6-918a6b6637ae",
   "metadata": {
    "deletable": false,
    "editable": false,
    "nbgrader": {
     "cell_type": "markdown",
     "checksum": "d48f7f494018e772f83872710d7a37e4",
     "grade": false,
     "grade_id": "q2",
     "locked": true,
     "points": 3,
     "schema_version": 3,
     "solution": false,
     "task": true
    }
   },
   "source": [
    "### Q2: t-test\n",
    "\n",
    "Suppose we let $\\mu_x$ correspond to the mean Math G3 scores, while $\\mu_y$ corresponds to mean Portugese G3 scores. Carry out an appropriate test of the following hypothesis:\n",
    "\n",
    "\n",
    "$$\\mu_x = \\mu_y$$\n",
    "$$\\mu_x > \\mu_y$$\n",
    "\n",
    "\n",
    "Remember to carry out all steps in the procedure, including assumption checking."
   ]
  },
  {
   "cell_type": "markdown",
   "id": "e34019d7-fb62-4e7f-82fd-c7b2fd7b843d",
   "metadata": {},
   "source": [
    "###YOUR ANSWER HERE (include code as well)"
   ]
  },
  {
   "cell_type": "code",
   "execution_count": 4,
   "id": "7ca80d77",
   "metadata": {},
   "outputs": [],
   "source": [
    "# 2-variable independent test\n",
    "# one side\n",
    "# formal setup\n",
    "x = merged_df.G3_x\n",
    "y = merged_df.G3_y"
   ]
  },
  {
   "cell_type": "markdown",
   "id": "8f88617d",
   "metadata": {},
   "source": [
    "**Test for normality:** Execute the following 2 block to apply Shapiro-Wilk test to both variable. The result shows that both p-value < 0.05. Therefore we reject $H_0$, accept $H_1$, both two variables do not follow normal distribution."
   ]
  },
  {
   "cell_type": "code",
   "execution_count": 5,
   "id": "870e034c",
   "metadata": {},
   "outputs": [
    {
     "data": {
      "text/plain": [
       "ShapiroResult(statistic=np.float64(0.9784042930972487), pvalue=np.float64(5.515441608011557e-05))"
      ]
     },
     "execution_count": 5,
     "metadata": {},
     "output_type": "execute_result"
    }
   ],
   "source": [
    "stats.shapiro(x)"
   ]
  },
  {
   "cell_type": "code",
   "execution_count": 6,
   "id": "b8ad0f47",
   "metadata": {},
   "outputs": [
    {
     "data": {
      "text/plain": [
       "ShapiroResult(statistic=np.float64(0.9711407632829925), pvalue=np.float64(2.66480527714179e-06))"
      ]
     },
     "execution_count": 6,
     "metadata": {},
     "output_type": "execute_result"
    }
   ],
   "source": [
    "stats.shapiro(y)"
   ]
  },
  {
   "cell_type": "markdown",
   "id": "cb969384",
   "metadata": {},
   "source": [
    "Since the normality assumption is violated, we should use non-parametric test. Note that `G3_x` and `G3_y` are independent, we use wilcoxon sum rank test.\n",
    "\n",
    "$H_0:$ The distribution of `G3_x` is in same location of the distribution of `G3_y`, in other words, $\\mu_x = \\mu_y$\n",
    "\n",
    "$H_1:$ The distribution of `G3_x` is on the right location of the distribution of `G3_y`, in other words, $\\mu_x > \\mu_y$"
   ]
  },
  {
   "cell_type": "code",
   "execution_count": 7,
   "id": "9e281ee4",
   "metadata": {},
   "outputs": [
    {
     "name": "stdout",
     "output_type": "stream",
     "text": [
      "0.9999999911627284\n"
     ]
    }
   ],
   "source": [
    "# wilcoxn rank sum test\n",
    "wrs_out = stats.mannwhitneyu(x, y, alternative = \"greater\")\n",
    "print(wrs_out.pvalue)"
   ]
  },
  {
   "cell_type": "markdown",
   "id": "7fa4fc9f",
   "metadata": {},
   "source": [
    "Note that the p-value is 0.99 > 0.05, hence we don't have enough evidence to reject $H_0$. Therefore $\\mu_x = \\mu_y$"
   ]
  },
  {
   "cell_type": "markdown",
   "id": "3dc13ea5-cc7a-4bd3-bd10-3da450592f5a",
   "metadata": {
    "deletable": false,
    "editable": false,
    "nbgrader": {
     "cell_type": "markdown",
     "checksum": "75d19728f6c70cbbddbc08249c2bb767",
     "grade": false,
     "grade_id": "q3",
     "locked": true,
     "points": 2,
     "schema_version": 3,
     "solution": false,
     "task": true
    }
   },
   "source": [
    "### Q3: Linear Regression\n",
    "\n",
    "It is of interest to understand if we can explain math G3 scores using Portuguse G3 scores and Mother's education. Fit the following model \n",
    "to the data:\n",
    "\n",
    "\\begin{equation}\n",
    "Y = \\beta_0 + \\beta_1 X_1  + \\beta_2 I(X_2 = 1) + \\beta_3 I(X_2 = 2) + \\beta_4 I(X_2 = 3) + \\beta_5 I(X_2 = 4)  + \\epsilon\n",
    "\\end{equation}\n",
    "\n",
    "where \n",
    "\n",
    "* $Y$: Math G3 scores\n",
    "* $X_1$: Portugese G3 scores\n",
    "* $X_2$: Mother's education (i.e. 0, 1, 2, 3 or 4)\n",
    "\n",
    "Use the model to compute 90% confidence intervals for all values of Medu for a student with Portugese G3 score of 10."
   ]
  },
  {
   "cell_type": "code",
   "execution_count": 8,
   "id": "9ae1ee53-1010-4d27-b2ee-77cf9c79cebc",
   "metadata": {},
   "outputs": [
    {
     "data": {
      "text/html": [
       "<div>\n",
       "<style scoped>\n",
       "    .dataframe tbody tr th:only-of-type {\n",
       "        vertical-align: middle;\n",
       "    }\n",
       "\n",
       "    .dataframe tbody tr th {\n",
       "        vertical-align: top;\n",
       "    }\n",
       "\n",
       "    .dataframe thead th {\n",
       "        text-align: right;\n",
       "    }\n",
       "</style>\n",
       "<table border=\"1\" class=\"dataframe\">\n",
       "  <thead>\n",
       "    <tr style=\"text-align: right;\">\n",
       "      <th></th>\n",
       "      <th>G3_y</th>\n",
       "      <th>Medu</th>\n",
       "      <th>CI_lower</th>\n",
       "      <th>CI_upper</th>\n",
       "    </tr>\n",
       "  </thead>\n",
       "  <tbody>\n",
       "    <tr>\n",
       "      <th>0</th>\n",
       "      <td>10</td>\n",
       "      <td>0</td>\n",
       "      <td>8.816466</td>\n",
       "      <td>13.925972</td>\n",
       "    </tr>\n",
       "    <tr>\n",
       "      <th>1</th>\n",
       "      <td>10</td>\n",
       "      <td>1</td>\n",
       "      <td>7.899504</td>\n",
       "      <td>9.309208</td>\n",
       "    </tr>\n",
       "    <tr>\n",
       "      <th>2</th>\n",
       "      <td>10</td>\n",
       "      <td>2</td>\n",
       "      <td>9.148769</td>\n",
       "      <td>10.209562</td>\n",
       "    </tr>\n",
       "    <tr>\n",
       "      <th>3</th>\n",
       "      <td>10</td>\n",
       "      <td>3</td>\n",
       "      <td>9.065021</td>\n",
       "      <td>10.140673</td>\n",
       "    </tr>\n",
       "    <tr>\n",
       "      <th>4</th>\n",
       "      <td>10</td>\n",
       "      <td>4</td>\n",
       "      <td>9.428337</td>\n",
       "      <td>10.458905</td>\n",
       "    </tr>\n",
       "  </tbody>\n",
       "</table>\n",
       "</div>"
      ],
      "text/plain": [
       "   G3_y  Medu  CI_lower   CI_upper\n",
       "0    10     0  8.816466  13.925972\n",
       "1    10     1  7.899504   9.309208\n",
       "2    10     2  9.148769  10.209562\n",
       "3    10     3  9.065021  10.140673\n",
       "4    10     4  9.428337  10.458905"
      ]
     },
     "execution_count": 8,
     "metadata": {},
     "output_type": "execute_result"
    }
   ],
   "source": [
    "### YOUR CODE HERE\n",
    "lm = ols('G3_x ~ G3_y + C(Medu)', merged_df).fit()\n",
    "lm.summary()\n",
    "new_df = sm.add_constant(pd.DataFrame({'G3_y':[10, 10, 10, 10,10], 'Medu':[0, 1, 2, 3, 4]}))\n",
    "predictions_out = lm.get_prediction(new_df)\n",
    "ci = predictions_out.conf_int(alpha=0.1)\n",
    "\n",
    "results_df = new_df.copy()\n",
    "results_df['CI_lower'] = ci[:, 0]\n",
    "results_df['CI_upper'] = ci[:, 1]\n",
    "results_df"
   ]
  }
 ],
 "metadata": {
  "kernelspec": {
   "display_name": "myenv",
   "language": "python",
   "name": "python3"
  },
  "language_info": {
   "codemirror_mode": {
    "name": "ipython",
    "version": 3
   },
   "file_extension": ".py",
   "mimetype": "text/x-python",
   "name": "python",
   "nbconvert_exporter": "python",
   "pygments_lexer": "ipython3",
   "version": "3.12.4"
  }
 },
 "nbformat": 4,
 "nbformat_minor": 5
}
