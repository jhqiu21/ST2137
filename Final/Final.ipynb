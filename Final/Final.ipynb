{
 "cells": [
  {
   "cell_type": "markdown",
   "id": "593e5409",
   "metadata": {},
   "source": [
    "## Final Exam"
   ]
  },
  {
   "cell_type": "code",
   "execution_count": 9,
   "id": "05be72bc",
   "metadata": {},
   "outputs": [],
   "source": [
    "import numpy as np\n",
    "import pandas as pd\n",
    "from scipy.stats import binom, gamma, norm, poisson, uniform, expon\n",
    "from scipy import stats\n",
    "import statsmodels.api as sm\n",
    "from statsmodels.formula.api import ols\n",
    "import matplotlib.pyplot as plt\n",
    "path = \"../src/data/\"\n",
    "\n",
    "stud_perf = pd.read_csv(path + \"student/student-mat.csv\", sep=\";\")"
   ]
  },
  {
   "cell_type": "markdown",
   "id": "a1f8aaef",
   "metadata": {},
   "source": [
    "### Question 11"
   ]
  },
  {
   "cell_type": "code",
   "execution_count": null,
   "id": "10487863",
   "metadata": {},
   "outputs": [
    {
     "name": "stdout",
     "output_type": "stream",
     "text": [
      "0.19603771786126484 0.2693946092005128\n",
      "0.2327161635308888\n",
      "[0.37888461]\n"
     ]
    }
   ],
   "source": [
    "# Question i\n",
    "rng = np.random.default_rng(2137)\n",
    "n = 1000\n",
    "X = expon.rvs(2, size=n, random_state=rng)\n",
    "Y = np.sin(X)\n",
    "res = np.mean(Y)\n",
    "z = stats.norm.ppf(0.975)\n",
    "SD = np.std(Y)\n",
    "upper_ci = res + z * SD / np.sqrt(n)\n",
    "lower_ci = res - z * SD / np.sqrt(n)\n",
    "print(lower_ci, upper_ci)\n",
    "\n",
    "# Question ii\n",
    "j = 2\n",
    "Y1 = np.sin(expon.rvs(2, size=1, random_state=rng))\n",
    "Y1_mean = Y1[0]\n",
    "Y2 = np.sin(expon.rvs(2, size=1, random_state=rng))\n",
    "Yj_mean = Y1_mean + (Y2 - Y1_mean) / 2\n",
    "s_j = (1 - 1/1) * 0 + (1 + 1) * (Yj_mean - Y1_mean)**2\n",
    "\n",
    "while (s_j / j >= 0.01):\n",
    "    j = j + 1\n",
    "    Yj1 = np.sin(expon.rvs(2, size=1, random_state=rng))[0]\n",
    "    Yj1_mean = Yj_mean + (Yj1 - Yj_mean) / j\n",
    "    s_j = (1 - 1 / (j - 1)) * s_j + j * (Yj1_mean - Yj_mean)**2\n",
    "    Yj_mean = Yj1_mean\n",
    "print(Yj_mean)"
   ]
  },
  {
   "cell_type": "code",
   "execution_count": null,
   "id": "41c329cc",
   "metadata": {},
   "outputs": [],
   "source": []
  },
  {
   "cell_type": "code",
   "execution_count": null,
   "id": "2fbe2bc0",
   "metadata": {},
   "outputs": [
    {
     "name": "stdout",
     "output_type": "stream",
     "text": [
      "23\n"
     ]
    }
   ],
   "source": []
  },
  {
   "cell_type": "code",
   "execution_count": null,
   "id": "447c2c03",
   "metadata": {},
   "outputs": [],
   "source": []
  },
  {
   "cell_type": "code",
   "execution_count": null,
   "id": "35a51ab7",
   "metadata": {},
   "outputs": [],
   "source": []
  },
  {
   "cell_type": "code",
   "execution_count": null,
   "id": "cabda58f",
   "metadata": {},
   "outputs": [],
   "source": []
  }
 ],
 "metadata": {
  "kernelspec": {
   "display_name": "myenv",
   "language": "python",
   "name": "python3"
  },
  "language_info": {
   "codemirror_mode": {
    "name": "ipython",
    "version": 3
   },
   "file_extension": ".py",
   "mimetype": "text/x-python",
   "name": "python",
   "nbconvert_exporter": "python",
   "pygments_lexer": "ipython3",
   "version": "3.12.4"
  }
 },
 "nbformat": 4,
 "nbformat_minor": 5
}
