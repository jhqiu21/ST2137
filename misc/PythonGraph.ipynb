{
 "cells": [
  {
   "cell_type": "markdown",
   "metadata": {},
   "source": [
    "## Python Plot"
   ]
  },
  {
   "cell_type": "markdown",
   "metadata": {},
   "source": [
    "### Quantitive\n",
    "- [Describe](#discribe)\n",
    "- [Histogram](#histogram)\n",
    "- [Density Plot](#density-plot)\n",
    "- [Box Plot](#boxplots)\n",
    "- [QQ Plot](#qq-plot)\n",
    "- [Scatterplot Matrices](#scatterplot-matrices)\n",
    "- [Correlation Plot](#correlation-plot)\n",
    "\n",
    "### Categorical\n",
    "- [Contingency Table](#contingency-table)\n",
    "- [Mosaic Plot](#mosaic-plot)\n",
    "- [Chi Square Test](#chi-square-Test)\n",
    "- [Fisher Exact Test](#fisher-exact-test)\n",
    "- [Odds Ratio](#odds-ratio)\n",
    "- [Tau for Ordinal Variable](#tau-for-ordinal-variable)\n",
    "\n",
    "### Tutorial \n",
    "- [Regression](#regression)"
   ]
  },
  {
   "cell_type": "code",
   "execution_count": null,
   "metadata": {},
   "outputs": [],
   "source": [
    "import math\n",
    "import pandas as pd\n",
    "import numpy as np\n",
    "import matplotlib.pyplot as plt\n",
    "from scipy import stats\n",
    "from scipy import special\n",
    "import statsmodels.api as sm # -> for QQ plot\n",
    "from statsmodels.graphics.mosaicplot import mosaic # -> for mosaic plot\n",
    "\n",
    "path = \"../src/\"\n",
    "\n",
    "stud_pref = pd.read_csv(path + \"data/student/student-mat.csv\", sep=\";\")\n",
    "# stud_pref = pd.read_csv(path + \"data/student/student-mat.csv\", delimiter=\";\")\n",
    "# sep=\",\" by default\n",
    "concrete = pd.read_csv(path + \"data/concrete+slump+test/slump_test.data\")\n",
    "er_arrivals = pd.read_csv(path+\"data/er_arrivals.csv\")\n",
    "er_arrivals['date'] = pd.to_datetime(er_arrivals['date'])"
   ]
  },
  {
   "cell_type": "markdown",
   "metadata": {},
   "source": [
    "#### Discribe\n",
    "\n",
    "dataframe.describe(percentiles, include, exclude, datetime_is_numeric)"
   ]
  },
  {
   "cell_type": "code",
   "execution_count": null,
   "metadata": {},
   "outputs": [],
   "source": [
    "stud_pref.G3.describe() # -> information"
   ]
  },
  {
   "cell_type": "code",
   "execution_count": null,
   "metadata": {},
   "outputs": [],
   "source": [
    "stud_pref[['Medu', 'G3']].describe()"
   ]
  },
  {
   "cell_type": "code",
   "execution_count": null,
   "metadata": {},
   "outputs": [],
   "source": [
    "stud_pref[['Medu', 'G3']].groupby('Medu').describe()"
   ]
  },
  {
   "cell_type": "code",
   "execution_count": null,
   "metadata": {},
   "outputs": [],
   "source": [
    "stud_pref[['Medu', 'G3', 'G1']].groupby('Medu').describe()"
   ]
  },
  {
   "cell_type": "markdown",
   "metadata": {},
   "source": [
    "#### Numerical Summary"
   ]
  },
  {
   "cell_type": "code",
   "execution_count": null,
   "metadata": {},
   "outputs": [],
   "source": [
    "stud_pref.loc[:,'G1':'G3'].shape"
   ]
  },
  {
   "cell_type": "code",
   "execution_count": null,
   "metadata": {},
   "outputs": [],
   "source": [
    "stud_pref.G3.value_counts()"
   ]
  },
  {
   "cell_type": "markdown",
   "metadata": {},
   "source": [
    "#### info\n",
    "\n",
    "Prints information about a DataFrame including the index dtype and columns, non-null values and memory usage."
   ]
  },
  {
   "cell_type": "code",
   "execution_count": null,
   "metadata": {},
   "outputs": [],
   "source": [
    "stud_pref.G3.info()"
   ]
  },
  {
   "cell_type": "markdown",
   "metadata": {},
   "source": [
    "### Histogram"
   ]
  },
  {
   "cell_type": "code",
   "execution_count": null,
   "metadata": {},
   "outputs": [],
   "source": [
    "fig = stud_pref.G3.hist(grid=False)\n",
    "fig.set_title('G3 Histogram')"
   ]
  },
  {
   "cell_type": "code",
   "execution_count": null,
   "metadata": {},
   "outputs": [],
   "source": [
    "stud_pref.G3.hist(by=stud_pref.Medu, figsize=(15, 10), density=True, layout=(2,3))"
   ]
  },
  {
   "cell_type": "code",
   "execution_count": null,
   "metadata": {},
   "outputs": [],
   "source": [
    "stud_pref[['G1', 'G2', 'G3']].hist(layout=(1,3), figsize=(15,4), grid=False)"
   ]
  },
  {
   "cell_type": "markdown",
   "metadata": {},
   "source": [
    "#### Density-Plot"
   ]
  },
  {
   "cell_type": "code",
   "execution_count": null,
   "metadata": {},
   "outputs": [],
   "source": [
    "fig, axs = plt.subplots(2, 3, squeeze=False, figsize=(15, 6))\n",
    "out2 = stud_pref.groupby(\"Medu\")\n",
    "for index, df in enumerate(out2):\n",
    "    # df[0] -> value of Medu, df[1] -> dataframe\n",
    "    tmp = plt.subplot(2, 3, index+1) # subplot(nrows, ncols, position index)\n",
    "    df[1].G3.plot(kind='kde')\n",
    "    tmp.set_title(df[0])"
   ]
  },
  {
   "cell_type": "markdown",
   "metadata": {},
   "source": [
    "#### Boxplots"
   ]
  },
  {
   "cell_type": "code",
   "execution_count": null,
   "metadata": {},
   "outputs": [],
   "source": [
    "stud_pref.plot.box(column='G3', by='goout')"
   ]
  },
  {
   "cell_type": "markdown",
   "metadata": {},
   "source": [
    "#### QQ Plot"
   ]
  },
  {
   "cell_type": "code",
   "execution_count": null,
   "metadata": {},
   "outputs": [],
   "source": [
    "concrete"
   ]
  },
  {
   "cell_type": "code",
   "execution_count": null,
   "metadata": {},
   "outputs": [],
   "source": [
    "concrete.rename(columns={'No': 'id', 'Compressive Strength (28-day)(Mpa)': 'Comp_Strength'}, inplace=True)"
   ]
  },
  {
   "cell_type": "code",
   "execution_count": null,
   "metadata": {},
   "outputs": [],
   "source": [
    "sm.qqplot(concrete.Comp_Strength, line='q')"
   ]
  },
  {
   "cell_type": "markdown",
   "metadata": {},
   "source": [
    "#### Scatterplot Matrices"
   ]
  },
  {
   "cell_type": "code",
   "execution_count": null,
   "metadata": {},
   "outputs": [],
   "source": [
    "pd.plotting.scatter_matrix(concrete[['Cement', 'Slag', 'Water', 'SLUMP(cm)', 'FLOW(cm)']], figsize=(8,8))"
   ]
  },
  {
   "cell_type": "markdown",
   "metadata": {},
   "source": [
    "#### Correlation Plot"
   ]
  },
  {
   "cell_type": "code",
   "execution_count": null,
   "metadata": {},
   "outputs": [],
   "source": [
    "corr = concrete[['Cement', 'Slag', 'Water', 'SLUMP(cm)', 'FLOW(cm)']].corr()\n",
    "corr.style.background_gradient(cmap='coolwarm_r')"
   ]
  },
  {
   "cell_type": "markdown",
   "metadata": {},
   "source": [
    "#### Contingency Table"
   ]
  },
  {
   "cell_type": "code",
   "execution_count": null,
   "metadata": {},
   "outputs": [],
   "source": [
    "tab = np.array([[4, 184], [2, 260]])\n",
    "prop = tab / tab.sum(axis=1).reshape((2,1)) # need to reshape sum(axis=1) as it return a vector in shape (1,2)\n",
    "xx = pd.DataFrame(prop, columns=['nervous', 'not nervous'], index=['claritin', 'placebo'])\n",
    "xx"
   ]
  },
  {
   "cell_type": "code",
   "execution_count": null,
   "metadata": {},
   "outputs": [],
   "source": [
    "ax = xx.plot(kind='bar', stacked=False, rot=1.0, figsize=(8,4))\n",
    "ax = xx.plot(kind='bar', stacked=True, rot=0.5, figsize=(5,4))\n",
    "ax.legend(loc='upper left')"
   ]
  },
  {
   "cell_type": "markdown",
   "metadata": {},
   "source": [
    "#### Mosaic Plot"
   ]
  },
  {
   "cell_type": "code",
   "execution_count": null,
   "metadata": {},
   "outputs": [],
   "source": [
    "tab = np.asarray([[762,327,468], [484,239,477]])\n",
    "mosaic(tab, statistic=True, gap=0.05)"
   ]
  },
  {
   "cell_type": "markdown",
   "metadata": {},
   "source": [
    "#### Chi Square Test\n",
    "\n",
    "$$H_0: \\text{The two variables are independent}$$\n",
    "$$H_1: \\text{The two variables are not independent}$$\n",
    "\n",
    "Set Significance level $5\\%$\n",
    "\n",
    "- If $p-\\text{value} < 0.05$, Reject $H_0$, The two variables are not independent.\n",
    "- If $p-\\text{value} > 0.05$, not enough evidence to reject $H_0$, The two variables are independent."
   ]
  },
  {
   "cell_type": "code",
   "execution_count": null,
   "metadata": {},
   "outputs": [],
   "source": [
    "def chisq_test(array):\n",
    "    chisq_output = stats.chi2_contingency(array)\n",
    "    print(f\"The p-value is {chisq_output.pvalue:.4f}\")\n",
    "    print(f\"The test statistic value is {chisq_output.statistic:.4f}.\")\n",
    "    if np.any(chisq_output.expected_freq < 5):\n",
    "        print(\"Expected cell count assumption violated!\")\n",
    "    else :\n",
    "        print(\"Expected cell counts all at least 5.\")\n",
    "    \n",
    "    # conclusion\n",
    "    if chisq_output.pvalue < 0.05:\n",
    "        print(\"Conclusion: The two variable is not independent.\")\n",
    "    else:\n",
    "        print(\"Conclusion: The two variable is independent.\")\n",
    "    print(\"---\")"
   ]
  },
  {
   "cell_type": "code",
   "execution_count": null,
   "metadata": {},
   "outputs": [],
   "source": [
    "array = np.array([[46, 474], [37, 516]])\n",
    "chisq_output = stats.chi2_contingency(array)\n",
    "chisq_output.pvalue # pvalue\n",
    "chisq_output.statistic # test statistic value\n",
    "chisq_output.expected_freq # expected cell counts"
   ]
  },
  {
   "cell_type": "markdown",
   "metadata": {},
   "source": [
    "$\\chi^2$ Test for $r\\times c $ table"
   ]
  },
  {
   "cell_type": "code",
   "execution_count": null,
   "metadata": {},
   "outputs": [],
   "source": [
    "rc = np.array([[46, 474], [37, 516], [50, 75]])\n",
    "rc_output = stats.chi2_contingency(rc)\n",
    "rc_output.pvalue\n",
    "\n",
    "chisq_test(rc)"
   ]
  },
  {
   "cell_type": "markdown",
   "metadata": {},
   "source": [
    "#### Fisher Exact Test\n",
    "\n",
    "When there exists expected cell counts are less than 5, use Fisher Test instead of $\\chi^2$"
   ]
  },
  {
   "cell_type": "code",
   "execution_count": null,
   "metadata": {},
   "outputs": [],
   "source": [
    "def fisher_test(array):\n",
    "    fisher_output = stats.fisher_exact(array)\n",
    "    print(f\"The p-value is {fisher_output.pvalue:.4f}\")\n",
    "    print(f\"The test statistic value is {fisher_output.statistic:.4f}.\")\n",
    "    \n",
    "    # conclusion\n",
    "    if fisher_output.pvalue < 0.05:\n",
    "        print(\"Conclusion: The two variable is not independent.\")\n",
    "    else:\n",
    "        print(\"Conclusion: The two variable is independent.\")\n",
    "    print(\"---\")"
   ]
  },
  {
   "cell_type": "code",
   "execution_count": null,
   "metadata": {},
   "outputs": [],
   "source": [
    "tab = np.array([[4, 184], [2, 260]])\n",
    "fisher_output = stats.fisher_exact(tab)\n",
    "fisher_output.statistic\n",
    "fisher_output.pvalue\n",
    "\n",
    "fisher_test(tab)"
   ]
  },
  {
   "cell_type": "markdown",
   "metadata": {},
   "source": [
    "#### Odds Ratio"
   ]
  },
  {
   "cell_type": "code",
   "execution_count": null,
   "metadata": {},
   "outputs": [],
   "source": [
    "array = np.array([[46, 474], [37, 516]])\n",
    "tab2 = sm.stats.Table2x2(array)\n",
    "tab2.summary()\n",
    "# odds ratio is 1.353"
   ]
  },
  {
   "cell_type": "markdown",
   "metadata": {},
   "source": [
    "#### Tau for Ordinal Variable"
   ]
  },
  {
   "cell_type": "code",
   "execution_count": null,
   "metadata": {},
   "outputs": [],
   "source": [
    "us_svy_tab = np.array([[1, 3, 10, 6], \n",
    "                      [2, 3, 10, 7],\n",
    "                      [1, 6, 14, 12],\n",
    "                      [0, 1,  9, 11]])\n",
    "\n",
    "dim1 = us_svy_tab.shape\n",
    "x = []; y=[]\n",
    "for i in range(0, dim1[0]):\n",
    "    for j in range(0, dim1[1]):\n",
    "        for k in range(0, us_svy_tab[i,j]):\n",
    "            x.append(i)\n",
    "            y.append(j)\n",
    "            \n",
    "kt_output = stats.kendalltau(x, y)\n",
    "print(f\"The estimate of tau-b is {kt_output.statistic:.4f}.\")"
   ]
  },
  {
   "cell_type": "markdown",
   "metadata": {},
   "source": [
    "#### Trimed Mean"
   ]
  },
  {
   "cell_type": "code",
   "execution_count": null,
   "metadata": {},
   "outputs": [],
   "source": [
    "stats.trim_mean(stud_pref.G3, proportiontocut=0.1)"
   ]
  },
  {
   "cell_type": "markdown",
   "metadata": {},
   "source": [
    "#### Winsorize Mean"
   ]
  },
  {
   "cell_type": "code",
   "execution_count": null,
   "metadata": {},
   "outputs": [],
   "source": [
    "stats.mstats.winsorize(stud_pref.G3, limits=0.1).mean()"
   ]
  },
  {
   "cell_type": "markdown",
   "metadata": {},
   "source": [
    "#### Standard Deviation"
   ]
  },
  {
   "cell_type": "code",
   "execution_count": null,
   "metadata": {},
   "outputs": [],
   "source": [
    "stud_pref.G3.std()"
   ]
  },
  {
   "cell_type": "markdown",
   "metadata": {},
   "source": [
    "#### MAD\n",
    "\n",
    "$$\\hat{\\sigma} = \\frac{1}{0.6745} MAD(X)$$"
   ]
  },
  {
   "cell_type": "code",
   "execution_count": null,
   "metadata": {},
   "outputs": [],
   "source": [
    "stats.median_abs_deviation(stud_pref.G3)"
   ]
  },
  {
   "cell_type": "markdown",
   "metadata": {},
   "source": [
    "#### IQR\n",
    "\n",
    "$$\\hat{\\sigma} = \\frac{1}{1.35} IQR $$"
   ]
  },
  {
   "cell_type": "code",
   "execution_count": null,
   "metadata": {},
   "outputs": [],
   "source": [
    "stats.iqr(stud_pref.G3)"
   ]
  },
  {
   "cell_type": "markdown",
   "metadata": {},
   "source": [
    "### Regression"
   ]
  },
  {
   "cell_type": "code",
   "execution_count": null,
   "metadata": {},
   "outputs": [],
   "source": [
    "# Step 1: Extract Yk and compute Xk\n",
    "Yk = er_arrivals['num_arrivals']\n",
    "Xk = Yk.value_counts().sort_index() # Frequency table\n",
    "k = Xk.index.to_numpy() # Unique arrival values\n",
    "Xk = Xk.to_numpy() # Counts for each unique value\n",
    "\n",
    "# Step 2: Compute N and phi\n",
    "N = len(Yk)\n",
    "phi = special.gammaln(k + 1) + np.log(Xk / N)\n",
    "\n",
    "# Step 3: Compute lam_hat from slope\n",
    "slope, intercept, _, _, _ = stats.linregress(k, phi)\n",
    "lam_hat = np.exp(slope)"
   ]
  },
  {
   "cell_type": "code",
   "execution_count": null,
   "metadata": {},
   "outputs": [],
   "source": [
    "# Step 4: Plotting\n",
    "plt.scatter(k, phi, label=r'$\\phi_k$', color='black', s=50);\n",
    "plt.plot(k, slope * k + intercept, linestyle='--', color='blue', label=f\"Slope: {slope:.2f}\")\n",
    "plt.xlabel('k')\n",
    "plt.ylabel(r'$\\phi_k$')\n",
    "plt.title(\"Poisson-ness for E.R. arrivals\")\n",
    "plt.legend()"
   ]
  }
 ],
 "metadata": {
  "kernelspec": {
   "display_name": "myenv",
   "language": "python",
   "name": "python3"
  },
  "language_info": {
   "codemirror_mode": {
    "name": "ipython",
    "version": 3
   },
   "file_extension": ".py",
   "mimetype": "text/x-python",
   "name": "python",
   "nbconvert_exporter": "python",
   "pygments_lexer": "ipython3",
   "version": "3.12.4"
  }
 },
 "nbformat": 4,
 "nbformat_minor": 2
}
