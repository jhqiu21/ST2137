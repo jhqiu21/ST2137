{
 "cells": [
  {
   "cell_type": "markdown",
   "metadata": {},
   "source": [
    "## Python Plot"
   ]
  },
  {
   "cell_type": "markdown",
   "metadata": {},
   "source": [
    "### Quantitive\n",
    "- [Describe](#discribe)\n",
    "- [Histogram](#histogram)\n",
    "- [Density Plot](#density-plot)\n",
    "- [Box Plot](#boxplots)\n",
    "- [QQ Plot](#qq-plot)\n",
    "- [Scatterplot Matrices](#scatterplot-matrices)\n",
    "\n",
    "### Categorical\n",
    "- [Correlation Plot](#correlation-plot)\n",
    "- [Contingency Table](#contingency-table)\n",
    "- [Mosaic Plot](#mosaic-plot)\n",
    "- [Chi Square Test](#chi-square-Test)\n",
    "- [Fisher Exact Test](#fisher-exact-test)\n",
    "- [Odds Ratio](#odds-ratio)\n",
    "- [Tau for Ordinal Variable](#tau-for-ordinal-variable)"
   ]
  },
  {
   "cell_type": "code",
   "execution_count": 2,
   "metadata": {},
   "outputs": [],
   "source": [
    "import pandas as pd\n",
    "import numpy as np\n",
    "import matplotlib.pyplot as plt\n",
    "from scipy import stats\n",
    "import statsmodels.api as sm # -> for QQ plot\n",
    "from statsmodels.graphics.mosaicplot import mosaic # -> for mosaic plot\n",
    "\n",
    "path = \"../src/\"\n",
    "\n",
    "stud_pref = pd.read_csv(path + \"data/student/student-mat.csv\", sep=\";\")\n",
    "# stud_pref = pd.read_csv(path + \"data/student/student-mat.csv\", delimiter=\";\")\n",
    "# sep=\",\" by default\n",
    "concrete = pd.read_csv(path + \"data/concrete+slump+test/slump_test.data\")"
   ]
  },
  {
   "cell_type": "markdown",
   "metadata": {},
   "source": [
    "#### Discribe\n",
    "\n",
    "dataframe.describe(percentiles, include, exclude, datetime_is_numeric)"
   ]
  },
  {
   "cell_type": "code",
   "execution_count": 3,
   "metadata": {},
   "outputs": [
    {
     "data": {
      "text/plain": [
       "count    395.000000\n",
       "mean      10.415190\n",
       "std        4.581443\n",
       "min        0.000000\n",
       "25%        8.000000\n",
       "50%       11.000000\n",
       "75%       14.000000\n",
       "max       20.000000\n",
       "Name: G3, dtype: float64"
      ]
     },
     "execution_count": 3,
     "metadata": {},
     "output_type": "execute_result"
    }
   ],
   "source": [
    "stud_pref.G3.describe() # -> information"
   ]
  },
  {
   "cell_type": "code",
   "execution_count": 4,
   "metadata": {},
   "outputs": [
    {
     "data": {
      "text/html": [
       "<div>\n",
       "<style scoped>\n",
       "    .dataframe tbody tr th:only-of-type {\n",
       "        vertical-align: middle;\n",
       "    }\n",
       "\n",
       "    .dataframe tbody tr th {\n",
       "        vertical-align: top;\n",
       "    }\n",
       "\n",
       "    .dataframe thead th {\n",
       "        text-align: right;\n",
       "    }\n",
       "</style>\n",
       "<table border=\"1\" class=\"dataframe\">\n",
       "  <thead>\n",
       "    <tr style=\"text-align: right;\">\n",
       "      <th></th>\n",
       "      <th>Medu</th>\n",
       "      <th>G3</th>\n",
       "    </tr>\n",
       "  </thead>\n",
       "  <tbody>\n",
       "    <tr>\n",
       "      <th>count</th>\n",
       "      <td>395.000000</td>\n",
       "      <td>395.000000</td>\n",
       "    </tr>\n",
       "    <tr>\n",
       "      <th>mean</th>\n",
       "      <td>2.749367</td>\n",
       "      <td>10.415190</td>\n",
       "    </tr>\n",
       "    <tr>\n",
       "      <th>std</th>\n",
       "      <td>1.094735</td>\n",
       "      <td>4.581443</td>\n",
       "    </tr>\n",
       "    <tr>\n",
       "      <th>min</th>\n",
       "      <td>0.000000</td>\n",
       "      <td>0.000000</td>\n",
       "    </tr>\n",
       "    <tr>\n",
       "      <th>25%</th>\n",
       "      <td>2.000000</td>\n",
       "      <td>8.000000</td>\n",
       "    </tr>\n",
       "    <tr>\n",
       "      <th>50%</th>\n",
       "      <td>3.000000</td>\n",
       "      <td>11.000000</td>\n",
       "    </tr>\n",
       "    <tr>\n",
       "      <th>75%</th>\n",
       "      <td>4.000000</td>\n",
       "      <td>14.000000</td>\n",
       "    </tr>\n",
       "    <tr>\n",
       "      <th>max</th>\n",
       "      <td>4.000000</td>\n",
       "      <td>20.000000</td>\n",
       "    </tr>\n",
       "  </tbody>\n",
       "</table>\n",
       "</div>"
      ],
      "text/plain": [
       "             Medu          G3\n",
       "count  395.000000  395.000000\n",
       "mean     2.749367   10.415190\n",
       "std      1.094735    4.581443\n",
       "min      0.000000    0.000000\n",
       "25%      2.000000    8.000000\n",
       "50%      3.000000   11.000000\n",
       "75%      4.000000   14.000000\n",
       "max      4.000000   20.000000"
      ]
     },
     "execution_count": 4,
     "metadata": {},
     "output_type": "execute_result"
    }
   ],
   "source": [
    "stud_pref[['Medu', 'G3']].describe()"
   ]
  },
  {
   "cell_type": "code",
   "execution_count": 5,
   "metadata": {},
   "outputs": [
    {
     "data": {
      "text/html": [
       "<div>\n",
       "<style scoped>\n",
       "    .dataframe tbody tr th:only-of-type {\n",
       "        vertical-align: middle;\n",
       "    }\n",
       "\n",
       "    .dataframe tbody tr th {\n",
       "        vertical-align: top;\n",
       "    }\n",
       "\n",
       "    .dataframe thead tr th {\n",
       "        text-align: left;\n",
       "    }\n",
       "\n",
       "    .dataframe thead tr:last-of-type th {\n",
       "        text-align: right;\n",
       "    }\n",
       "</style>\n",
       "<table border=\"1\" class=\"dataframe\">\n",
       "  <thead>\n",
       "    <tr>\n",
       "      <th></th>\n",
       "      <th colspan=\"8\" halign=\"left\">G3</th>\n",
       "    </tr>\n",
       "    <tr>\n",
       "      <th></th>\n",
       "      <th>count</th>\n",
       "      <th>mean</th>\n",
       "      <th>std</th>\n",
       "      <th>min</th>\n",
       "      <th>25%</th>\n",
       "      <th>50%</th>\n",
       "      <th>75%</th>\n",
       "      <th>max</th>\n",
       "    </tr>\n",
       "    <tr>\n",
       "      <th>Medu</th>\n",
       "      <th></th>\n",
       "      <th></th>\n",
       "      <th></th>\n",
       "      <th></th>\n",
       "      <th></th>\n",
       "      <th></th>\n",
       "      <th></th>\n",
       "      <th></th>\n",
       "    </tr>\n",
       "  </thead>\n",
       "  <tbody>\n",
       "    <tr>\n",
       "      <th>0</th>\n",
       "      <td>3.0</td>\n",
       "      <td>13.000000</td>\n",
       "      <td>3.464102</td>\n",
       "      <td>9.0</td>\n",
       "      <td>12.0</td>\n",
       "      <td>15.0</td>\n",
       "      <td>15.0</td>\n",
       "      <td>15.0</td>\n",
       "    </tr>\n",
       "    <tr>\n",
       "      <th>1</th>\n",
       "      <td>59.0</td>\n",
       "      <td>8.677966</td>\n",
       "      <td>4.364594</td>\n",
       "      <td>0.0</td>\n",
       "      <td>7.5</td>\n",
       "      <td>10.0</td>\n",
       "      <td>11.0</td>\n",
       "      <td>16.0</td>\n",
       "    </tr>\n",
       "    <tr>\n",
       "      <th>2</th>\n",
       "      <td>103.0</td>\n",
       "      <td>9.728155</td>\n",
       "      <td>4.636163</td>\n",
       "      <td>0.0</td>\n",
       "      <td>8.0</td>\n",
       "      <td>11.0</td>\n",
       "      <td>13.0</td>\n",
       "      <td>19.0</td>\n",
       "    </tr>\n",
       "    <tr>\n",
       "      <th>3</th>\n",
       "      <td>99.0</td>\n",
       "      <td>10.303030</td>\n",
       "      <td>4.623486</td>\n",
       "      <td>0.0</td>\n",
       "      <td>8.0</td>\n",
       "      <td>10.0</td>\n",
       "      <td>13.0</td>\n",
       "      <td>19.0</td>\n",
       "    </tr>\n",
       "    <tr>\n",
       "      <th>4</th>\n",
       "      <td>131.0</td>\n",
       "      <td>11.763359</td>\n",
       "      <td>4.267646</td>\n",
       "      <td>0.0</td>\n",
       "      <td>9.5</td>\n",
       "      <td>12.0</td>\n",
       "      <td>15.0</td>\n",
       "      <td>20.0</td>\n",
       "    </tr>\n",
       "  </tbody>\n",
       "</table>\n",
       "</div>"
      ],
      "text/plain": [
       "         G3                                                  \n",
       "      count       mean       std  min   25%   50%   75%   max\n",
       "Medu                                                         \n",
       "0       3.0  13.000000  3.464102  9.0  12.0  15.0  15.0  15.0\n",
       "1      59.0   8.677966  4.364594  0.0   7.5  10.0  11.0  16.0\n",
       "2     103.0   9.728155  4.636163  0.0   8.0  11.0  13.0  19.0\n",
       "3      99.0  10.303030  4.623486  0.0   8.0  10.0  13.0  19.0\n",
       "4     131.0  11.763359  4.267646  0.0   9.5  12.0  15.0  20.0"
      ]
     },
     "execution_count": 5,
     "metadata": {},
     "output_type": "execute_result"
    }
   ],
   "source": [
    "stud_pref[['Medu', 'G3']].groupby('Medu').describe()"
   ]
  },
  {
   "cell_type": "code",
   "execution_count": 6,
   "metadata": {},
   "outputs": [
    {
     "data": {
      "text/html": [
       "<div>\n",
       "<style scoped>\n",
       "    .dataframe tbody tr th:only-of-type {\n",
       "        vertical-align: middle;\n",
       "    }\n",
       "\n",
       "    .dataframe tbody tr th {\n",
       "        vertical-align: top;\n",
       "    }\n",
       "\n",
       "    .dataframe thead tr th {\n",
       "        text-align: left;\n",
       "    }\n",
       "\n",
       "    .dataframe thead tr:last-of-type th {\n",
       "        text-align: right;\n",
       "    }\n",
       "</style>\n",
       "<table border=\"1\" class=\"dataframe\">\n",
       "  <thead>\n",
       "    <tr>\n",
       "      <th></th>\n",
       "      <th colspan=\"8\" halign=\"left\">G3</th>\n",
       "      <th colspan=\"8\" halign=\"left\">G1</th>\n",
       "    </tr>\n",
       "    <tr>\n",
       "      <th></th>\n",
       "      <th>count</th>\n",
       "      <th>mean</th>\n",
       "      <th>std</th>\n",
       "      <th>min</th>\n",
       "      <th>25%</th>\n",
       "      <th>50%</th>\n",
       "      <th>75%</th>\n",
       "      <th>max</th>\n",
       "      <th>count</th>\n",
       "      <th>mean</th>\n",
       "      <th>std</th>\n",
       "      <th>min</th>\n",
       "      <th>25%</th>\n",
       "      <th>50%</th>\n",
       "      <th>75%</th>\n",
       "      <th>max</th>\n",
       "    </tr>\n",
       "    <tr>\n",
       "      <th>Medu</th>\n",
       "      <th></th>\n",
       "      <th></th>\n",
       "      <th></th>\n",
       "      <th></th>\n",
       "      <th></th>\n",
       "      <th></th>\n",
       "      <th></th>\n",
       "      <th></th>\n",
       "      <th></th>\n",
       "      <th></th>\n",
       "      <th></th>\n",
       "      <th></th>\n",
       "      <th></th>\n",
       "      <th></th>\n",
       "      <th></th>\n",
       "      <th></th>\n",
       "    </tr>\n",
       "  </thead>\n",
       "  <tbody>\n",
       "    <tr>\n",
       "      <th>0</th>\n",
       "      <td>3.0</td>\n",
       "      <td>13.000000</td>\n",
       "      <td>3.464102</td>\n",
       "      <td>9.0</td>\n",
       "      <td>12.0</td>\n",
       "      <td>15.0</td>\n",
       "      <td>15.0</td>\n",
       "      <td>15.0</td>\n",
       "      <td>3.0</td>\n",
       "      <td>12.000000</td>\n",
       "      <td>4.582576</td>\n",
       "      <td>7.0</td>\n",
       "      <td>10.0</td>\n",
       "      <td>13.0</td>\n",
       "      <td>14.5</td>\n",
       "      <td>16.0</td>\n",
       "    </tr>\n",
       "    <tr>\n",
       "      <th>1</th>\n",
       "      <td>59.0</td>\n",
       "      <td>8.677966</td>\n",
       "      <td>4.364594</td>\n",
       "      <td>0.0</td>\n",
       "      <td>7.5</td>\n",
       "      <td>10.0</td>\n",
       "      <td>11.0</td>\n",
       "      <td>16.0</td>\n",
       "      <td>59.0</td>\n",
       "      <td>9.745763</td>\n",
       "      <td>3.043326</td>\n",
       "      <td>5.0</td>\n",
       "      <td>8.0</td>\n",
       "      <td>9.0</td>\n",
       "      <td>12.0</td>\n",
       "      <td>18.0</td>\n",
       "    </tr>\n",
       "    <tr>\n",
       "      <th>2</th>\n",
       "      <td>103.0</td>\n",
       "      <td>9.728155</td>\n",
       "      <td>4.636163</td>\n",
       "      <td>0.0</td>\n",
       "      <td>8.0</td>\n",
       "      <td>11.0</td>\n",
       "      <td>13.0</td>\n",
       "      <td>19.0</td>\n",
       "      <td>103.0</td>\n",
       "      <td>10.563107</td>\n",
       "      <td>2.939487</td>\n",
       "      <td>5.0</td>\n",
       "      <td>8.0</td>\n",
       "      <td>10.0</td>\n",
       "      <td>12.0</td>\n",
       "      <td>18.0</td>\n",
       "    </tr>\n",
       "    <tr>\n",
       "      <th>3</th>\n",
       "      <td>99.0</td>\n",
       "      <td>10.303030</td>\n",
       "      <td>4.623486</td>\n",
       "      <td>0.0</td>\n",
       "      <td>8.0</td>\n",
       "      <td>10.0</td>\n",
       "      <td>13.0</td>\n",
       "      <td>19.0</td>\n",
       "      <td>99.0</td>\n",
       "      <td>10.606061</td>\n",
       "      <td>3.519097</td>\n",
       "      <td>3.0</td>\n",
       "      <td>7.0</td>\n",
       "      <td>11.0</td>\n",
       "      <td>13.0</td>\n",
       "      <td>18.0</td>\n",
       "    </tr>\n",
       "    <tr>\n",
       "      <th>4</th>\n",
       "      <td>131.0</td>\n",
       "      <td>11.763359</td>\n",
       "      <td>4.267646</td>\n",
       "      <td>0.0</td>\n",
       "      <td>9.5</td>\n",
       "      <td>12.0</td>\n",
       "      <td>15.0</td>\n",
       "      <td>20.0</td>\n",
       "      <td>131.0</td>\n",
       "      <td>11.908397</td>\n",
       "      <td>3.317669</td>\n",
       "      <td>5.0</td>\n",
       "      <td>10.0</td>\n",
       "      <td>12.0</td>\n",
       "      <td>14.5</td>\n",
       "      <td>19.0</td>\n",
       "    </tr>\n",
       "  </tbody>\n",
       "</table>\n",
       "</div>"
      ],
      "text/plain": [
       "         G3                                                       G1  \\\n",
       "      count       mean       std  min   25%   50%   75%   max  count   \n",
       "Medu                                                                   \n",
       "0       3.0  13.000000  3.464102  9.0  12.0  15.0  15.0  15.0    3.0   \n",
       "1      59.0   8.677966  4.364594  0.0   7.5  10.0  11.0  16.0   59.0   \n",
       "2     103.0   9.728155  4.636163  0.0   8.0  11.0  13.0  19.0  103.0   \n",
       "3      99.0  10.303030  4.623486  0.0   8.0  10.0  13.0  19.0   99.0   \n",
       "4     131.0  11.763359  4.267646  0.0   9.5  12.0  15.0  20.0  131.0   \n",
       "\n",
       "                                                        \n",
       "           mean       std  min   25%   50%   75%   max  \n",
       "Medu                                                    \n",
       "0     12.000000  4.582576  7.0  10.0  13.0  14.5  16.0  \n",
       "1      9.745763  3.043326  5.0   8.0   9.0  12.0  18.0  \n",
       "2     10.563107  2.939487  5.0   8.0  10.0  12.0  18.0  \n",
       "3     10.606061  3.519097  3.0   7.0  11.0  13.0  18.0  \n",
       "4     11.908397  3.317669  5.0  10.0  12.0  14.5  19.0  "
      ]
     },
     "execution_count": 6,
     "metadata": {},
     "output_type": "execute_result"
    }
   ],
   "source": [
    "stud_pref[['Medu', 'G3', 'G1']].groupby('Medu').describe()"
   ]
  },
  {
   "cell_type": "markdown",
   "metadata": {},
   "source": [
    "#### info\n",
    "\n",
    "Prints information about a DataFrame including the index dtype and columns, non-null values and memory usage."
   ]
  },
  {
   "cell_type": "code",
   "execution_count": null,
   "metadata": {},
   "outputs": [],
   "source": [
    "stud_pref.G3.info()"
   ]
  },
  {
   "cell_type": "markdown",
   "metadata": {},
   "source": [
    "### Histogram"
   ]
  },
  {
   "cell_type": "code",
   "execution_count": 7,
   "metadata": {},
   "outputs": [
    {
     "data": {
      "text/plain": [
       "Text(0.5, 1.0, 'G3 Histogram')"
      ]
     },
     "execution_count": 7,
     "metadata": {},
     "output_type": "execute_result"
    },
    {
     "data": {
      "image/png": "[encoded data removed]",
      "text/plain": [
       "<Figure size 640x480 with 1 Axes>"
      ]
     },
     "metadata": {},
     "output_type": "display_data"
    }
   ],
   "source": [
    "fig = stud_pref.G3.hist(grid=False)\n",
    "fig.set_title('G3 Histogram')"
   ]
  },
  {
   "cell_type": "code",
   "execution_count": null,
   "metadata": {},
   "outputs": [],
   "source": [
    "stud_pref.G3.hist(by=stud_pref.Medu, figsize=(15, 10), density=True, layout=(2,3))"
   ]
  },
  {
   "cell_type": "code",
   "execution_count": null,
   "metadata": {},
   "outputs": [],
   "source": [
    "stud_pref[['G1', 'G2', 'G3']].hist(layout=(1,3), figsize=(15,4), grid=False)"
   ]
  },
  {
   "cell_type": "markdown",
   "metadata": {},
   "source": [
    "#### Density-Plot"
   ]
  },
  {
   "cell_type": "code",
   "execution_count": null,
   "metadata": {},
   "outputs": [],
   "source": [
    "fig, axs = plt.subplots(2, 3, squeeze=False, figsize=(15, 6))\n",
    "out2 = stud_pref.groupby(\"Medu\")\n",
    "for index, df in enumerate(out2):\n",
    "    # df[0] -> value of Medu, df[1] -> dataframe\n",
    "    tmp = plt.subplot(2, 3, index+1) # subplot(nrows, ncols, position index)\n",
    "    df[1].G3.plot(kind='kde')\n",
    "    tmp.set_title(df[0])"
   ]
  },
  {
   "cell_type": "markdown",
   "metadata": {},
   "source": [
    "#### Boxplots"
   ]
  },
  {
   "cell_type": "code",
   "execution_count": null,
   "metadata": {},
   "outputs": [],
   "source": [
    "stud_pref.plot.box(column='G3', by='goout')"
   ]
  },
  {
   "cell_type": "markdown",
   "metadata": {},
   "source": [
    "#### QQ Plot"
   ]
  },
  {
   "cell_type": "code",
   "execution_count": null,
   "metadata": {},
   "outputs": [],
   "source": [
    "concrete"
   ]
  },
  {
   "cell_type": "code",
   "execution_count": null,
   "metadata": {},
   "outputs": [],
   "source": [
    "concrete.rename(columns={'No': 'id', 'Compressive Strength (28-day)(Mpa)': 'Comp_Strength'}, inplace=True)"
   ]
  },
  {
   "cell_type": "code",
   "execution_count": null,
   "metadata": {},
   "outputs": [],
   "source": [
    "sm.qqplot(concrete.Comp_Strength, line='q')"
   ]
  },
  {
   "cell_type": "markdown",
   "metadata": {},
   "source": [
    "#### Scatterplot Matrices"
   ]
  },
  {
   "cell_type": "code",
   "execution_count": 8,
   "metadata": {},
   "outputs": [
    {
     "data": {
      "text/plain": [
       "array([[<Axes: xlabel='Cement', ylabel='Cement'>,\n",
       "        <Axes: xlabel='Slag', ylabel='Cement'>,\n",
       "        <Axes: xlabel='Water', ylabel='Cement'>,\n",
       "        <Axes: xlabel='SLUMP(cm)', ylabel='Cement'>,\n",
       "        <Axes: xlabel='FLOW(cm)', ylabel='Cement'>],\n",
       "       [<Axes: xlabel='Cement', ylabel='Slag'>,\n",
       "        <Axes: xlabel='Slag', ylabel='Slag'>,\n",
       "        <Axes: xlabel='Water', ylabel='Slag'>,\n",
       "        <Axes: xlabel='SLUMP(cm)', ylabel='Slag'>,\n",
       "        <Axes: xlabel='FLOW(cm)', ylabel='Slag'>],\n",
       "       [<Axes: xlabel='Cement', ylabel='Water'>,\n",
       "        <Axes: xlabel='Slag', ylabel='Water'>,\n",
       "        <Axes: xlabel='Water', ylabel='Water'>,\n",
       "        <Axes: xlabel='SLUMP(cm)', ylabel='Water'>,\n",
       "        <Axes: xlabel='FLOW(cm)', ylabel='Water'>],\n",
       "       [<Axes: xlabel='Cement', ylabel='SLUMP(cm)'>,\n",
       "        <Axes: xlabel='Slag', ylabel='SLUMP(cm)'>,\n",
       "        <Axes: xlabel='Water', ylabel='SLUMP(cm)'>,\n",
       "        <Axes: xlabel='SLUMP(cm)', ylabel='SLUMP(cm)'>,\n",
       "        <Axes: xlabel='FLOW(cm)', ylabel='SLUMP(cm)'>],\n",
       "       [<Axes: xlabel='Cement', ylabel='FLOW(cm)'>,\n",
       "        <Axes: xlabel='Slag', ylabel='FLOW(cm)'>,\n",
       "        <Axes: xlabel='Water', ylabel='FLOW(cm)'>,\n",
       "        <Axes: xlabel='SLUMP(cm)', ylabel='FLOW(cm)'>,\n",
       "        <Axes: xlabel='FLOW(cm)', ylabel='FLOW(cm)'>]], dtype=object)"
      ]
     },
     "execution_count": 8,
     "metadata": {},
     "output_type": "execute_result"
    },
    {
     "data": {
      "image/png": "[encoded data removed]",
      "text/plain": [
       "<Figure size 800x800 with 25 Axes>"
      ]
     },
     "metadata": {},
     "output_type": "display_data"
    }
   ],
   "source": [
    "pd.plotting.scatter_matrix(concrete[['Cement', 'Slag', 'Water', 'SLUMP(cm)', 'FLOW(cm)']], figsize=(8,8))"
   ]
  },
  {
   "cell_type": "markdown",
   "metadata": {},
   "source": [
    "#### Correlation Plot"
   ]
  },
  {
   "cell_type": "code",
   "execution_count": null,
   "metadata": {},
   "outputs": [],
   "source": [
    "corr = concrete[['Cement', 'Slag', 'Water', 'SLUMP(cm)', 'FLOW(cm)']].corr()\n",
    "corr.style.background_gradient(cmap='coolwarm_r')"
   ]
  },
  {
   "cell_type": "markdown",
   "metadata": {},
   "source": [
    "#### Contingency Table"
   ]
  },
  {
   "cell_type": "code",
   "execution_count": 9,
   "metadata": {},
   "outputs": [
    {
     "data": {
      "text/html": [
       "<div>\n",
       "<style scoped>\n",
       "    .dataframe tbody tr th:only-of-type {\n",
       "        vertical-align: middle;\n",
       "    }\n",
       "\n",
       "    .dataframe tbody tr th {\n",
       "        vertical-align: top;\n",
       "    }\n",
       "\n",
       "    .dataframe thead th {\n",
       "        text-align: right;\n",
       "    }\n",
       "</style>\n",
       "<table border=\"1\" class=\"dataframe\">\n",
       "  <thead>\n",
       "    <tr style=\"text-align: right;\">\n",
       "      <th></th>\n",
       "      <th>nervous</th>\n",
       "      <th>not nervous</th>\n",
       "    </tr>\n",
       "  </thead>\n",
       "  <tbody>\n",
       "    <tr>\n",
       "      <th>claritin</th>\n",
       "      <td>0.021277</td>\n",
       "      <td>0.978723</td>\n",
       "    </tr>\n",
       "    <tr>\n",
       "      <th>placebo</th>\n",
       "      <td>0.007634</td>\n",
       "      <td>0.992366</td>\n",
       "    </tr>\n",
       "  </tbody>\n",
       "</table>\n",
       "</div>"
      ],
      "text/plain": [
       "           nervous  not nervous\n",
       "claritin  0.021277     0.978723\n",
       "placebo   0.007634     0.992366"
      ]
     },
     "execution_count": 9,
     "metadata": {},
     "output_type": "execute_result"
    }
   ],
   "source": [
    "tab = np.array([[4, 184], [2, 260]])\n",
    "prop = tab / tab.sum(axis=1).reshape((2,1)) # need to reshape sum(axis=1) as it return a vector in shape (1,2)\n",
    "xx = pd.DataFrame(prop, columns=['nervous', 'not nervous'], index=['claritin', 'placebo'])\n",
    "xx"
   ]
  },
  {
   "cell_type": "code",
   "execution_count": 10,
   "metadata": {},
   "outputs": [
    {
     "data": {
      "text/plain": [
       "<matplotlib.legend.Legend at 0x13baa2420>"
      ]
     },
     "execution_count": 10,
     "metadata": {},
     "output_type": "execute_result"
    },
    {
     "data": {
      "image/png": "[encoded data removed]",
      "text/plain": [
       "<Figure size 800x400 with 1 Axes>"
      ]
     },
     "metadata": {},
     "output_type": "display_data"
    },
    {
     "data": {
      "image/png": "[encoded data removed]",
      "text/plain": [
       "<Figure size 500x400 with 1 Axes>"
      ]
     },
     "metadata": {},
     "output_type": "display_data"
    }
   ],
   "source": [
    "ax = xx.plot(kind='bar', stacked=False, rot=1.0, figsize=(8,4))\n",
    "ax = xx.plot(kind='bar', stacked=True, rot=0.5, figsize=(5,4))\n",
    "ax.legend(loc='upper left')"
   ]
  },
  {
   "cell_type": "markdown",
   "metadata": {},
   "source": [
    "#### Mosaic Plot"
   ]
  },
  {
   "cell_type": "code",
   "execution_count": 11,
   "metadata": {},
   "outputs": [
    {
     "data": {
      "text/plain": [
       "(<Figure size 640x480 with 3 Axes>,\n",
       " {('0', '0'): (0.0,\n",
       "   np.float64(0.0),\n",
       "   0.5378517021607336,\n",
       "   np.float64(0.45881502890173415)),\n",
       "  ('0', '1'): (0.0,\n",
       "   np.float64(0.4900650289017341),\n",
       "   0.5378517021607336,\n",
       "   np.float64(0.19689306358381506)),\n",
       "  ('0', '2'): (0.0,\n",
       "   np.float64(0.7182080924855492),\n",
       "   0.5378517021607336,\n",
       "   np.float64(0.2817919075144508)),\n",
       "  ('1', '0'): (0.5854707497797813,\n",
       "   np.float64(0.0),\n",
       "   0.4145292502202187,\n",
       "   np.float64(0.378125)),\n",
       "  ('1', '1'): (0.5854707497797813,\n",
       "   np.float64(0.409375),\n",
       "   0.4145292502202187,\n",
       "   np.float64(0.18671875000000004)),\n",
       "  ('1', '2'): (0.5854707497797813,\n",
       "   np.float64(0.62734375),\n",
       "   0.4145292502202187,\n",
       "   np.float64(0.37265624999999997))})"
      ]
     },
     "execution_count": 11,
     "metadata": {},
     "output_type": "execute_result"
    },
    {
     "data": {
      "image/png": "[encoded data removed]",
      "text/plain": [
       "<Figure size 640x480 with 3 Axes>"
      ]
     },
     "metadata": {},
     "output_type": "display_data"
    }
   ],
   "source": [
    "tab = np.asarray([[762,327,468], [484,239,477]])\n",
    "mosaic(tab, statistic=True, gap=0.05)"
   ]
  },
  {
   "cell_type": "markdown",
   "metadata": {},
   "source": [
    "#### Chi Square Test\n",
    "\n",
    "$$H_0: \\text{The two variables are independent}$$\n",
    "$$H_1: \\text{The two variables are not independent}$$\n",
    "\n",
    "Set Significance level $5\\%$\n",
    "\n",
    "- If $p-\\text{value} < 0.05$, Reject $H_0$, The two variables are not independent.\n",
    "- If $p-\\text{value} > 0.05$, not enough evidence to reject $H_0$, The two variables are independent."
   ]
  },
  {
   "cell_type": "code",
   "execution_count": 14,
   "metadata": {},
   "outputs": [],
   "source": [
    "def chisq_test(array):\n",
    "    chisq_output = stats.chi2_contingency(array)\n",
    "    print(f\"The p-value is {chisq_output.pvalue:.4f}\")\n",
    "    print(f\"The test statistic value is {chisq_output.statistic:.4f}.\")\n",
    "    if np.any(chisq_output.expected_freq < 5):\n",
    "        print(\"Expected cell count assumption violated!\")\n",
    "    else :\n",
    "        print(\"Expected cell counts all at least 5.\")\n",
    "    \n",
    "    # conclusion\n",
    "    if chisq_output.pvalue < 0.05:\n",
    "        print(\"Conclusion: The two variable is not independent.\")\n",
    "    else:\n",
    "        print(\"Conclusion: The two variable is independent.\")\n",
    "    print(\"---\")"
   ]
  },
  {
   "cell_type": "code",
   "execution_count": null,
   "metadata": {},
   "outputs": [],
   "source": [
    "array = np.array([[46, 474], [37, 516]])\n",
    "chisq_output = stats.chi2_contingency(array)\n",
    "chisq_output.pvalue # pvalue\n",
    "chisq_output.statistic # test statistic value\n",
    "chisq_output.expected_freq # expected cell counts"
   ]
  },
  {
   "cell_type": "markdown",
   "metadata": {},
   "source": [
    "$\\chi^2$ Test for $r\\times c $ table"
   ]
  },
  {
   "cell_type": "code",
   "execution_count": 15,
   "metadata": {},
   "outputs": [
    {
     "name": "stdout",
     "output_type": "stream",
     "text": [
      "The p-value is 0.0000\n",
      "The test statistic value is 119.3534.\n",
      "Expected cell counts all at least 5.\n",
      "Conclusion: The two variable is not independent.\n",
      "---\n"
     ]
    }
   ],
   "source": [
    "rc = np.array([[46, 474], [37, 516], [50, 75]])\n",
    "rc_output = stats.chi2_contingency(rc)\n",
    "rc_output.pvalue\n",
    "\n",
    "chisq_test(rc)"
   ]
  },
  {
   "cell_type": "markdown",
   "metadata": {},
   "source": [
    "#### Fisher Exact Test\n",
    "\n",
    "When there exists expected cell counts are less than 5, use Fisher Test instead of $\\chi^2$"
   ]
  },
  {
   "cell_type": "code",
   "execution_count": 22,
   "metadata": {},
   "outputs": [],
   "source": [
    "def fisher_test(array):\n",
    "    fisher_output = stats.fisher_exact(array)\n",
    "    print(f\"The p-value is {fisher_output.pvalue:.4f}\")\n",
    "    print(f\"The test statistic value is {fisher_output.statistic:.4f}.\")\n",
    "    \n",
    "    # conclusion\n",
    "    if fisher_output.pvalue < 0.05:\n",
    "        print(\"Conclusion: The two variable is not independent.\")\n",
    "    else:\n",
    "        print(\"Conclusion: The two variable is independent.\")\n",
    "    print(\"---\")"
   ]
  },
  {
   "cell_type": "code",
   "execution_count": 24,
   "metadata": {},
   "outputs": [
    {
     "name": "stdout",
     "output_type": "stream",
     "text": [
      "The p-value is 0.2412\n",
      "The test statistic value is 2.8261.\n",
      "Conclusion: The two variable is independent.\n",
      "---\n"
     ]
    }
   ],
   "source": [
    "tab = np.array([[4, 184], [2, 260]])\n",
    "fisher_output = stats.fisher_exact(tab)\n",
    "fisher_output.statistic\n",
    "fisher_output.pvalue\n",
    "\n",
    "fisher_test(tab)"
   ]
  },
  {
   "cell_type": "markdown",
   "metadata": {},
   "source": [
    "#### Odds Ratio"
   ]
  },
  {
   "cell_type": "code",
   "execution_count": 28,
   "metadata": {},
   "outputs": [
    {
     "data": {
      "text/html": [
       "<table class=\"simpletable\">\n",
       "<tr>\n",
       "         <td></td>        <th>Estimate</th>  <th>SE</th>     <th>LCB</th>   <th>UCB</th>  <th>p-value</th>\n",
       "</tr>\n",
       "<tr>\n",
       "  <th>Odds ratio</th>        <td>1.353</td>      <td></td>  <td>0.863</td> <td>2.123</td>   <td>0.188</td>\n",
       "</tr>\n",
       "<tr>\n",
       "  <th>Log odds ratio</th>    <td>0.303</td> <td>0.230</td> <td>-0.148</td> <td>0.753</td>   <td>0.188</td>\n",
       "</tr>\n",
       "<tr>\n",
       "  <th>Risk ratio</th>        <td>1.322</td>      <td></td>  <td>0.872</td> <td>2.004</td>   <td>0.188</td>\n",
       "</tr>\n",
       "<tr>\n",
       "  <th>Log risk ratio</th>    <td>0.279</td> <td>0.212</td> <td>-0.137</td> <td>0.695</td>   <td>0.188</td>\n",
       "</tr>\n",
       "</table>"
      ],
      "text/latex": [
       "\\begin{center}\n",
       "\\begin{tabular}{lccccc}\n",
       "\n",
       "                        & \\textbf{Estimate} & \\textbf{SE} & \\textbf{LCB} & \\textbf{UCB} & \\textbf{p-value}  \\\\\n",
       "\\midrule\n",
       "\\bottomrule\n",
       "\\end{tabular}\n",
       "\\begin{tabular}{lrrrrr}\n",
       "\\textbf{Odds ratio}     &             1.353 &             &        0.863 &        2.123 &            0.188  \\\\\n",
       "\\textbf{Log odds ratio} &             0.303 &       0.230 &       -0.148 &        0.753 &            0.188  \\\\\n",
       "\\textbf{Risk ratio}     &             1.322 &             &        0.872 &        2.004 &            0.188  \\\\\n",
       "\\textbf{Log risk ratio} &             0.279 &       0.212 &       -0.137 &        0.695 &            0.188  \\\\\n",
       "\\bottomrule\n",
       "\\end{tabular}\n",
       "\\end{center}"
      ],
      "text/plain": [
       "<class 'statsmodels.iolib.table.SimpleTable'>"
      ]
     },
     "execution_count": 28,
     "metadata": {},
     "output_type": "execute_result"
    }
   ],
   "source": [
    "array = np.array([[46, 474], [37, 516]])\n",
    "tab2 = sm.stats.Table2x2(array)\n",
    "tab2.summary()\n",
    "# odds ratio is 1.353"
   ]
  },
  {
   "cell_type": "markdown",
   "metadata": {},
   "source": [
    "#### Tau for Ordinal Variable"
   ]
  },
  {
   "cell_type": "code",
   "execution_count": 30,
   "metadata": {},
   "outputs": [
    {
     "name": "stdout",
     "output_type": "stream",
     "text": [
      "The estimate of tau-b is 0.1524.\n"
     ]
    }
   ],
   "source": [
    "us_svy_tab = np.array([[1, 3, 10, 6], \n",
    "                      [2, 3, 10, 7],\n",
    "                      [1, 6, 14, 12],\n",
    "                      [0, 1,  9, 11]])\n",
    "\n",
    "dim1 = us_svy_tab.shape\n",
    "x = []; y=[]\n",
    "for i in range(0, dim1[0]):\n",
    "    for j in range(0, dim1[1]):\n",
    "        for k in range(0, us_svy_tab[i,j]):\n",
    "            x.append(i)\n",
    "            y.append(j)\n",
    "            \n",
    "kt_output = stats.kendalltau(x, y)\n",
    "print(f\"The estimate of tau-b is {kt_output.statistic:.4f}.\")"
   ]
  },
  {
   "cell_type": "markdown",
   "metadata": {},
   "source": [
    "#### Trimed Mean"
   ]
  },
  {
   "cell_type": "code",
   "execution_count": null,
   "metadata": {},
   "outputs": [],
   "source": [
    "stats.trim_mean(stud_pref.G3, proportiontocut=0.1)"
   ]
  },
  {
   "cell_type": "markdown",
   "metadata": {},
   "source": [
    "#### Winsorize Mean"
   ]
  },
  {
   "cell_type": "code",
   "execution_count": null,
   "metadata": {},
   "outputs": [],
   "source": [
    "stats.mstats.winsorize(stud_pref.G3, limits=0.1).mean()"
   ]
  },
  {
   "cell_type": "markdown",
   "metadata": {},
   "source": [
    "#### Standard Deviation"
   ]
  },
  {
   "cell_type": "code",
   "execution_count": null,
   "metadata": {},
   "outputs": [],
   "source": [
    "stud_pref.G3.std()"
   ]
  },
  {
   "cell_type": "markdown",
   "metadata": {},
   "source": [
    "#### MAD\n",
    "\n",
    "$$\\hat{\\sigma} = \\frac{1}{0.6745} MAD(X)$$"
   ]
  },
  {
   "cell_type": "code",
   "execution_count": null,
   "metadata": {},
   "outputs": [],
   "source": [
    "stats.median_abs_deviation(stud_pref.G3)"
   ]
  },
  {
   "cell_type": "markdown",
   "metadata": {},
   "source": [
    "#### IQR\n",
    "\n",
    "$$\\hat{\\sigma} = \\frac{1}{1.35} IQR $$"
   ]
  },
  {
   "cell_type": "code",
   "execution_count": null,
   "metadata": {},
   "outputs": [],
   "source": [
    "stats.iqr(stud_pref.G3)"
   ]
  }
 ],
 "metadata": {
  "kernelspec": {
   "display_name": "myenv",
   "language": "python",
   "name": "python3"
  },
  "language_info": {
   "codemirror_mode": {
    "name": "ipython",
    "version": 3
   },
   "file_extension": ".py",
   "mimetype": "text/x-python",
   "name": "python",
   "nbconvert_exporter": "python",
   "pygments_lexer": "ipython3",
   "version": "3.12.4"
  }
 },
 "nbformat": 4,
 "nbformat_minor": 2
}
