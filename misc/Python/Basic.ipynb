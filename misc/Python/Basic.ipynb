{
 "cells": [
  {
   "cell_type": "markdown",
   "metadata": {},
   "source": [
    "## Python CheatSheet"
   ]
  },
  {
   "cell_type": "markdown",
   "metadata": {},
   "source": [
    "#### Basic\n",
    "- [Array](#array)\n",
    "- [Dictionary](#dictionary)\n",
    "- [Enumerate](#enumerate)\n",
    "\n",
    "#### Pandas\n",
    "- [Dataframe](#dataframe)\n",
    "\n",
    "#### Numpy\n",
    "- [Matrix](#numpy-matrix)"
   ]
  },
  {
   "cell_type": "code",
   "execution_count": null,
   "metadata": {},
   "outputs": [],
   "source": [
    "import numpy as np\n",
    "import pandas as pd\n",
    "import matplotlib.pyplot as plt\n",
    "\n",
    "path = \"../src/\"\n",
    "\n",
    "stud_perf = pd.read_csv(path + \"data/student/student-mat.csv\", sep=\";\")"
   ]
  },
  {
   "cell_type": "markdown",
   "metadata": {},
   "source": [
    "## Array\n",
    "### Array Comparison\n",
    "1. Singal Condition"
   ]
  },
  {
   "cell_type": "code",
   "execution_count": null,
   "metadata": {},
   "outputs": [],
   "source": [
    "A = np.array([1, 2, 3, 4])\n",
    "B = np.array([2, 3, 1, 5])\n",
    "C = A < B # -> [True  True False  True]\n",
    "print(C)"
   ]
  },
  {
   "cell_type": "markdown",
   "metadata": {},
   "source": [
    "2. Multiple conditions, using `np.logical_and()`, `np.logical_or()` and `np.logical_not()`"
   ]
  },
  {
   "cell_type": "code",
   "execution_count": null,
   "metadata": {},
   "outputs": [],
   "source": [
    "res = np.logical_and(A > 1, A < 5)\n",
    "print(res)"
   ]
  },
  {
   "cell_type": "markdown",
   "metadata": {},
   "source": [
    "### N-d Array"
   ]
  },
  {
   "cell_type": "markdown",
   "metadata": {},
   "source": [
    "Use `np.nditer()`"
   ]
  },
  {
   "cell_type": "code",
   "execution_count": null,
   "metadata": {},
   "outputs": [],
   "source": [
    "A = np.array([[1, 2],[3, 4],[5, 6]])\n",
    "for x in np.nditer(A):\n",
    "    print(x)"
   ]
  },
  {
   "cell_type": "markdown",
   "metadata": {},
   "source": [
    "## Dictionary "
   ]
  },
  {
   "cell_type": "code",
   "execution_count": null,
   "metadata": {},
   "outputs": [],
   "source": [
    "dict = { \"X\": \"x\", \"Y\": \"y\", \"Z\": \"z\" }"
   ]
  },
  {
   "cell_type": "markdown",
   "metadata": {},
   "source": [
    "### Add Element"
   ]
  },
  {
   "cell_type": "markdown",
   "metadata": {},
   "source": [
    "1. `update()` method\n",
    "1. Assign directly"
   ]
  },
  {
   "cell_type": "code",
   "execution_count": null,
   "metadata": {},
   "outputs": [],
   "source": [
    "dict.update({\"M\": \"m\"})\n",
    "dict[\"W\"] = \"w\""
   ]
  },
  {
   "cell_type": "markdown",
   "metadata": {},
   "source": [
    "### Remove Element\n",
    "\n",
    "1. `pop()` method removes the item with the **specified key name**\n",
    "1. `popitem()` method removes the last inserted item\n",
    "1. `del` keyword removes the item with the **specified key name**\n",
    "1. `clear()` keyword empties the dictionary"
   ]
  },
  {
   "cell_type": "code",
   "execution_count": null,
   "metadata": {},
   "outputs": [],
   "source": [
    "dict.pop(\"X\") # remove the key X"
   ]
  },
  {
   "cell_type": "code",
   "execution_count": null,
   "metadata": {},
   "outputs": [],
   "source": [
    "dict = { \"X\": \"x\", \"Y\": \"y\", \"Z\": \"z\" }\n",
    "dict.update({\"M\": \"m\"})\n",
    "dict[\"W\"] = \"w\"\n",
    "dict.popitem() # remove the last inserted item\n",
    "print(dict)"
   ]
  },
  {
   "cell_type": "code",
   "execution_count": null,
   "metadata": {},
   "outputs": [],
   "source": [
    "del dict[\"X\"]"
   ]
  },
  {
   "cell_type": "code",
   "execution_count": null,
   "metadata": {},
   "outputs": [],
   "source": [
    "dict.clear()"
   ]
  },
  {
   "cell_type": "markdown",
   "metadata": {},
   "source": [
    "### Loop over dictionary\n",
    "\n",
    "Use the `items()` method to loop over a dictionary:"
   ]
  },
  {
   "cell_type": "code",
   "execution_count": null,
   "metadata": {},
   "outputs": [],
   "source": [
    "dict = { \"X\": \"x\", \"Y\": \"y\", \"Z\": \"z\" }\n",
    "for key, value in dict.items() :\n",
    "    print((key, value))"
   ]
  },
  {
   "cell_type": "markdown",
   "metadata": {},
   "source": [
    "Iterate over keys"
   ]
  },
  {
   "cell_type": "code",
   "execution_count": null,
   "metadata": {},
   "outputs": [],
   "source": [
    "for key in dict.keys():\n",
    "    print(dict[key])"
   ]
  },
  {
   "cell_type": "markdown",
   "metadata": {},
   "source": [
    "## Enumerate"
   ]
  },
  {
   "cell_type": "code",
   "execution_count": null,
   "metadata": {},
   "outputs": [],
   "source": [
    "seq = ['one', 'two', 'three']\n",
    "for i, element in enumerate(seq):\n",
    "     print(i, element)"
   ]
  },
  {
   "cell_type": "markdown",
   "metadata": {},
   "source": [
    "## Dataframe"
   ]
  },
  {
   "cell_type": "markdown",
   "metadata": {},
   "source": [
    "### Create"
   ]
  },
  {
   "cell_type": "code",
   "execution_count": null,
   "metadata": {},
   "outputs": [],
   "source": [
    "data = {'a': [1,2,3,4,5,6], 'b': [6,5,4,3,2,1], 'c': [6,5,4,3,2,1]}\n",
    "df = pd.DataFrame(data,columns=['a','b']) # select a, b from data and create dataframe"
   ]
  },
  {
   "cell_type": "markdown",
   "metadata": {},
   "source": [
    "### Name Column"
   ]
  },
  {
   "cell_type": "code",
   "execution_count": null,
   "metadata": {},
   "outputs": [],
   "source": [
    "df.columns = ['X', 'Y'] # set a, b column to be X and Y\n",
    "df"
   ]
  },
  {
   "cell_type": "code",
   "execution_count": null,
   "metadata": {},
   "outputs": [],
   "source": [
    "varnames = [\"Subject\", \"Gender\", \"CA1\", \"CA2\", \"HW\"]\n",
    "pd.read_table(path + 'data/ex_1.txt', header=None, names=varnames, sep=\"\\\\s+\")"
   ]
  },
  {
   "cell_type": "markdown",
   "metadata": {},
   "source": [
    "### Select columns"
   ]
  },
  {
   "cell_type": "code",
   "execution_count": null,
   "metadata": {},
   "outputs": [],
   "source": [
    "stud_perf['G3']     # returns pandas series\n",
    "stud_perf[['G3']]   # returns pandas dataframe"
   ]
  },
  {
   "cell_type": "code",
   "execution_count": null,
   "metadata": {},
   "outputs": [],
   "source": [
    "stud_perf.loc[:,'G3']     # select column 'G3' series\n",
    "stud_perf.loc[:,['G3']]   # select column 'G3' dataframe\n",
    "stud_perf.iloc[:, 1]      # select the first column series\n",
    "stud_perf.iloc[:, [1]]    # select the first column dataframe"
   ]
  },
  {
   "cell_type": "code",
   "execution_count": null,
   "metadata": {},
   "outputs": [],
   "source": [
    "stud_perf.loc[:, ['G1','G2']] \n",
    "stud_perf.loc[:, 'G1':'G3']   # G1, G2, G3 inclusive\n",
    "stud_perf.iloc[:, [1, 3]] \n",
    "stud_perf.iloc[:, 1:3]        # column 1, 2, exclude 3"
   ]
  },
  {
   "cell_type": "markdown",
   "metadata": {},
   "source": [
    "### Select Row"
   ]
  },
  {
   "cell_type": "code",
   "execution_count": null,
   "metadata": {},
   "outputs": [],
   "source": [
    "stud_perf.loc[1]        # -> pandas.Series\n",
    "stud_perf.iloc[4]       # -> pandas.Series\n",
    "\n",
    "stud_perf.loc[[1]]      # -> pandas.DataFrame\n",
    "stud_perf.iloc[[4]]     # -> pandas.DataFrame\n",
    "\n",
    "stud_perf.loc[[4, 1]]   # -> pandas.DataFrame\n",
    "stud_perf.iloc[[1, 2]]  # -> pandas.DataFrame"
   ]
  },
  {
   "cell_type": "markdown",
   "metadata": {},
   "source": [
    "### Select Mutiple Rows with Multipe Column"
   ]
  },
  {
   "cell_type": "code",
   "execution_count": null,
   "metadata": {},
   "outputs": [],
   "source": [
    "stud_perf.loc[[1, 2], ['G1', 'G2']]\n",
    "stud_perf.iloc[[3, 4], [0, 1]]"
   ]
  },
  {
   "cell_type": "markdown",
   "metadata": {},
   "source": [
    "### Filter\n",
    "\n",
    "1. Filter rows: use `cond` to filter dataframe, returns all rows with `True` value"
   ]
  },
  {
   "cell_type": "code",
   "execution_count": null,
   "metadata": {},
   "outputs": [],
   "source": [
    "cond = stud_perf.G3 > 10\n",
    "stud_perf[cond]            # Returns all \"True\" rows"
   ]
  },
  {
   "cell_type": "code",
   "execution_count": null,
   "metadata": {},
   "outputs": [],
   "source": [
    "# stud_perf[stud_perf.G1 < 10 & stud_perf.G3 > 10] -> error \n",
    "stud_perf[(stud_perf.address == 'R') & (stud_perf.G3 > 10)] # need parentheses for each condition"
   ]
  },
  {
   "cell_type": "code",
   "execution_count": null,
   "metadata": {},
   "outputs": [],
   "source": [
    "stud_perf[(stud_perf.G1 < 10) | (stud_perf.G3 > 10)] # need parentheses for each condition"
   ]
  },
  {
   "cell_type": "markdown",
   "metadata": {},
   "source": [
    "### Loop over DataFrame"
   ]
  },
  {
   "cell_type": "code",
   "execution_count": null,
   "metadata": {},
   "outputs": [],
   "source": [
    "for index, row in stud_perf[0:10].iterrows(): # 0, ..., 9\n",
    "    print(index) # -> index of each row \n",
    "    print(row)   # -> the row object pd.Series"
   ]
  },
  {
   "cell_type": "markdown",
   "metadata": {},
   "source": [
    "### Get Values"
   ]
  },
  {
   "cell_type": "code",
   "execution_count": null,
   "metadata": {},
   "outputs": [],
   "source": [
    "stud_perf[0:10]['G3'].values"
   ]
  },
  {
   "cell_type": "code",
   "execution_count": null,
   "metadata": {},
   "outputs": [],
   "source": [
    "stud_perf[0:10][['G2','G3']].to_numpy()"
   ]
  },
  {
   "cell_type": "markdown",
   "metadata": {},
   "source": [
    "### Map Function\n",
    "\n",
    "```python\n",
    "dataframe.apply(func, axis, raw, result_type, args, kwds)\n",
    "```"
   ]
  },
  {
   "cell_type": "code",
   "execution_count": null,
   "metadata": {},
   "outputs": [],
   "source": [
    "def cond(x):\n",
    "    if x > 15:\n",
    "        return 'Good'\n",
    "    else:\n",
    "        return 'OK'\n",
    "    \n",
    "stud_perf.G3.apply(cond) # -> pd.series"
   ]
  },
  {
   "cell_type": "code",
   "execution_count": null,
   "metadata": {},
   "outputs": [],
   "source": [
    "stud_perf[['G2','G3']].apply(max, axis=0) # maximum in column G2 and G3"
   ]
  },
  {
   "cell_type": "code",
   "execution_count": null,
   "metadata": {},
   "outputs": [],
   "source": [
    "stud_perf[['G2','G3']].apply(max, axis=1) # select max(G2, G3) for each row, return Series"
   ]
  },
  {
   "cell_type": "markdown",
   "metadata": {},
   "source": [
    "### Groupby"
   ]
  },
  {
   "cell_type": "code",
   "execution_count": null,
   "metadata": {},
   "outputs": [],
   "source": [
    "group_df = stud_perf[0:250:20].groupby(['address', 'famsize'], as_index=False)\n",
    "group_df"
   ]
  },
  {
   "cell_type": "code",
   "execution_count": null,
   "metadata": {},
   "outputs": [],
   "source": [
    "for name, group in group_df[['G3']]:\n",
    "    print(f\"Group: {name}\")\n",
    "    print(group) "
   ]
  },
  {
   "cell_type": "code",
   "execution_count": null,
   "metadata": {},
   "outputs": [],
   "source": [
    "group_df[['G3']].sum()"
   ]
  },
  {
   "cell_type": "markdown",
   "metadata": {},
   "source": [
    "### Divide\n",
    "Divide the G3 scores into 10 bins: [0,2], (2,4], (4,6], (6,8], (8,10], (10,12], (12,14], (14,16], (16,18], (18,20]"
   ]
  },
  {
   "cell_type": "code",
   "execution_count": null,
   "metadata": {},
   "outputs": [],
   "source": [
    "pd.cut(stud_perf.G3, bins=[0, 2, 4, 6, 8, 10, 12, 14, 16, 18, 20], labels=False, include_lowest=True)"
   ]
  },
  {
   "cell_type": "markdown",
   "metadata": {},
   "source": [
    "### Stack"
   ]
  },
  {
   "cell_type": "code",
   "execution_count": null,
   "metadata": {},
   "outputs": [],
   "source": [
    "flex2 = flextime.iloc[:,1:].stack().reset_index()"
   ]
  },
  {
   "cell_type": "markdown",
   "metadata": {},
   "source": [
    "## Numpy Matrix"
   ]
  },
  {
   "cell_type": "markdown",
   "metadata": {},
   "source": [
    "### Create"
   ]
  },
  {
   "cell_type": "code",
   "execution_count": null,
   "metadata": {},
   "outputs": [],
   "source": [
    "array1 = np.array([1, 2, 3, 4, 5])\n",
    "array2 = np.array([6, 7, 8, 9, 10])\n",
    "mat = np.array([array1, array2])\n",
    "mat"
   ]
  },
  {
   "cell_type": "markdown",
   "metadata": {},
   "source": [
    "### Select and Slicing"
   ]
  },
  {
   "cell_type": "code",
   "execution_count": null,
   "metadata": {},
   "outputs": [],
   "source": [
    "mat[0, 0::3] # -> array([1, 4])\n",
    "mat[1, 1:3]  # -> array([7, 8])"
   ]
  },
  {
   "cell_type": "markdown",
   "metadata": {},
   "source": [
    "### Numerical Summary"
   ]
  },
  {
   "cell_type": "code",
   "execution_count": null,
   "metadata": {},
   "outputs": [],
   "source": [
    "mat.T                # -> transpose"
   ]
  },
  {
   "cell_type": "code",
   "execution_count": null,
   "metadata": {},
   "outputs": [],
   "source": [
    "mat.mean()           # -> mean of all entries\n",
    "mat.mean(axis=1)     # -> mean of each rows\n",
    "mat.mean(axis=0)     # -> mean of each columns"
   ]
  },
  {
   "cell_type": "code",
   "execution_count": null,
   "metadata": {},
   "outputs": [],
   "source": [
    "mat.sum()           # -> sum of all entries\n",
    "mat.sum(axis=1)     # -> sum of each rows\n",
    "mat.sum(axis=0)     # -> sum of each columns"
   ]
  },
  {
   "cell_type": "code",
   "execution_count": null,
   "metadata": {},
   "outputs": [],
   "source": [
    "np.argmax(mat)               # -> Flattened array: [1,2,3,4,5,6,7,8,9,10] -> max(array) -> 9(index of max in flatten array)\n",
    "np.argmax(mat, axis=1)       # -> maximum index of each row\n",
    "np.argmax(mat, axis=0)       # -> maximum index of each column"
   ]
  },
  {
   "cell_type": "markdown",
   "metadata": {},
   "source": [
    "### Combination"
   ]
  },
  {
   "cell_type": "code",
   "execution_count": null,
   "metadata": {},
   "outputs": [],
   "source": [
    "np.vstack([mat, array1])"
   ]
  },
  {
   "cell_type": "code",
   "execution_count": null,
   "metadata": {},
   "outputs": [],
   "source": [
    "np.hstack([array1.reshape((5,1)), array2.reshape((5,1)), mat.T])"
   ]
  },
  {
   "cell_type": "markdown",
   "metadata": {},
   "source": [
    "## Line diagram"
   ]
  },
  {
   "cell_type": "code",
   "execution_count": null,
   "metadata": {},
   "outputs": [],
   "source": [
    "plt.plot(x,y)\n",
    "plt.show()"
   ]
  },
  {
   "cell_type": "markdown",
   "metadata": {},
   "source": [
    "## Scatter Plot"
   ]
  },
  {
   "cell_type": "code",
   "execution_count": null,
   "metadata": {},
   "outputs": [],
   "source": [
    "plt.scatter(x,y)\n",
    "plt.show()"
   ]
  }
 ],
 "metadata": {
  "kernelspec": {
   "display_name": "myenv",
   "language": "python",
   "name": "python3"
  },
  "language_info": {
   "codemirror_mode": {
    "name": "ipython",
    "version": 3
   },
   "file_extension": ".py",
   "mimetype": "text/x-python",
   "name": "python",
   "nbconvert_exporter": "python",
   "pygments_lexer": "ipython3",
   "version": "3.12.4"
  }
 },
 "nbformat": 4,
 "nbformat_minor": 2
}
