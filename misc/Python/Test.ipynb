{
 "cells": [
  {
   "cell_type": "markdown",
   "metadata": {},
   "source": [
    "**Hypothesis Test**\n",
    "\n",
    "- [Assumption Check](#assumption-check)\n",
    "- [Paramatric Independent t-Test](#independent-samples-test)\n",
    "- [Paramatric Paired t-Test](#pair)\n",
    "- [Non-Paramatric Independent t-Test](#wilcoxon-rank-sum)\n",
    "- [Non-Paramatric Paired t-Test](#wilcoxon-sign-test)\n",
    "\n",
    "**ANOVA**\n",
    "\n",
    "- [One Way](#one-way-analysis-of-variance)\n",
    "- [Comparing Specific Groups](#comparing-specific-groups)\n",
    "- [Contrast Estimation](#sub-group-and-contrast-estimation)\n",
    "- [Bonferroni Correction](#bonferroni-correction)\n",
    "- [Tukey-HSD](#tukeyhsd)\n",
    "- [Kruskal-Wallis Procedure](#kruskal-wallis-procedure)"
   ]
  },
  {
   "cell_type": "code",
   "execution_count": 6,
   "metadata": {},
   "outputs": [],
   "source": [
    "import pandas as pd\n",
    "import numpy as np\n",
    "from scipy import stats\n",
    "import statsmodels.api as sm\n",
    "from statsmodels.formula.api import ols\n",
    "import matplotlib.pyplot as plt\n",
    "\n",
    "path = \"../src/\"\n",
    "abl = pd.read_csv(path + \"data/abalone_sub.csv\")\n",
    "hr_df = pd.read_csv(path + \"data/health_promo_hr.csv\")\n",
    "heifers = pd.read_csv(path + \"data/antibio.csv\")\n",
    "\n",
    "stud_perf = pd.read_csv(path + \"data/student/student-mat.csv\", sep=';')\n",
    "stud_perf2 = stud_perf[stud_perf.Medu != 0]\n",
    "\n",
    "def outliers_index(x):\n",
    "    return np.where((0.6745 * np.absolute(x - np.median(x)) / stats.median_abs_deviation(x)) > 2.24)\n",
    "out_df_list = []\n",
    "\n",
    "for i,df in stud_perf2.groupby('Medu'):\n",
    "    to_rm = outliers_index(df.G3)\n",
    "    out_df = df.drop(df.index[to_rm])\n",
    "    out_df_list.append(out_df)\n",
    "stud_perf3 = pd.concat(out_df_list)"
   ]
  },
  {
   "cell_type": "markdown",
   "metadata": {},
   "source": [
    "### Hypothesis Test"
   ]
  },
  {
   "cell_type": "markdown",
   "metadata": {},
   "source": [
    "### Assumption Check"
   ]
  },
  {
   "cell_type": "markdown",
   "metadata": {},
   "source": [
    "#### Skewed"
   ]
  },
  {
   "cell_type": "code",
   "execution_count": null,
   "metadata": {},
   "outputs": [],
   "source": [
    "abl.groupby(\"gender\").skew()"
   ]
  },
  {
   "cell_type": "markdown",
   "metadata": {},
   "source": [
    "#### Kurtosis\n",
    "- Positive kurtosis implies that the tails are “fatter” than those of a Normal.\n",
    "- Negative kurtosis indicate that the tails are “thinner” than those of a Normal."
   ]
  },
  {
   "cell_type": "code",
   "execution_count": null,
   "metadata": {},
   "outputs": [],
   "source": [
    "for i,df in abl.groupby('gender'):\n",
    "    print(f\"{df.gender.iloc[0]}: {df.viscera.kurt():.4f}\")"
   ]
  },
  {
   "cell_type": "markdown",
   "metadata": {},
   "source": [
    "##### Hypothesis tests for Normality\n",
    "$$H_0: \\text{Data follows Normal Distribution}$$\n",
    "$$H_0: \\text{Data dose not follow Normal Distribution}$$"
   ]
  },
  {
   "cell_type": "code",
   "execution_count": null,
   "metadata": {},
   "outputs": [],
   "source": [
    "x = abl.viscera[abl.gender == \"M\"]\n",
    "y = abl.viscera[abl.gender == \"F\"]\n",
    "\n",
    "stats.shapiro(x)\n",
    "stats.shapiro(y)"
   ]
  },
  {
   "cell_type": "code",
   "execution_count": null,
   "metadata": {},
   "outputs": [],
   "source": [
    "def checkNormality(data):\n",
    "    result = stats.shapiro(data)\n",
    "    if result.pvalue < 0.05:\n",
    "        print(\"Data dose NOT follow normal distribution\")\n",
    "    else:\n",
    "        print(\"Data follows normal distribution\")\n",
    "\n",
    "checkNormality(x)\n",
    "checkNormality(y)"
   ]
  },
  {
   "cell_type": "markdown",
   "metadata": {},
   "source": [
    "#### Equal Variance\n",
    "\n",
    "If the larger s.d is **more than twice** the smaller one, than we should not use the equal variance form of the test."
   ]
  },
  {
   "cell_type": "code",
   "execution_count": null,
   "metadata": {},
   "outputs": [],
   "source": [
    "abl.groupby('gender').describe()"
   ]
  },
  {
   "cell_type": "markdown",
   "metadata": {},
   "source": [
    "### Parametric Tests\n",
    "Assume some distribution held"
   ]
  },
  {
   "cell_type": "markdown",
   "metadata": {},
   "source": [
    "#### t-Test\n",
    "\n",
    "- Assumes that the data originate from a **Normal distribution**."
   ]
  },
  {
   "cell_type": "markdown",
   "metadata": {},
   "source": [
    "#### Independent Samples Test\n",
    "- `stats.ttest_ind` cannot set significance level. We could simply compare p-value with level we would like.\n",
    "- Confidential Interval could set significant level"
   ]
  },
  {
   "cell_type": "code",
   "execution_count": null,
   "metadata": {},
   "outputs": [],
   "source": [
    "x = abl.viscera[abl.gender == \"M\"]\n",
    "y = abl.viscera[abl.gender == \"F\"]\n",
    "t_out = stats.ttest_ind(x, y, alternative = \"two-sided\", equal_var = True)\n",
    "ci_95 = t_out.confidence_interval(confidence_level=0.95)\n",
    "\n",
    "print(f\"\"\"\n",
    "* The p-value for the test is {t_out.pvalue:.3f}. \n",
    "* The actual value of the test statistic is {t_out.statistic:.3f}.\n",
    "* The upper and lower limits of the CI are ({ci_95[0]:.3f}, {ci_95[1]:.3f}).\n",
    "\"\"\")"
   ]
  },
  {
   "cell_type": "markdown",
   "metadata": {},
   "source": [
    "#### Pair\n",
    "\n",
    "$$D_i = X_i - Y_i$$\n",
    "$$H_0: \\mu_D = 0$$\n",
    "$$H_1: \\mu_D \\neq 0$$"
   ]
  },
  {
   "cell_type": "code",
   "execution_count": null,
   "metadata": {},
   "outputs": [],
   "source": [
    "checkNormality(hr_df.baseline)\n",
    "checkNormality(hr_df.after5)"
   ]
  },
  {
   "cell_type": "code",
   "execution_count": null,
   "metadata": {},
   "outputs": [],
   "source": [
    "paired_out = stats.ttest_rel(hr_df.baseline, hr_df.after5)\n",
    "print(f\"\"\"\n",
    "Test statistic: {paired_out.statistic:.3f}.\n",
    "p-val: {paired_out.pvalue:.3f}.\"\"\")"
   ]
  },
  {
   "cell_type": "markdown",
   "metadata": {},
   "source": [
    "### Non-parametric Tests\n",
    "\n",
    "If the distributional assumptions of the t-test are not met"
   ]
  },
  {
   "cell_type": "markdown",
   "metadata": {},
   "source": [
    "#### Wilcoxon Rank Sum\n",
    "- Independent 2-sample test\n",
    "- Both $n_1$ and $n_2$ are at least 10\n",
    "- Observations (not the ranks) come from an underlying **continuous distribution**\n",
    "\n",
    "$H_0:$ the distribution of group 1 is in same location of the distribution of group 2.\n",
    "\n",
    "$H_1:$ the distribution of group 1 is a location shift of the distribution of group 2."
   ]
  },
  {
   "cell_type": "code",
   "execution_count": null,
   "metadata": {},
   "outputs": [],
   "source": [
    "stats.mannwhitneyu(x, y, alternative=\"two-sided\")"
   ]
  },
  {
   "cell_type": "markdown",
   "metadata": {},
   "source": [
    "#### Wilcoxon Sign Test\n",
    "\n",
    "- Paired Samples Test\n",
    "- If the number of non-zero $D_i$ ’s is at least 16, then the test statistic $W$ follows a $N(0,1)$ distribution approximately.\n",
    "- $D_i = X_i - Y_i$\n",
    "\n",
    "$$H_0: \\text{median of } D_i = 0$$\n",
    "$$H_1: \\text{median of } D_i \\neq 0$$"
   ]
  },
  {
   "cell_type": "code",
   "execution_count": null,
   "metadata": {},
   "outputs": [],
   "source": [
    "wsr_out = stats.wilcoxon(hr_df.baseline, hr_df.after5, correction=True, method='approx')\n",
    "print(f\"\"\"Test statistic: {wsr_out.statistic:.3f}. p-val: {wsr_out.pvalue:.3f}.\"\"\")"
   ]
  },
  {
   "cell_type": "markdown",
   "metadata": {},
   "source": [
    "### ANOVA"
   ]
  },
  {
   "cell_type": "code",
   "execution_count": null,
   "metadata": {},
   "outputs": [],
   "source": [
    "ols('MPG_city ~ C(Cylinders, Treatment)', data=Cars93).fit() # anova model\n",
    "ols('MPG_city ~ Cylinders', data=Cars93).fit() # regression model"
   ]
  },
  {
   "cell_type": "markdown",
   "metadata": {},
   "source": [
    "### One-Way F-test: \n",
    "Is there any significant difference, at 5% level, between the mean decomposition level of the groups?\n",
    "\n",
    "- The observations are **independent** of each other.\n",
    "- The errors are Normally distributed.\n",
    "- The variance within each group is the same.\n",
    "\n",
    "$$\\text{Estimate } \\mu = \\text{Intercept} + \\text{coef(Type)}$$"
   ]
  },
  {
   "cell_type": "code",
   "execution_count": null,
   "metadata": {},
   "outputs": [
    {
     "name": "stdout",
     "output_type": "stream",
     "text": [
      "                            OLS Regression Results                            \n",
      "==============================================================================\n",
      "Dep. Variable:                    org   R-squared:                       0.587\n",
      "Model:                            OLS   Adj. R-squared:                  0.514\n",
      "Method:                 Least Squares   F-statistic:                     7.973\n",
      "Date:                Sun, 04 May 2025   Prob (F-statistic):           8.95e-05\n",
      "Time:                        20:34:41   Log-Likelihood:                 26.655\n",
      "No. Observations:                  34   AIC:                            -41.31\n",
      "Df Residuals:                      28   BIC:                            -32.15\n",
      "Df Model:                           5                                         \n",
      "Covariance Type:            nonrobust                                         \n",
      "====================================================================================\n",
      "                       coef    std err          t      P>|t|      [0.025      0.975]\n",
      "------------------------------------------------------------------------------------\n",
      "Intercept            2.8950      0.050     58.248      0.000       2.793       2.997\n",
      "type[T.Control]     -0.2917      0.070     -4.150      0.000      -0.436      -0.148\n",
      "type[T.Enroflox]    -0.1850      0.070     -2.632      0.014      -0.329      -0.041\n",
      "type[T.Fenbenda]    -0.0617      0.070     -0.877      0.388      -0.206       0.082\n",
      "type[T.Ivermect]     0.1067      0.070      1.518      0.140      -0.037       0.251\n",
      "type[T.Spiramyc]    -0.0400      0.079     -0.509      0.615      -0.201       0.121\n",
      "==============================================================================\n",
      "Omnibus:                        2.172   Durbin-Watson:                   2.146\n",
      "Prob(Omnibus):                  0.338   Jarque-Bera (JB):                1.704\n",
      "Skew:                          -0.545   Prob(JB):                        0.427\n",
      "Kurtosis:                       2.876   Cond. No.                         6.71\n",
      "==============================================================================\n",
      "\n",
      "Notes:\n",
      "[1] Standard Errors assume that the covariance matrix of the errors is correctly specified.\n",
      "            df    sum_sq   mean_sq         F   PR(>F)\n",
      "type       5.0  0.590824  0.118165  7.972558  0.00009\n",
      "Residual  28.0  0.415000  0.014821       NaN      NaN\n"
     ]
    }
   ],
   "source": [
    "# this model set type A as reference level\n",
    "lm_model = ols('org ~ type', data=heifers).fit()\n",
    "anova_tab = sm.stats.anova_lm(lm_model, type=3,)\n",
    "print(lm_model.summary())\n",
    "print(anova_tab)"
   ]
  },
  {
   "cell_type": "markdown",
   "metadata": {},
   "source": [
    "Set Reference Leve $\\Leftrightarrow$ The coefficient of type A is zero in the model $\\Leftrightarrow$ The first one in factor"
   ]
  },
  {
   "cell_type": "code",
   "execution_count": null,
   "metadata": {},
   "outputs": [],
   "source": [
    "locate_df = pd.read_table(path + \"data/locate.txt\", delimiter=\"\\\\s+\")\n",
    "locate_df.replace({'F': '3-F', 'M': '2-M', 'R': '1-R'}, inplace=True)\n",
    "locate_lm = ols('sales ~ C(location, Treatment)', data=locate_df).fit()\n",
    "anova_tab = sm.stats.anova_lm(locate_lm, type=3,)\n",
    "print(anova_tab)"
   ]
  },
  {
   "cell_type": "markdown",
   "metadata": {},
   "source": [
    "**Check Assumptions**"
   ]
  },
  {
   "cell_type": "code",
   "execution_count": null,
   "metadata": {},
   "outputs": [],
   "source": [
    "f, axs = plt.subplots(1, 2, figsize=(8,4))\n",
    "tmp = plt.subplot(121)\n",
    "lm_model.resid.hist()\n",
    "tmp = plt.subplot(122)\n",
    "sm.qqplot(lm_model.resid, line=\"q\", ax=tmp)"
   ]
  },
  {
   "cell_type": "markdown",
   "metadata": {},
   "source": [
    "### Comparing specific groups"
   ]
  },
  {
   "cell_type": "code",
   "execution_count": null,
   "metadata": {},
   "outputs": [],
   "source": [
    "lm_model.params"
   ]
  },
  {
   "cell_type": "code",
   "execution_count": null,
   "metadata": {},
   "outputs": [],
   "source": [
    "est1  = lm_model.params.iloc[2] - lm_model.params.iloc[1]\n",
    "MSW = lm_model.mse_resid\n",
    "df = lm_model.df_resid\n",
    "t = -stats.t.ppf(0.025, df)\n",
    "\n",
    "lower_ci = est1 - t*np.sqrt(MSW * (1/6 + 1/6))\n",
    "upper_ci = est1 + t*np.sqrt(MSW * (1/6 + 1/6))\n",
    "print(f\"\"\"The 95% CI for the diff. between Enrofloxacin and control is ({lower_ci:.3f}, {upper_ci:.3f}).\"\"\") "
   ]
  },
  {
   "cell_type": "markdown",
   "metadata": {},
   "source": [
    "### Sub-group and Contrast Estimation"
   ]
  },
  {
   "cell_type": "code",
   "execution_count": null,
   "metadata": {},
   "outputs": [],
   "source": [
    "c1 = np.array([-1, 0.5, 0.5])\n",
    "n_vals = np.array([6, 6, 6,])\n",
    "L = np.sum(c1 * lm_model.params.iloc[2:5])"
   ]
  },
  {
   "cell_type": "code",
   "execution_count": null,
   "metadata": {},
   "outputs": [],
   "source": [
    "MSW = lm_model.mse_resid\n",
    "df = lm_model.df_resid\n",
    "t = -stats.t.ppf(0.025, df)\n",
    "se1 = np.sqrt(MSW*np.sum(c1**2 / n_vals))"
   ]
  },
  {
   "cell_type": "code",
   "execution_count": null,
   "metadata": {},
   "outputs": [],
   "source": [
    "lower_ci = L - t*se1\n",
    "upper_ci = L + t*se1\n",
    "print(f\"\"\"The 95% CI for the diff. between the two groups is ({lower_ci:.3f}, {upper_ci:.3f}).\"\"\") "
   ]
  },
  {
   "cell_type": "markdown",
   "metadata": {},
   "source": [
    "Estimate the confidence interval for a contrast comparing higher education to non-higher education\n",
    "(i.e. Medu = 4 vs. Medu = 1|2|3)"
   ]
  },
  {
   "cell_type": "code",
   "execution_count": 10,
   "metadata": {},
   "outputs": [
    {
     "name": "stdout",
     "output_type": "stream",
     "text": [
      "The 95% CI for the diff. between the two groups is (0.746, 2.133).\n"
     ]
    }
   ],
   "source": [
    "lm_model = ols('G3 ~ C(Medu, Treatment)', data=stud_perf3).fit()\n",
    "\n",
    "\n",
    "c1 = np.array([-1/3, -1/3, -1/3, 1])\n",
    "\n",
    "# get the number of students in each group\n",
    "n_vals = []\n",
    "for i in range(1,5):\n",
    "    l = len(stud_perf3[stud_perf3.Medu==i])\n",
    "    n_vals.append(l)\n",
    "\n",
    "# append 0 since the estimate of beta 1 is 0 (Since it is reference level)\n",
    "# [1:] to remove the intercept \n",
    "est_params = np.append([0], lm_model.params.to_numpy()[1:])\n",
    "\n",
    "L = np.sum(c1 * est_params)\n",
    "MSW = lm_model.mse_resid\n",
    "df = lm_model.df_resid\n",
    "t = -stats.t.ppf(0.025, df)\n",
    "se1 = np.sqrt(MSW*np.sum(c1**2 / n_vals))\n",
    "lower_ci = L - t*se1\n",
    "upper_ci = L + t*se1\n",
    "print(f\"\"\"The 95% CI for the diff. between the two groups is ({lower_ci:.3f}, {upper_ci:.3f}).\"\"\") "
   ]
  },
  {
   "cell_type": "markdown",
   "metadata": {},
   "source": [
    "### Bonferroni Correction\n",
    "Set confidential level to be $(1 - \\alpha / m)$"
   ]
  },
  {
   "cell_type": "code",
   "execution_count": null,
   "metadata": {},
   "outputs": [],
   "source": [
    "print(locate_lm.summary(alpha=0.05/2))"
   ]
  },
  {
   "cell_type": "markdown",
   "metadata": {},
   "source": [
    "### Multiple Comparisons"
   ]
  },
  {
   "cell_type": "markdown",
   "metadata": {},
   "source": [
    "#### TukeyHSD\n",
    "\n",
    "- Correcting for multiple comparisons\n",
    "- Construct confidence intervals for **all** pairwise comparisons\n",
    "- **Shorter** confidence intervals than a Bonferroni correction for all pairwise comparisons.\n",
    "\n",
    "$$H_0: \\mu_X = \\mu_Y$$"
   ]
  },
  {
   "cell_type": "code",
   "execution_count": null,
   "metadata": {},
   "outputs": [],
   "source": [
    "import statsmodels.stats.multicomp as mc\n",
    "\n",
    "cp = mc.MultiComparison(heifers.org, heifers.type)\n",
    "tk = cp.tukeyhsd()\n",
    "print(tk)"
   ]
  },
  {
   "cell_type": "markdown",
   "metadata": {},
   "source": [
    "#### Kruskal-Wallis Procedure\n",
    "\n",
    "- If the assumptions of the ANOVA procedure are not met\n",
    "- Generalisation of the Wilcoxon Rank-Sum test for 2 independent samples.\n",
    "- This test should only be used if $n_i \\geq 5$ for all groups.\n",
    "\n",
    "$H_0:$ All groups follow the same distribution\n",
    "\n",
    "$H_1:$ At least one of the groups’ distribution differs from another by a location shift."
   ]
  },
  {
   "cell_type": "code",
   "execution_count": null,
   "metadata": {},
   "outputs": [],
   "source": [
    "out = [x[1] for x in heifers.org.groupby(heifers.type)]\n",
    "kw_out = stats.kruskal(*out)\n",
    "print(f\"\"\"The test statistic is {kw_out.statistic:.3f}, the p-value is {kw_out.pvalue:.3f}.\"\"\")"
   ]
  },
  {
   "cell_type": "code",
   "execution_count": null,
   "metadata": {},
   "outputs": [],
   "source": [
    "[x[1] for x in heifers.org.groupby(heifers.type)]"
   ]
  }
 ],
 "metadata": {
  "kernelspec": {
   "display_name": "myenv",
   "language": "python",
   "name": "python3"
  },
  "language_info": {
   "codemirror_mode": {
    "name": "ipython",
    "version": 3
   },
   "file_extension": ".py",
   "mimetype": "text/x-python",
   "name": "python",
   "nbconvert_exporter": "python",
   "pygments_lexer": "ipython3",
   "version": "3.12.4"
  }
 },
 "nbformat": 4,
 "nbformat_minor": 2
}
