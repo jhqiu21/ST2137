{
 "cells": [
  {
   "cell_type": "markdown",
   "id": "89aabfe1",
   "metadata": {},
   "source": [
    "### Simulation"
   ]
  },
  {
   "cell_type": "markdown",
   "id": "57ec7ac6",
   "metadata": {},
   "source": [
    "- [Generate RVs](#generate-observations)\n",
    "- [WorkFlow](#workflow)\n",
    "- [Monte-Carlo Integration](#monte-carlo-integration)\n",
    "- [CI](#confidence-intervals)\n",
    "- [Type I Error](#type-i-error)"
   ]
  },
  {
   "cell_type": "markdown",
   "id": "a0359982",
   "metadata": {},
   "source": [
    "#### Generating Random Variables"
   ]
  },
  {
   "cell_type": "code",
   "execution_count": 1,
   "id": "7fca87c2",
   "metadata": {},
   "outputs": [],
   "source": [
    "import numpy as np\n",
    "import pandas as pd\n",
    "from scipy.stats import binom, gamma, norm, poisson, uniform\n",
    "from scipy import stats\n",
    "\n",
    "# Random Number Generator\n",
    "rng = np.random.default_rng(2137)"
   ]
  },
  {
   "cell_type": "markdown",
   "id": "9a339bd7",
   "metadata": {},
   "source": [
    "- Gemma($\\alpha, \\lambda$): `gamma.rvs(alpha, lambda)`\n",
    "- Possion($\\lambda$): `poisson.rvs(lambda)`\n",
    "- Bin($n, p$): `binom.rvs(n, p)`\n",
    "- $N(\\mu, \\sigma^2)$: `norm.rvs(mu, sigma, ...)`\n",
    "- Uniform($a, b$): `uniform.rvs(a, b)`"
   ]
  },
  {
   "cell_type": "code",
   "execution_count": null,
   "id": "b4709ec7",
   "metadata": {},
   "outputs": [],
   "source": [
    "gamma.rvs(2, 3, size=50, random_state=rng)"
   ]
  },
  {
   "cell_type": "code",
   "execution_count": null,
   "id": "ba2d4d95",
   "metadata": {},
   "outputs": [],
   "source": [
    "poisson.rvs(1.3, size=50, random_state=rng)"
   ]
  },
  {
   "cell_type": "code",
   "execution_count": null,
   "id": "35a245d5",
   "metadata": {},
   "outputs": [],
   "source": [
    "binom.rvs(2, 0.3, size=50, random_state=rng)"
   ]
  },
  {
   "cell_type": "code",
   "execution_count": null,
   "id": "e3a6cc87",
   "metadata": {},
   "outputs": [],
   "source": [
    "norm.rvs(0, 1, size=50000, random_state=rng)"
   ]
  },
  {
   "cell_type": "code",
   "execution_count": null,
   "id": "236d1158",
   "metadata": {},
   "outputs": [],
   "source": [
    "uniform.rvs(0, 1, size=50000, random_state=rng)"
   ]
  },
  {
   "cell_type": "markdown",
   "id": "2a819779",
   "metadata": {},
   "source": [
    "#### WorkFlow\n",
    "- Generate RVs\n",
    "- Write `oneSample()` simulation function\n",
    "- Repeat simulation n times\n",
    "- Get the `mean()` and `sd()` value and construct CI"
   ]
  },
  {
   "cell_type": "code",
   "execution_count": null,
   "id": "f28d8a67",
   "metadata": {},
   "outputs": [],
   "source": [
    "rng = np.random.default_rng(2137)\n",
    "def oneSample():\n",
    "    # ...\n",
    "    return # ...\n",
    "n = 1000\n",
    "samples = np.array([oneSample() for i in range(n)])\n",
    "X_bar = np.mean(samples)\n",
    "SD = np.std(samples)\n",
    "z = stats.norm.ppf(0.975)\n",
    "t = stats.t.ppf(0.975, 10) # df\n",
    "upper_ci = X_bar + z * SD / np.sqrt(n)\n",
    "lower_ci = X_bar + z * SD / np.sqrt(n)\n",
    "print(\"Confidential Interval is (\" + lower_ci + \",\" + upper_ci + \")\")"
   ]
  },
  {
   "cell_type": "markdown",
   "id": "ce9a9d26",
   "metadata": {},
   "source": [
    "#### Monte-Carlo Integration\n",
    "$$E(h(X))= \\int_{-\\infty}^{\\infty} h(x) f(x) \\text{d}x\n",
    "$$\n",
    "where $f(x)$ is a pdf, $X \\sim f$"
   ]
  },
  {
   "cell_type": "code",
   "execution_count": null,
   "id": "59163b1e",
   "metadata": {},
   "outputs": [],
   "source": [
    "X = uniform.rvs(0, 1, size=50000, random_state=rng)\n",
    "hX = np.exp(2*X)\n",
    "hX.mean()"
   ]
  },
  {
   "cell_type": "markdown",
   "id": "1d187036",
   "metadata": {},
   "source": [
    "#### Confidence Intervals\n",
    "$$\n",
    "\\bar{X} \\pm t_{0.025} s/\\sqrt{n}\n",
    "$$\n",
    "Check if it still works if the data is from an asymmetric distribution: $Pois(0.5)$."
   ]
  },
  {
   "cell_type": "code",
   "execution_count": null,
   "id": "c5420e37",
   "metadata": {},
   "outputs": [],
   "source": [
    "output_vec = np.zeros(100)\n",
    "n = 20\n",
    "lambda_ = 0.5\n",
    "for i in range(100):\n",
    "    X = poisson.rvs(0.5, size=15, random_state=rng)\n",
    "    Xbar = X.mean()\n",
    "    s = X.std()\n",
    "    t = norm.ppf(0.975)\n",
    "    CI = [Xbar - t*s/np.sqrt(n), Xbar + t*s/np.sqrt(n)]\n",
    "    if CI[0] < lambda_ and CI[1] > lambda_:\n",
    "        output_vec[i] = 1\n",
    "output_vec.mean()"
   ]
  },
  {
   "cell_type": "markdown",
   "id": "a72f61f7",
   "metadata": {},
   "source": [
    "#### Type I Error\n",
    "\n",
    "Check if we falsely reject the null hypothesis 10% of the time if we perform it at 10% significance level"
   ]
  },
  {
   "cell_type": "code",
   "execution_count": null,
   "id": "4518842b",
   "metadata": {},
   "outputs": [],
   "source": [
    "def generate_one_test(n=100):\n",
    "    X = norm.rvs(0, 1, size=n, random_state=rng)\n",
    "    Y = norm.rvs(0, 1, size=n, random_state=rng)\n",
    "    t_test = stats.ttest_ind(X, Y, equal_var=True)\n",
    "    if t_test.pvalue < 0.10:\n",
    "        return 1\n",
    "    else:\n",
    "        return 0\n",
    "output_vec = np.array([generate_one_test() for j in range(2000)])\n",
    "output_vec.mean()"
   ]
  }
 ],
 "metadata": {
  "kernelspec": {
   "display_name": "myenv",
   "language": "python",
   "name": "python3"
  },
  "language_info": {
   "codemirror_mode": {
    "name": "ipython",
    "version": 3
   },
   "file_extension": ".py",
   "mimetype": "text/x-python",
   "name": "python",
   "nbconvert_exporter": "python",
   "pygments_lexer": "ipython3",
   "version": "3.12.4"
  }
 },
 "nbformat": 4,
 "nbformat_minor": 5
}
